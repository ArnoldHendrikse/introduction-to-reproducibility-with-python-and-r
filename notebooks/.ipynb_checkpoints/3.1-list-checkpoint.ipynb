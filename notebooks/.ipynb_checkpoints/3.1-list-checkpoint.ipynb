{
 "cells": [
  {
   "cell_type": "markdown",
   "metadata": {},
   "source": [
    "---\n",
    "# Lists (10 min / 10 min exercises)\n",
    "#### Learning objectives\n",
    "\n",
    "+ Explain why programs need collections of values.\n",
    "+ Write programs that creates lists, index them, slice them, and modify them through assignment and method calls."
   ]
  },
  {
   "cell_type": "markdown",
   "metadata": {},
   "source": [
    "## **1. A list stores many values in a single structure:**\n",
    "\n",
    "+ Doing calculations with a hundred variables called `pressure01`, `pressure02` would be at least as slow as doing them by hand.\n",
    "+ Use a _list_ to store many values together:\n",
    "    + Contained within square brackets `[...]`.\n",
    "    + Values separated by commas `,`.\n",
    "+ Use `len` to find out how many values are in a list."
   ]
  },
  {
   "cell_type": "markdown",
   "metadata": {},
   "source": [
    "## **2. Use an item's index to fetch it from a list:**"
   ]
  },
  {
   "cell_type": "markdown",
   "metadata": {},
   "source": [
    "## **3. Lists' values can be replaced by assigning to them:**\n",
    "+ Use an index expression on the left of assignment to replace a value\n",
    "\n"
   ]
  },
  {
   "cell_type": "markdown",
   "metadata": {},
   "source": [
    "## **4. Appending items to a list lenghthens it:**\n",
    "+ Use `list_name.append` to add items to the end of a list"
   ]
  },
  {
   "cell_type": "markdown",
   "metadata": {},
   "source": [
    "+ `Append` is a _method_ of lists.\n",
    "    - like a function, but attach to a particular object\n",
    "+ `Extend` is similar methods as `append`, but it allows you to combine two list. For example:"
   ]
  },
  {
   "cell_type": "markdown",
   "metadata": {},
   "source": [
    "## **5. Use `del` to remove items from a list entirely**:\n",
    "+ We use `del list_name[index]` to remove an element from a list\n",
    "+ `del` is not a function nor method, but a statement in the language"
   ]
  },
  {
   "cell_type": "code",
   "execution_count": 19,
   "metadata": {},
   "outputs": [
    {
     "data": {
      "text/plain": [
       "[2, 3, 5, 7]"
      ]
     },
     "execution_count": 19,
     "metadata": {},
     "output_type": "execute_result"
    }
   ],
   "source": [
    "primes = [2,3,5,7,9]\n",
    "del primes[-1]\n",
    "primes"
   ]
  },
  {
   "cell_type": "markdown",
   "metadata": {},
   "source": [
    "## **6. The empty list contains no values:**\n",
    "+ Use `[]` on its own to represent a list that doesn't contain any values.\n",
    "+ Helpful as a starting point for collecting values (next episode will be clarify)"
   ]
  },
  {
   "cell_type": "markdown",
   "metadata": {},
   "source": [
    "## **7. List may contain values of different types:**\n",
    "+ A single list may contain numbers, strings, and anything else.\n"
   ]
  },
  {
   "cell_type": "markdown",
   "metadata": {},
   "source": [
    "## 8. Indexing beyond the end of the collection is an error:\n",
    "+ Python reports an error `IndexError` if we attempt to access a value that doesn't exist"
   ]
  },
  {
   "cell_type": "code",
   "execution_count": 1,
   "metadata": {},
   "outputs": [
    {
     "ename": "IndexError",
     "evalue": "list index out of range",
     "output_type": "error",
     "traceback": [
      "\u001b[1;31m---------------------------------------------------------------------------\u001b[0m",
      "\u001b[1;31mIndexError\u001b[0m                                Traceback (most recent call last)",
      "\u001b[1;32m<ipython-input-1-a8bbb7b6aac1>\u001b[0m in \u001b[0;36m<module>\u001b[1;34m\u001b[0m\n\u001b[0;32m      1\u001b[0m \u001b[0mmy_list\u001b[0m \u001b[1;33m=\u001b[0m \u001b[1;33m[\u001b[0m\u001b[1;34m'eggs'\u001b[0m\u001b[1;33m,\u001b[0m \u001b[1;34m'beacon'\u001b[0m\u001b[1;33m,\u001b[0m \u001b[1;34m'bread'\u001b[0m\u001b[1;33m]\u001b[0m\u001b[1;33m\u001b[0m\u001b[1;33m\u001b[0m\u001b[0m\n\u001b[1;32m----> 2\u001b[1;33m \u001b[0mprint\u001b[0m\u001b[1;33m(\u001b[0m\u001b[0mmy_list\u001b[0m\u001b[1;33m[\u001b[0m\u001b[1;36m3\u001b[0m\u001b[1;33m]\u001b[0m\u001b[1;33m)\u001b[0m\u001b[1;33m\u001b[0m\u001b[1;33m\u001b[0m\u001b[0m\n\u001b[0m",
      "\u001b[1;31mIndexError\u001b[0m: list index out of range"
     ]
    }
   ],
   "source": [
    "my_list = ['eggs', 'beacon', 'bread']\n",
    "print(my_list[3])"
   ]
  },
  {
   "cell_type": "markdown",
   "metadata": {},
   "source": [
    "#### <i style=\"color:red\">**EXERCISES - 10 min**</i>"
   ]
  },
  {
   "cell_type": "markdown",
   "metadata": {},
   "source": [
    "+ _1. Fill in the blanks so that the program below produces the output shown._\n",
    "\n",
    "```python\n",
    "values = ____\n",
    "values.____(1)\n",
    "values.____(3)\n",
    "values.____(5)\n",
    "print('first time:', values)\n",
    "values = values[____]\n",
    "print('second time:', values)\n",
    "```\n",
    "\n",
    "+ Expected Output:\n",
    "    ```\n",
    "    first time: [1,3,5]\n",
    "    second time: [3,5]\n",
    "    ```\n",
    "---"
   ]
  },
  {
   "cell_type": "markdown",
   "metadata": {},
   "source": [
    "+ _2. Given this:_\n",
    "\n",
    "```python\n",
    "print('string to list:', list('tin'))\n",
    "print('list to string:', ''.join(['g', 'o', 'l', 'd']))\n",
    "```\n",
    "\n",
    "\n",
    "+ _2.1. What does `list('some string') do?_\n",
    "\n",
    "+ _2.2. What does `'-'.join(['x', 'y', 'z'])` generate?_\n",
    "___"
   ]
  },
  {
   "cell_type": "markdown",
   "metadata": {},
   "source": [
    "+ _3. What does the following program print?_\n",
    "\n",
    "```python\n",
    "element = 'CODING4ALL'\n",
    "print(element[-1])\n",
    "```\n",
    "\n",
    "+ 3.1. How does Python interpret a negative index?\n",
    "+ 3.2. If a list or string has N elements, what is the most negative index that can safely be used with it, and what location does that index represent?\n",
    "+ 3.3. If values is a list, what does del values[-1] do?\n",
    "+ 3.4. How can you display all elements but the last one without changing values? (Hint: you will need to combine slicing and negative indexing.)\n",
    "___"
   ]
  }
 ],
 "metadata": {
  "kernelspec": {
   "display_name": "Python 3",
   "language": "python",
   "name": "python3"
  },
  "language_info": {
   "codemirror_mode": {
    "name": "ipython",
    "version": 3
   },
   "file_extension": ".py",
   "mimetype": "text/x-python",
   "name": "python",
   "nbconvert_exporter": "python",
   "pygments_lexer": "ipython3",
   "version": "3.8.5"
  }
 },
 "nbformat": 4,
 "nbformat_minor": 4
}
