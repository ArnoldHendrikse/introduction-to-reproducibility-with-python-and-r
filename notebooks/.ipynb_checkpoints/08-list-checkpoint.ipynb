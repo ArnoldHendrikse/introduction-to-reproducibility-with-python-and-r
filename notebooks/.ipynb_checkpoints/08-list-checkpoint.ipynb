{
 "cells": [
  {
   "cell_type": "markdown",
   "metadata": {},
   "source": [
    "---\n",
    "# D. LISTS (10 min / 10 min exercises)\n",
    "#### Learning objectives\n",
    "\n",
    "+ Explain why programs need collections of values.\n",
    "+ Write programs that creates lists, index them, slice them, and modify them through assignment and method calls."
   ]
  },
  {
   "cell_type": "markdown",
   "metadata": {},
   "source": [
    "## **1. A list stores many values in a single structure:**\n",
    "\n",
    "+ Doing calculations with a hundred variables called `pressure01`, `pressure02` would be at least as slow as doing them by hand.\n",
    "+ Use a _list_ to store many values together:\n",
    "    + Contained within square brackets `[...]`.\n",
    "    + Values separated by commas `,`.\n",
    "+ Use `len` to find out how many values are in a list."
   ]
  },
  {
   "cell_type": "markdown",
   "metadata": {},
   "source": [
    "## **2. Use an item's index to fetch it from a list:**"
   ]
  },
  {
   "cell_type": "markdown",
   "metadata": {},
   "source": [
    "## **3. Lists' values can be replaced by assigning to them:**\n",
    "+ Use an index expression on the left of assignment to replace a value\n",
    "\n"
   ]
  },
  {
   "cell_type": "code",
   "execution_count": 16,
   "metadata": {},
   "outputs": [
    {
     "name": "stdout",
     "output_type": "stream",
     "text": [
      "[10, 33, 500, 54]\n"
     ]
    }
   ],
   "source": [
    "print(ages_participants)"
   ]
  },
  {
   "cell_type": "markdown",
   "metadata": {},
   "source": [
    "## **4. Appending items to a list lenghthens it:**\n",
    "+ Use `list_name.append` to add items to the end of a list"
   ]
  },
  {
   "cell_type": "markdown",
   "metadata": {},
   "source": [
    "+ `Append` is a _method_ of lists.\n",
    "    - like a function, but attach to a particular object\n",
    "+ `Extend` is similar methods as `append`, but it allows you to combine two list. For example:"
   ]
  },
  {
   "cell_type": "markdown",
   "metadata": {},
   "source": [
    "## **5. Use `del` to remove items from a list entirely**:\n",
    "+ We use `del list_name[index]` to remove an element from a list\n",
    "+ `del` is not a function nor method, but a statement in the language"
   ]
  },
  {
   "cell_type": "code",
   "execution_count": 19,
   "metadata": {},
   "outputs": [
    {
     "data": {
      "text/plain": [
       "[2, 3, 5, 7]"
      ]
     },
     "execution_count": 19,
     "metadata": {},
     "output_type": "execute_result"
    }
   ],
   "source": [
    "primes = [2,3,5,7,9]\n",
    "del primes[-1]\n",
    "primes"
   ]
  },
  {
   "cell_type": "markdown",
   "metadata": {},
   "source": [
    "## **6. The empty list contains no values:**\n",
    "+ Use `[]` on its own to represent a list that doesn't contain any values.\n",
    "+ Helpful as a starting point for collecting values (next episode will be clarify)"
   ]
  },
  {
   "cell_type": "markdown",
   "metadata": {},
   "source": [
    "## **7. List may contain values of different types:**\n",
    "+ A single list may contain numbers, strings, and anything else.\n"
   ]
  },
  {
   "cell_type": "markdown",
   "metadata": {},
   "source": [
    "<i style=\"color:red\">EXERCISES</i>."
   ]
  },
  {
   "cell_type": "code",
   "execution_count": null,
   "metadata": {},
   "outputs": [],
   "source": []
  }
 ],
 "metadata": {
  "kernelspec": {
   "display_name": "Python 3",
   "language": "python",
   "name": "python3"
  },
  "language_info": {
   "codemirror_mode": {
    "name": "ipython",
    "version": 3
   },
   "file_extension": ".py",
   "mimetype": "text/x-python",
   "name": "python",
   "nbconvert_exporter": "python",
   "pygments_lexer": "ipython3",
   "version": "3.8.5"
  }
 },
 "nbformat": 4,
 "nbformat_minor": 4
}
