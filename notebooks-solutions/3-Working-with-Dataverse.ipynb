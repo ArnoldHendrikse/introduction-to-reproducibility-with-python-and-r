{
 "cells": [
  {
   "cell_type": "markdown",
   "id": "e8aecf8d-12a2-4165-844f-b14fbe94b3ac",
   "metadata": {},
   "source": [
    "## 🐍 Introduction to Reproducibility with Python\n",
    "\n",
    "*Notebook by [Pedro V Hernandez Serrano](https://github.com/pedrohserrano)*\n"
   ]
  },
  {
   "cell_type": "markdown",
   "id": "bea98176-0be0-4587-aff9-ff758a5286ea",
   "metadata": {
    "tags": []
   },
   "source": [
    "# 3. Managing Data with pyDataverse\n",
    "* [3.1. Connection to Dataverse API](#3.1)\n",
    "* [3.2. Uploading data](#3.2)\n",
    "* [3.3. Automating uploads](#3.3)"
   ]
  },
  {
   "cell_type": "markdown",
   "id": "90e19cc1-bbdd-4a1e-909f-44c95d226712",
   "metadata": {
    "tags": []
   },
   "source": [
    "---\n",
    "## 3.1. Connection to Dataverse API\n",
    "<a id=\"3.1\">"
   ]
  },
  {
   "cell_type": "markdown",
   "id": "64e4f43c-60e4-40ee-8a79-4e35f70591fe",
   "metadata": {
    "tags": []
   },
   "source": [
    "**[pyDataverse](https://pydataverse.readthedocs.io/en/latest/)** is a Python module for Dataverse you can use for:\n",
    "\n",
    "- Accessing the Dataverse API’s\n",
    "- Manipulating and using the Dataverse (meta)data - Dataverses, Datasets, Datafiles\n",
    "- Install\n",
    "\n",
    "> `!pip install pyDataverse`"
   ]
  },
  {
   "cell_type": "markdown",
   "id": "5719f4e0-1889-4ca6-aeea-156bab20c3d4",
   "metadata": {},
   "source": [
    "Connecting to Dataverse via pyDataverse involves initializing a `NativeApi` object with the base URL of your Dataverse installation and an API token for authentication.\n",
    "\n",
    "2 main python parameters are needed to initialize the connection: \n",
    "- **`API_TOKEN`** (obtained from DataverseNL)\n",
    "- **`DATAVERSE`** (the link to the desired working dataverse environment)"
   ]
  },
  {
   "cell_type": "markdown",
   "id": "9ec705b1-cd13-42c2-b661-2b177f24bee2",
   "metadata": {
    "tags": []
   },
   "source": [
    "Connection:\n",
    "\n",
    "``` Python\n",
    "from pyDataverse.api import NativeApi\n",
    "\n",
    "API_TOKEN = \n",
    "DATAVERSE = \n",
    "\n",
    "# Initialize the API connection\n",
    "BASE_URL = DATAVERSE.split('/dataverse/')[0]\n",
    "api = NativeApi(BASE_URL, API_TOKEN)\n",
    "resp = api.get_info_version()\n",
    "if resp.json()['status'] == 'OK':\n",
    "    print('Successful connection to DataverseNL API!!')\n",
    "else:\n",
    "    print('Failed to connect to DataverseNL API.')\n",
    "\n",
    "```"
   ]
  },
  {
   "cell_type": "markdown",
   "id": "a224d210-086b-4cc9-a723-c63c58b06d8d",
   "metadata": {},
   "source": [
    "---\n",
    "**IMPORTANT:**\n",
    "Secrets (such as Tokens should be in a separate config file and never pushed to Github\n",
    "\n",
    "- Create a config file\n",
    "`config.json`\n",
    "\n",
    "- Add the parameters in a python dictionary format `{ }`"
   ]
  },
  {
   "cell_type": "code",
   "execution_count": null,
   "id": "53678ec7-5ca9-43be-870a-d8152e57dcfc",
   "metadata": {
    "tags": []
   },
   "outputs": [],
   "source": [
    "import json\n",
    "from pyDataverse.api import NativeApi\n",
    "\n",
    "with open('config.json', 'r') as config_file:\n",
    "    config = json.load(config_file)\n",
    "\n",
    "API_TOKEN = config['API_TOKEN']\n",
    "DATAVERSE = config['DATAVERSE']\n",
    "\n",
    "# Initialize the API connection\n",
    "BASE_URL = DATAVERSE.split('/dataverse/')[0]\n",
    "api = NativeApi(BASE_URL, API_TOKEN)\n",
    "resp = api.get_info_version()\n",
    "if resp.json()['status'] == 'OK':\n",
    "    print('Successful connection to DataverseNL API!!')\n",
    "else:\n",
    "    print('Failed to connect to DataverseNL API.')"
   ]
  },
  {
   "cell_type": "markdown",
   "id": "047abb43-99b0-4ed0-96d3-f437c50020c6",
   "metadata": {
    "tags": []
   },
   "source": [
    "---\n",
    "## 3.2. Uploading Data\n",
    "<a id=\"3.2\">"
   ]
  },
  {
   "cell_type": "markdown",
   "id": "8152257a-7602-4a76-85f5-be335052b8a6",
   "metadata": {},
   "source": [
    "After establishing a connection, the next step is to upload datasets. This involves creating `Datafile` instances and uploading them using your `NativeApi` connection.\n",
    "\n",
    "We need 2 more parameters to do the upload\n",
    "- **`DOI`** (obtained from the dataset entry we want to upload data to)\n",
    "- **`PATH_TO_FILE`** (path directory where the data file is)"
   ]
  },
  {
   "cell_type": "code",
   "execution_count": null,
   "id": "8d801809-c330-4380-82f2-618111924c69",
   "metadata": {
    "tags": []
   },
   "outputs": [],
   "source": [
    "from pyDataverse.models import Datafile\n",
    "\n",
    "with open('config.json', 'r') as config_file:\n",
    "    config = json.load(config_file)\n",
    "\n",
    "DOI = config['DOI']\n",
    "PATH_TO_FILE = config['PATH_TO_FILE']\n",
    "                 \n",
    "# Upload the file to Dataverse\n",
    "df = Datafile()\n",
    "df.set({\"pid\": DOI, \"filename\": PATH_TO_FILE})\n",
    "resp = api.upload_datafile(DOI, PATH_TO_FILE)\n",
    "if resp.status_code == 200:\n",
    "    print(f\"File {PATH_TO_FILE} -> status: {resp.json()['status']}\")\n",
    "else:\n",
    "    print(f\"Failed to upload {PATH_TO_FILE}. Error: {resp.content}\")"
   ]
  },
  {
   "cell_type": "markdown",
   "id": "a659ba61-312b-4452-a4fd-0d983e67b44c",
   "metadata": {
    "tags": []
   },
   "source": [
    "---\n",
    "## 3.3. Automating uploads\n",
    "<a id=\"3.3\">"
   ]
  },
  {
   "cell_type": "markdown",
   "id": "9324a457-8f4e-4e01-90d8-c5b2297b58b9",
   "metadata": {},
   "source": [
    "To automate the process of uploading datasets to Dataverse, we create a standalone Python script that reads the parameters `config.json` ."
   ]
  },
  {
   "cell_type": "markdown",
   "id": "fd931333-bdbf-44b5-a7af-50e1502be7eb",
   "metadata": {
    "tags": []
   },
   "source": [
    "Standalone Python:\n",
    "    \n",
    "```Python\n",
    "import json\n",
    "from pyDataverse.api import NativeApi\n",
    "from pyDataverse.models import Datafile\n",
    "\n",
    "with open('config.json', 'r') as config_file:\n",
    "    config = json.load(config_file)\n",
    "\n",
    "API_TOKEN = config['API_TOKEN']\n",
    "DATAVERSE = config['DATAVERSE']\n",
    "DOI = config['DOI']\n",
    "PATH_TO_FILE = config['PATH_TO_FILE']\n",
    "\n",
    "# Initialize the API connection\n",
    "BASE_URL = DATAVERSE.split('/dataverse/')[0]\n",
    "api = NativeApi(BASE_URL, API_TOKEN)\n",
    "resp = api.get_info_version()\n",
    "if resp.json()['status'] == 'OK':\n",
    "    print('Successful connection to DataverseNL API!!')\n",
    "else:\n",
    "    print('Failed to connect to DataverseNL API.')\n",
    "    \n",
    "# Upload the file to Dataverse\n",
    "df = Datafile()\n",
    "df.set({\"pid\": DOI, \"filename\": PATH_TO_FILE})\n",
    "resp = api.upload_datafile(DOI, PATH_TO_FILE)\n",
    "if resp.status_code == 200:\n",
    "    print(f\"File {PATH_TO_FILE} -> status: {resp.json()['status']}\")\n",
    "else:\n",
    "    print(f\"Failed to upload {dataset_file_path}. Error: {resp.content}\")\n",
    "```"
   ]
  },
  {
   "cell_type": "markdown",
   "id": "093e5b44-cc8f-4764-9c1d-0eea79b30a87",
   "metadata": {},
   "source": [
    "## 🙌🏼 Hands-on"
   ]
  },
  {
   "cell_type": "markdown",
   "id": "b0a2ecc6-dbfa-4171-9279-556fb4fdf687",
   "metadata": {},
   "source": [
    "Create a standalone script that with one command line will perform all the dataset uploading to dataverseNL"
   ]
  },
  {
   "cell_type": "markdown",
   "id": "5d3cab6a-8971-4428-93c0-48b05b7cef36",
   "metadata": {
    "tags": []
   },
   "source": [
    "**Usage:**\n",
    "```bash\n",
    "python upload_dataset_to_dataverseNL.py\n",
    "```"
   ]
  }
 ],
 "metadata": {
  "kernelspec": {
   "display_name": "Python 3 (ipykernel)",
   "language": "python",
   "name": "python3"
  },
  "language_info": {
   "codemirror_mode": {
    "name": "ipython",
    "version": 3
   },
   "file_extension": ".py",
   "mimetype": "text/x-python",
   "name": "python",
   "nbconvert_exporter": "python",
   "pygments_lexer": "ipython3",
   "version": "3.11.5"
  }
 },
 "nbformat": 4,
 "nbformat_minor": 5
}
