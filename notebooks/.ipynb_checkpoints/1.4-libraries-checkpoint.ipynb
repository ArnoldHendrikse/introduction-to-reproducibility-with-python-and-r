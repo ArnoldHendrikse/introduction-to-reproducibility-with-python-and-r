{
 "cells": [
  {
   "cell_type": "markdown",
   "metadata": {},
   "source": [
    "---\n",
    "# Libraries (10 min / 10 min exercises)\n",
    "#### Learning objectives\n",
    "\n",
    "+ Explaining what libraries are and why programmers create and use them.\n",
    "+ Write programs that import and use modules from Python's standard library.\n",
    "+ Find and read documentation for the stadard library interactively (in interpreter) and online."
   ]
  },
  {
   "cell_type": "markdown",
   "metadata": {},
   "source": [
    "## **1. Most of the power of a programming language is in its libraries:**\n",
    "+ A _library_ is a collection of files (called _modules_) that contains functions for use by other programs.\n",
    "    - May also contains data values (e.g. numerical contants) and other things.\n",
    "+ The Python [standard library](https://docs.python.org/3/library/) is an extensive suite of modules that comes with Python itself.\n",
    "+ Many additional libraries are available from [PyPI](https://pypi.python.org/pypi/) (the Python Package Index).\n",
    "    \n",
    "**REMEMBER**: A library is a collection of modules, but the terms are often used interchangeably, especially since many libraries only consist of a single module, so don’t worry if you mix them."
   ]
  },
  {
   "cell_type": "markdown",
   "metadata": {},
   "source": [
    "## **2. A program must import a library module before using it:**\n",
    "\n",
    "+ Use `import` to load a library module into a program's memory.\n",
    "+ Then refer to things from the module as `module_name.thing_name`.\n",
    "    + Python uses `.` to mean 'part of'."
   ]
  },
  {
   "cell_type": "markdown",
   "metadata": {},
   "source": [
    "## **3. Use `help` to learn about the content of a library module:**"
   ]
  },
  {
   "cell_type": "code",
   "execution_count": null,
   "metadata": {},
   "outputs": [],
   "source": [
    "# help(math)"
   ]
  },
  {
   "cell_type": "markdown",
   "metadata": {},
   "source": [
    "## **3. Import specific items from a library to shorten programs:**\n",
    "+ Use `from ... import ....` to load only specific items from a library"
   ]
  },
  {
   "cell_type": "markdown",
   "metadata": {},
   "source": [
    "## **4. Create an alias for a library when importing it to shorten programs:**\n",
    "+ Use `import...as..` to give a library a short _alias_ while importing it.\n",
    "+ Then refer to items in the library using that shortened name."
   ]
  },
  {
   "cell_type": "markdown",
   "metadata": {},
   "source": [
    "#### <i style=\"color:red\">**EXERCISES - 10 min**</i>"
   ]
  },
  {
   "cell_type": "markdown",
   "metadata": {},
   "source": [
    "+ _1. What function from the `math` module can you use to calculate a square root without using `sqrt`?_\n",
    "\n",
    "    + _1b. Since the library contains this function, why does `sqrt` exist?_\n",
    " ___\n",
    "   "
   ]
  },
  {
   "cell_type": "markdown",
   "metadata": {},
   "source": [
    "+ _2. You want to select a random character from a string_\n",
    "```python\n",
    "bases = 'ACTTGCTTGAC'\n",
    "```\n",
    "\n",
    "    + _2.1. Which [standard library](https://docs.python.org/3/library/) module could hep you?_\n",
    "\n",
    "    + _2.2. Which function would you select from that module? Are there alternatives_\n",
    "\n",
    "    + _2.3. Try to write a program that uses the function._\n",
    "___"
   ]
  },
  {
   "cell_type": "markdown",
   "metadata": {},
   "source": [
    "+ _3. When a colleague of yours types help(math), Python reports an error:_\n",
    "\n",
    "```python\n",
    "NameError: name `math` is not defined\n",
    "```\n",
    "---"
   ]
  },
  {
   "cell_type": "markdown",
   "metadata": {},
   "source": [
    "+ _4. Fill in the blanks so that the program below prints 90.0._\n",
    "+ _4.1. Rewrite the program so that it uses import without as._\n",
    "+ _4.2. Which form do you find easier to read?_\n",
    "\n",
    "```python\n",
    "import math as m\n",
    "angle = ____.degrees(____.pi / 2)\n",
    "print(____)\n",
    "```\n",
    "---"
   ]
  },
  {
   "cell_type": "code",
   "execution_count": null,
   "metadata": {},
   "outputs": [],
   "source": []
  }
 ],
 "metadata": {
  "kernelspec": {
   "display_name": "Python 3",
   "language": "python",
   "name": "python3"
  },
  "language_info": {
   "codemirror_mode": {
    "name": "ipython",
    "version": 3
   },
   "file_extension": ".py",
   "mimetype": "text/x-python",
   "name": "python",
   "nbconvert_exporter": "python",
   "pygments_lexer": "ipython3",
   "version": "3.8.5"
  }
 },
 "nbformat": 4,
 "nbformat_minor": 4
}
