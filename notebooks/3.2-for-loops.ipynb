{
 "cells": [
  {
   "cell_type": "markdown",
   "metadata": {},
   "source": [
    "---\n",
    "# For Loops (10 min / 15 min exercises)\n",
    "#### Learning objectives\n",
    "\n",
    "+ Explain what for loops are normally used for.\n",
    "+ Trace the execution of a simple loop and correctly state the values of variables in each iteration.\n",
    "+ Write for loops that use Accumulator pattern to aggregate values."
   ]
  },
  {
   "cell_type": "markdown",
   "metadata": {},
   "source": [
    "## **1. A _for loop_ executes commands once for each value in a collection**:\n",
    "\n",
    "+ Doing calculations on the values in a list one by one is a as painful as working with many different variables.\n",
    "+ A _for loop_ tells Python to execute some statements once fro each value in a list, a character string, or some other collection."
   ]
  },
  {
   "cell_type": "code",
   "execution_count": 3,
   "metadata": {},
   "outputs": [
    {
     "name": "stdout",
     "output_type": "stream",
     "text": [
      "1\n",
      "2\n",
      "3\n",
      "4\n"
     ]
    }
   ],
   "source": [
    "# for each thing in the group, do these operations\n",
    "for number in [1,2,3,4]:\n",
    "    print(number)"
   ]
  },
  {
   "cell_type": "markdown",
   "metadata": {},
   "source": [
    "## **2. A _for_ loop is made up of a _collection_, a _loop variable_, and a _body_:**\n",
    "\n",
    "+ The **_collection_**, `[1,3,5]`, is what the loop is being run on.\n",
    "+ The **_body_**, `print(number)`, specifies what do for each value in the collection.\n",
    "+ The **_loop variable_**, `number`, is what changes for each _iteration_ of the loop. (aka, \"current thing\")"
   ]
  },
  {
   "cell_type": "markdown",
   "metadata": {},
   "source": [
    "## **3. The first line of the _for_ loop must end with a colon `:`, and the body must be indented:**\n",
    "\n",
    "+ The colon at the end of the first line signals the start of a _block_ of statements.\n",
    "+ Python uses indentation rather `{}` or `begin/end` to show _nesting_:\n",
    "    + Any consistent indentation legal, but almost everyone uses **four** spaces. "
   ]
  },
  {
   "cell_type": "markdown",
   "metadata": {},
   "source": [
    "## **4. Loop variable can be called anything**:\n",
    "+ As with all variables, loop variables are:\n",
    "    * Created on demand.\n",
    "    * Meaningless: their names can be anytthing at all."
   ]
  },
  {
   "cell_type": "markdown",
   "metadata": {},
   "source": [
    "## **5. The body of a loop can contain many statements:**\n",
    "* But no loop should be more than a few lines long.\n",
    "* Because is hard for human beings to keep larger chunks of code in mind."
   ]
  },
  {
   "cell_type": "markdown",
   "metadata": {},
   "source": [
    "## **6. Use `range` to iterate over a sequence of numbers**:\n",
    "+ The built-in function `range` produces a sequence of numbers.\n",
    "    + _Not a list_: the number are produced on demand to make looping over large ranges more efficient.\n",
    "+ `range(N)` is the numbers 0 ... _N-1_."
   ]
  },
  {
   "cell_type": "markdown",
   "metadata": {},
   "source": [
    "## **7. The Accumulator pattern turns many values into one**:\n",
    "\n",
    "* A common pattern in programs is to:\n",
    "    + 1. Initalize an _accumulator_ variable to zero, the empy string, or the empty list.\n",
    "    + 2. Update the variable with values from a collection."
   ]
  },
  {
   "cell_type": "markdown",
   "metadata": {},
   "source": [
    "+ Read `total = total + (number+1)` as:\n",
    "    + Add 1 to the current value of the loop variable `number`.\n",
    "    + Add that to the current value of the accumulator variable `total`.\n",
    "    + Assign that to `total`, replacing the current value.\n",
    "+ We have to add `number + 1` because `range` produce 0..9, not 1..10"
   ]
  },
  {
   "cell_type": "markdown",
   "metadata": {},
   "source": [
    "#### <i style=\"color:red\">**EXERCISES - 15 min**</i>"
   ]
  },
  {
   "cell_type": "markdown",
   "metadata": {},
   "source": [
    "+ _1. Create a table showing the numbers of the lines that are executed when this program runs, and the values of the variables after each line is executed._\n",
    "\n",
    "```python\n",
    "total = 0\n",
    "for char in \"tim\":\n",
    "  total = total + 1\n",
    "  ```\n",
    "\n",
    "| Line no       | Variables     |\n",
    "| ------------- | ------------- |\n",
    "| Content Cell  | Content Cell  |\n",
    "| Content Cell  | Content Cell  |\n",
    "\n",
    "\n",
    "---"
   ]
  },
  {
   "cell_type": "markdown",
   "metadata": {},
   "source": [
    "+ _2.Fill in the blanks in the program below so that it prints “nit” (the reverse of the original character string “tin”)._\n",
    "\n",
    "```python\n",
    "original = \"tin\"\n",
    "result = ____\n",
    "for char in original:\n",
    "    result = ____\n",
    "print(result)\n",
    "```"
   ]
  },
  {
   "cell_type": "markdown",
   "metadata": {},
   "source": [
    "+ _3. Fill in the blanks in each of the programs below to produce the indicated result._\n",
    "\n",
    "```python\n",
    "# 1. Total length of the strings in the list: [\"red\", \"green\", \"blue\"] => 12\n",
    "total = 0\n",
    "for word in [\"red\", \"green\", \"blue\"]:\n",
    "    ____ = ____ + len(word)\n",
    "print(total)\n",
    "```\n",
    "\n",
    "```python\n",
    "# 2. Concatenate all words: [\"red\", \"green\", \"blue\"] => \"redgreenblue\"\n",
    "words = [\"red\", \"green\", \"blue\"]\n",
    "result = ____\n",
    "for ____ in ____:\n",
    "    ____\n",
    "print(result)\n",
    "```\n",
    "```python\n",
    "# Create acronym: [\"red\", \"green\", \"blue\"] => \"RGB\"\n",
    "# write the whole thing\n",
    "```\n",
    "---"
   ]
  },
  {
   "cell_type": "markdown",
   "metadata": {},
   "source": [
    "_4. Read the code below and try to identify what the errors are without running it.\n",
    "    Run the code, and read the error message. What type of error is it?\n",
    "    Fix the error._\n",
    "```python\n",
    "seasons = ['Spring', 'Summer', 'Fall', 'Winter']\n",
    "print('My favorite season is ', seasons[4])\n",
    "```"
   ]
  },
  {
   "cell_type": "markdown",
   "metadata": {},
   "source": [
    "+ _4. Reorder and properly indent the lines of code below so that they print a list with the cumulative sum of data. The result should be [1, 3, 5, 10]._\n",
    "\n",
    "```python\n",
    "cumulative.append(total)\n",
    "for number in data:\n",
    "cumulative = []\n",
    "total += number\n",
    "total = 0\n",
    "print(cumulative)\n",
    "data = [1,2,2,5]\n",
    "```"
   ]
  },
  {
   "cell_type": "code",
   "execution_count": null,
   "metadata": {},
   "outputs": [],
   "source": []
  }
 ],
 "metadata": {
  "kernelspec": {
   "display_name": "Python 3",
   "language": "python",
   "name": "python3"
  },
  "language_info": {
   "codemirror_mode": {
    "name": "ipython",
    "version": 3
   },
   "file_extension": ".py",
   "mimetype": "text/x-python",
   "name": "python",
   "nbconvert_exporter": "python",
   "pygments_lexer": "ipython3",
   "version": "3.7.6"
  }
 },
 "nbformat": 4,
 "nbformat_minor": 4
}
