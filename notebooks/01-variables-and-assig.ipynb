{
 "cells": [
  {
   "cell_type": "markdown",
   "metadata": {},
   "source": [
    "# A. VARIABLES AND ASSIGNMENT (10 min/10 min exercises)\n",
    "\n",
    "#### Learning objectives\n",
    "\n",
    "+ Write programs that assign scalar values to variables and perform calculations with those values.\n",
    "+ Correctly trace value changes in programs that use scalar assignment.\n",
    "---"
   ]
  },
  {
   "cell_type": "markdown",
   "metadata": {},
   "source": [
    "## **1. Use variables to store values**.\n",
    "- **Variables** are names for values.\n",
    "- In Python the `=` symbol assigns the value on the right to the name on the left.\n",
    "- The variables is created when a value is assigned to it."
   ]
  },
  {
   "cell_type": "markdown",
   "metadata": {},
   "source": [
    "**REMEMBER**: Variable names can **only** contain letters, number and digits and are **case sensitive**."
   ]
  },
  {
   "cell_type": "markdown",
   "metadata": {},
   "source": [
    "## **2. Use `print` function to display values.**\n",
    "\n",
    "* Python built-in function called `print`.\n",
    "* Call the function by using its name.\n",
    "* Provide values to the function (i.e. the things to print) in parentheses.\n",
    "* Use double or single quotes to add a string in the print function.\n",
    "* The values passed to the function are called **arguments**."
   ]
  },
  {
   "cell_type": "code",
   "execution_count": 6,
   "metadata": {},
   "outputs": [],
   "source": [
    "# add sentence"
   ]
  },
  {
   "cell_type": "markdown",
   "metadata": {},
   "source": [
    "## **3. Variables must be created before they are used.**\n",
    "\n",
    "Python reports an error if the variable doesn't exist yet"
   ]
  },
  {
   "cell_type": "code",
   "execution_count": 5,
   "metadata": {},
   "outputs": [],
   "source": [
    "# print(no existing variable)"
   ]
  },
  {
   "cell_type": "markdown",
   "metadata": {},
   "source": [
    "* The last line of an error message is usually the **most informative**."
   ]
  },
  {
   "cell_type": "markdown",
   "metadata": {},
   "source": [
    "## **4. Variables Persist Between Cells**.\n",
    "\n",
    "Be aware that it is the order of execution of cells that is important in a Jupyter notebook, not the order in which they appear. Python will remember all the code that was run previously, including any variables you have defined, irrespective of the order in the notebook. Therefore if you define variables lower down the notebook and then (re)run cells further up, those defined further down will still be present. \n",
    "\n",
    "As an example, create two cells with the following content, in this order:"
   ]
  },
  {
   "cell_type": "markdown",
   "metadata": {},
   "source": [
    "## **5. Variables can be used in calculations.**"
   ]
  },
  {
   "cell_type": "code",
   "execution_count": 9,
   "metadata": {},
   "outputs": [
    {
     "name": "stdout",
     "output_type": "stream",
     "text": [
      "37\n"
     ]
    }
   ],
   "source": [
    "# calculate age with previous variables\n",
    "age = Age +3\n",
    "print(age)"
   ]
  },
  {
   "cell_type": "markdown",
   "metadata": {},
   "source": [
    "## **6. Use an index to get a single character from a string.**\n",
    "* The characters (individual letters, numbers) in a string are order. We can then treat the string as a list of characters.\n",
    "* Each position in the string is given a number called **index**.\n",
    "* Indices are numbered from 0.\n",
    "* Use the position's index in square brackets to get the character at that position.\n",
    "\n",
    "![](https://swcarpentry.github.io/python-novice-gapminder/fig/2_indexing.svg)"
   ]
  },
  {
   "cell_type": "code",
   "execution_count": 13,
   "metadata": {},
   "outputs": [],
   "source": [
    "# assign variable and print index 0 position \"workshop_name = CODING4ALL\""
   ]
  },
  {
   "cell_type": "markdown",
   "metadata": {},
   "source": [
    "## **7. Use a slice to get a substring.**\n",
    "* A part of a string is called a substring. A substring can be as short as a single character.\n",
    "* An item in a list is called an element. Whenever we treat a string as if it were a list, the string’s elements are its individual characters.\n",
    "* A slice is a part of a string.\n",
    "* We take a slice by using `[start:stop]`, where `start` is replaced with the index of the first element we want and `stop` is replaced with the index of the element just after the last element we want."
   ]
  },
  {
   "cell_type": "code",
   "execution_count": 14,
   "metadata": {},
   "outputs": [],
   "source": [
    "# print name and substring CODING"
   ]
  },
  {
   "cell_type": "markdown",
   "metadata": {},
   "source": [
    "## **8. Use the built-in function `len` to find the length of a string**"
   ]
  },
  {
   "cell_type": "code",
   "execution_count": 15,
   "metadata": {},
   "outputs": [],
   "source": [
    "# print length workshop_name"
   ]
  },
  {
   "cell_type": "markdown",
   "metadata": {},
   "source": [
    "## **9. Python is case-sensitive.**\n",
    "* Python thinks that upper- and lower-case letters are different, so `name` and `Name` are different variables."
   ]
  },
  {
   "cell_type": "markdown",
   "metadata": {},
   "source": [
    "## **10. Use meaningful variable names.**\n",
    "* Python doesn't care what you call variables as long as they obey the rules"
   ]
  },
  {
   "cell_type": "code",
   "execution_count": null,
   "metadata": {},
   "outputs": [],
   "source": [
    "# assign variable values with imposible names"
   ]
  },
  {
   "cell_type": "markdown",
   "metadata": {},
   "source": [
    "* Use meaningful variable names to help other people understand what the program does.\n",
    "* The most important 'other person' is your future self."
   ]
  },
  {
   "cell_type": "markdown",
   "metadata": {},
   "source": [
    "##### _EXERCISES (10 min)_"
   ]
  },
  {
   "cell_type": "markdown",
   "metadata": {},
   "source": [
    "_1. What is the final value of `position` in the program below? (Try to pedict the value without running the program, then check your prediction_):\n",
    "\n",
    "```python\n",
    "initial = 'left'\n",
    "position = initial\n",
    "initial = 'right'\n",
    "```"
   ]
  },
  {
   "cell_type": "markdown",
   "metadata": {},
   "source": [
    "_2. If you assign `a = 123`, what happens if you try to get the second digit of `a` via index `a[1]`?_"
   ]
  },
  {
   "cell_type": "markdown",
   "metadata": {},
   "source": [
    "_3. Which is a better variable name, m, min, or minutes? Why? Hint: think about which code you would rather inherit from someone who is leaving the lab:_\n",
    "```python\n",
    "1. ts = m * 60 + s\n",
    "2. tot_sec = min * 60 + sec\n",
    "3. total_seconds = minutes * 60 + seconds\n",
    "```"
   ]
  },
  {
   "cell_type": "markdown",
   "metadata": {},
   "source": [
    "_4. What does the following program print?_\n",
    "\n",
    "```python\n",
    "atom_name = 'carbon'\n",
    "print('atom_name[1:3] is', atom_name[1:3])\n",
    "```"
   ]
  }
 ],
 "metadata": {
  "kernelspec": {
   "display_name": "Python 3",
   "language": "python",
   "name": "python3"
  },
  "language_info": {
   "codemirror_mode": {
    "name": "ipython",
    "version": 3
   },
   "file_extension": ".py",
   "mimetype": "text/x-python",
   "name": "python",
   "nbconvert_exporter": "python",
   "pygments_lexer": "ipython3",
   "version": "3.8.5"
  }
 },
 "nbformat": 4,
 "nbformat_minor": 4
}
