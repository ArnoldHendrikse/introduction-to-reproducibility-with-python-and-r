{
  "nbformat": 4,
  "nbformat_minor": 0,
  "metadata": {
    "colab": {
      "name": "CODING4ALL.ipynb",
      "provenance": [],
      "toc_visible": true
    },
    "kernelspec": {
      "name": "python3",
      "display_name": "Python 3"
    }
  },
  "cells": [
    {
      "cell_type": "markdown",
      "metadata": {
        "id": "CbuMbUhqYAV3"
      },
      "source": [
        "---\n",
        "# Pandas DataFrames - 15 min / 15 min exercices\n",
        "\n",
        "**Learning objectives**:\n",
        "- Select individual values from a Pandas dataframe.\n",
        "- Select entire rows or entire columns from a dataframe.\n",
        "- Select a subset of both rows and columns from a dataframe in a single operation.\n",
        "- Select a subset of a dataframe by a single Boolean criterion.\n",
        "\n"
      ]
    },
    {
      "cell_type": "markdown",
      "metadata": {
        "id": "KakWCAxoYUEg"
      },
      "source": [
        "A DataFrame is a collection of Series; The DataFrame is the way Pandas represents a table, and Series is the data-structure Pandas use to represent a column.\n",
        "\n",
        "Pandas is built on top of the Numpy library, which in practice means that most of the methods defined for Numpy Arrays apply to Pandas Series/DataFrames.\n",
        "\n",
        "What makes Pandas so attractive is the powerful interface to access individual records of the table, proper handling of missing values, and relational-databases operations between DataFrames."
      ]
    },
    {
      "cell_type": "markdown",
      "metadata": {
        "id": "_TUPLQO-YZ20"
      },
      "source": [
        "#### 1. Selecting values\n",
        "To access a value at the position `[i,j]` of a DataFrame, we have two options, depending on what is the meaning of `i` in use. Remember that a DataFrame provides an index as a way to identify the rows of the table; a row, then, has a position inside the table as well as a label, which uniquely identifies its entry in the DataFrame."
      ]
    },
    {
      "cell_type": "markdown",
      "metadata": {
        "id": "GcyoWU1SYZ7w"
      },
      "source": [
        "Use DataFrame.iloc[..., ...] to select values by their (entry) position"
      ]
    },
    {
      "cell_type": "code",
      "metadata": {
        "id": "oDMQXTgUYlxK"
      },
      "source": [
        "import pandas as pd\n",
        "data = pd.read_csv('data/gapminder_gdp_europe.csv', index_col='country')\n",
        "print(data.iloc[0, 0])"
      ],
      "execution_count": null,
      "outputs": []
    },
    {
      "cell_type": "markdown",
      "metadata": {
        "id": "TIj-o8evYaBA"
      },
      "source": [
        "Use DataFrame.loc[..., ...] to select values by their (entry) label."
      ]
    },
    {
      "cell_type": "code",
      "metadata": {
        "id": "YdNvba1tYYU5"
      },
      "source": [
        "print(data.loc[\"Albania\", \"gdpPercap_1952\"])"
      ],
      "execution_count": null,
      "outputs": []
    },
    {
      "cell_type": "markdown",
      "metadata": {
        "id": "rP78iZrQYqEf"
      },
      "source": [
        "Use `:` on its own to mean all columns or all rows."
      ]
    },
    {
      "cell_type": "code",
      "metadata": {
        "id": "l8qYheqRYsN2"
      },
      "source": [
        "print(data.loc[\"Albania\", :])"
      ],
      "execution_count": null,
      "outputs": []
    },
    {
      "cell_type": "markdown",
      "metadata": {
        "id": "v9uHivPFYvMu"
      },
      "source": [
        "Would get the same result printing `data.loc[\"Albania\"]`(without a second index)."
      ]
    },
    {
      "cell_type": "code",
      "metadata": {
        "id": "s4xU3eniYykO"
      },
      "source": [
        "print(data.loc[:, \"gdpPercap_1952\"])"
      ],
      "execution_count": null,
      "outputs": []
    },
    {
      "cell_type": "markdown",
      "metadata": {
        "id": "AIKYm_-HY2gK"
      },
      "source": [
        "- Would get the same result printing `data[\"gdpPercap_1952\"]`\n",
        "- Also get the same result printing `data.gdpPercap_1952` (not recommended, because easily confused with . notation for methods)"
      ]
    },
    {
      "cell_type": "code",
      "metadata": {
        "id": "HBfJHC4VY9Co"
      },
      "source": [
        "print(data.loc['Italy':'Poland', 'gdpPercap_1962':'gdpPercap_1972'])"
      ],
      "execution_count": null,
      "outputs": []
    },
    {
      "cell_type": "markdown",
      "metadata": {
        "id": "vYdmDRDVY-4Q"
      },
      "source": [
        "In the above code, we discover that slicing using `loc` is inclusive at both ends, which differs from slicing using `iloc`, where slicing indicates everything up to but not including the final index."
      ]
    },
    {
      "cell_type": "markdown",
      "metadata": {
        "id": "wA-hjrPDZDZP"
      },
      "source": [
        "#### 2. Result of slicing can be used in further operations.\n",
        "\n",
        "- Usually don’t just print a slice.\n",
        "- All the statistical operators that work on entire dataframes work the same way on slices.\n",
        "- E.g., calculate max of a slice."
      ]
    },
    {
      "cell_type": "code",
      "metadata": {
        "id": "YCJEjf3UZGEd"
      },
      "source": [
        "print(data.loc['Italy':'Poland', 'gdpPercap_1962':'gdpPercap_1972'].max())\n"
      ],
      "execution_count": null,
      "outputs": []
    },
    {
      "cell_type": "code",
      "metadata": {
        "id": "X2vuKk1iZQZD"
      },
      "source": [
        "print(data.loc['Italy':'Poland', 'gdpPercap_1962':'gdpPercap_1972'].min())"
      ],
      "execution_count": null,
      "outputs": []
    },
    {
      "cell_type": "markdown",
      "metadata": {
        "id": "ou2oSn52ZNPh"
      },
      "source": [
        "Use comparisons to select data based on value."
      ]
    },
    {
      "cell_type": "code",
      "metadata": {
        "id": "Ztm0-JjQZZKj"
      },
      "source": [
        "subset = data.loc['Italy':'Poland', 'gdpPercap_1962':'gdpPercap_1972']\n",
        "print('Subset of data:\\n', subset)\n",
        "\n",
        "# Which values were greater than 10000 ?\n",
        "print('\\nWhere are values large?\\n', subset > 10000)"
      ],
      "execution_count": null,
      "outputs": []
    },
    {
      "cell_type": "markdown",
      "metadata": {
        "id": "ndgH_Y7yZZ2Y"
      },
      "source": [
        "#### 3. Select values or NaN using a Boolean mask."
      ]
    },
    {
      "cell_type": "code",
      "metadata": {
        "id": "w285dbubZkq_"
      },
      "source": [
        "mask = subset > 10000\n",
        "print(subset[mask])\n",
        "#print(subset[subset > 10000].describe())\n"
      ],
      "execution_count": null,
      "outputs": []
    },
    {
      "cell_type": "markdown",
      "metadata": {
        "id": "kF_9ZncgZm_q"
      },
      "source": [
        "4. Group By: split-apply-combine\n",
        "\n",
        "- Pandas vectorizing methods and grouping operations are features that provide users much flexibility to analyse their data.\n",
        "\n",
        "- For instance, let’s say we want to have a clearer view on how the European countries split themselves according to their GDP."
      ]
    },
    {
      "cell_type": "code",
      "metadata": {
        "id": "QlSWZaomZwdy"
      },
      "source": [
        "mask_higher = data > data.mean()\n",
        "wealth_score = mask_higher.aggregate('sum', axis=1) / len(data.columns)\n",
        "wealth_score\n",
        "\n",
        "data.groupby(wealth_score).sum()"
      ],
      "execution_count": null,
      "outputs": []
    },
    {
      "cell_type": "markdown",
      "metadata": {
        "id": "FDZBn6XCaTzS"
      },
      "source": []
    }
  ]
}