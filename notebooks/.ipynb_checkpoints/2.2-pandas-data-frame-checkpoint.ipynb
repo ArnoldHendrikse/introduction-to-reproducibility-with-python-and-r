{
 "cells": [
  {
   "cell_type": "markdown",
   "metadata": {
    "id": "CbuMbUhqYAV3"
   },
   "source": [
    "---\n",
    "# Pandas DataFrames - 15 min / 15 min exercices\n",
    "\n",
    "**Learning objectives**:\n",
    "- Select individual values from a Pandas dataframe.\n",
    "- Select entire rows or entire columns from a dataframe.\n",
    "- Select a subset of both rows and columns from a dataframe in a single operation.\n",
    "- Select a subset of a dataframe by a single Boolean criterion.\n",
    "\n"
   ]
  },
  {
   "cell_type": "markdown",
   "metadata": {
    "id": "KakWCAxoYUEg"
   },
   "source": [
    "A DataFrame is a collection of Series; The DataFrame is the way Pandas represents a table, and Series is the data-structure Pandas use to represent a column.\n",
    "\n",
    "Pandas is built on top of the Numpy library, which in practice means that most of the methods defined for Numpy Arrays apply to Pandas Series/DataFrames.\n",
    "\n",
    "What makes Pandas so attractive is the powerful interface to access individual records of the table, proper handling of missing values, and relational-databases operations between DataFrames."
   ]
  },
  {
   "cell_type": "markdown",
   "metadata": {
    "id": "_TUPLQO-YZ20"
   },
   "source": [
    "#### 1. Selecting values\n",
    "To access a value at the position `[i,j]` of a DataFrame, we have two options, depending on what is the meaning of `i` in use. Remember that a DataFrame provides an index as a way to identify the rows of the table; a row, then, has a position inside the table as well as a label, which uniquely identifies its entry in the DataFrame."
   ]
  },
  {
   "cell_type": "markdown",
   "metadata": {
    "id": "GcyoWU1SYZ7w"
   },
   "source": [
    "Use `DataFrame.iloc[..., ...]` to select values by their (entry) position"
   ]
  },
  {
   "cell_type": "code",
   "execution_count": null,
   "metadata": {
    "id": "oDMQXTgUYlxK"
   },
   "outputs": [],
   "source": []
  },
  {
   "cell_type": "markdown",
   "metadata": {
    "id": "TIj-o8evYaBA"
   },
   "source": [
    "Use `DataFrame.loc[..., ...]` to select values by their (entry) label. e.g. \"Albania\""
   ]
  },
  {
   "cell_type": "code",
   "execution_count": null,
   "metadata": {
    "id": "YdNvba1tYYU5"
   },
   "outputs": [],
   "source": []
  },
  {
   "cell_type": "markdown",
   "metadata": {
    "id": "rP78iZrQYqEf"
   },
   "source": [
    "Use `:` on its own to mean all columns or all rows."
   ]
  },
  {
   "cell_type": "code",
   "execution_count": null,
   "metadata": {
    "id": "l8qYheqRYsN2"
   },
   "outputs": [],
   "source": []
  },
  {
   "cell_type": "markdown",
   "metadata": {
    "id": "v9uHivPFYvMu"
   },
   "source": [
    "Would get the same result printing `data.loc[\"Albania\"]`(without a second index)."
   ]
  },
  {
   "cell_type": "code",
   "execution_count": 1,
   "metadata": {
    "id": "s4xU3eniYykO"
   },
   "outputs": [
    {
     "ename": "NameError",
     "evalue": "name 'data' is not defined",
     "output_type": "error",
     "traceback": [
      "\u001b[0;31m---------------------------------------------------------------------------\u001b[0m",
      "\u001b[0;31mNameError\u001b[0m                                 Traceback (most recent call last)",
      "\u001b[0;32m<ipython-input-1-b880a58874b9>\u001b[0m in \u001b[0;36m<module>\u001b[0;34m\u001b[0m\n\u001b[0;32m----> 1\u001b[0;31m \u001b[0mprint\u001b[0m\u001b[0;34m(\u001b[0m\u001b[0mdata\u001b[0m\u001b[0;34m.\u001b[0m\u001b[0mloc\u001b[0m\u001b[0;34m[\u001b[0m\u001b[0;34m:\u001b[0m\u001b[0;34m,\u001b[0m \u001b[0;34m\"gdpPercap_1952\"\u001b[0m\u001b[0;34m]\u001b[0m\u001b[0;34m)\u001b[0m\u001b[0;34m\u001b[0m\u001b[0;34m\u001b[0m\u001b[0m\n\u001b[0m",
      "\u001b[0;31mNameError\u001b[0m: name 'data' is not defined"
     ]
    }
   ],
   "source": [
    "print(data.loc[:, \"gdpPercap_1952\"])"
   ]
  },
  {
   "cell_type": "markdown",
   "metadata": {
    "id": "AIKYm_-HY2gK"
   },
   "source": [
    "- Would get the same result printing `data[\"gdpPercap_1952\"]`\n",
    "- Also get the same result printing `data.gdpPercap_1952` (not recommended, because easily confused with . notation for methods)"
   ]
  },
  {
   "cell_type": "code",
   "execution_count": null,
   "metadata": {
    "id": "HBfJHC4VY9Co"
   },
   "outputs": [],
   "source": [
    "print(data.loc['Italy':'Poland', 'gdpPercap_1962':'gdpPercap_1972'])"
   ]
  },
  {
   "cell_type": "markdown",
   "metadata": {
    "id": "vYdmDRDVY-4Q"
   },
   "source": [
    "In the above code, we discover that slicing using `loc` is inclusive at both ends, which differs from slicing using `iloc`, where slicing indicates everything up to but not including the final index."
   ]
  },
  {
   "cell_type": "markdown",
   "metadata": {
    "id": "wA-hjrPDZDZP"
   },
   "source": [
    "#### 2. Result of slicing can be used in further operations.\n",
    "\n",
    "- Usually don’t just print a slice.\n",
    "- All the statistical operators that work on entire dataframes work the same way on slices.\n",
    "- E.g., calculate max of a slice."
   ]
  },
  {
   "cell_type": "code",
   "execution_count": null,
   "metadata": {
    "id": "YCJEjf3UZGEd"
   },
   "outputs": [],
   "source": [
    "data.loc['Italy':'Poland', 'gdpPercap_1962':'gdpPercap_1972'].max()"
   ]
  },
  {
   "cell_type": "code",
   "execution_count": null,
   "metadata": {
    "id": "X2vuKk1iZQZD"
   },
   "outputs": [],
   "source": [
    "data.loc['Italy':'Poland', 'gdpPercap_1962':'gdpPercap_1972'].min()"
   ]
  },
  {
   "cell_type": "markdown",
   "metadata": {
    "id": "ou2oSn52ZNPh"
   },
   "source": [
    "Use comparisons to select data based on value."
   ]
  },
  {
   "cell_type": "code",
   "execution_count": null,
   "metadata": {
    "id": "Ztm0-JjQZZKj"
   },
   "outputs": [],
   "source": [
    "subset = data.loc['Italy':'Poland', 'gdpPercap_1962':'gdpPercap_1972']\n",
    "print('Subset of data:\\n', subset)\n",
    "\n",
    "# Which values were greater than 10000 ?\n",
    "print('\\nWhere are values large?\\n', subset > 10000)"
   ]
  },
  {
   "cell_type": "markdown",
   "metadata": {
    "id": "ndgH_Y7yZZ2Y"
   },
   "source": [
    "#### 3. Select values or NaN using a Boolean mask."
   ]
  },
  {
   "cell_type": "code",
   "execution_count": null,
   "metadata": {
    "id": "w285dbubZkq_"
   },
   "outputs": [],
   "source": []
  },
  {
   "cell_type": "markdown",
   "metadata": {
    "id": "kF_9ZncgZm_q"
   },
   "source": [
    "#### 4. Group By: split-apply-combine\n",
    "\n",
    "- Pandas vectorizing methods and grouping operations are features that provide users much flexibility to analyse their data."
   ]
  },
  {
   "cell_type": "code",
   "execution_count": null,
   "metadata": {},
   "outputs": [],
   "source": []
  },
  {
   "cell_type": "markdown",
   "metadata": {},
   "source": [
    "#### <i style=\"color:red\">**EXERCISES - 10 min**</i>"
   ]
  },
  {
   "cell_type": "markdown",
   "metadata": {},
   "source": [
    "+ Read the file `gapminder_all.csv`, create a subset with all the countries which `gdpPercap_2007` is above the median\n",
    "+ Group the resulted subset by continent calculating the average `lifeExp_2007`\n",
    "+ Save the final table as `subset_richest_2007.csv`\n"
   ]
  },
  {
   "cell_type": "code",
   "execution_count": null,
   "metadata": {},
   "outputs": [],
   "source": []
  }
 ],
 "metadata": {
  "colab": {
   "name": "CODING4ALL.ipynb",
   "provenance": [],
   "toc_visible": true
  },
  "kernelspec": {
   "display_name": "Python 3",
   "language": "python",
   "name": "python3"
  },
  "language_info": {
   "codemirror_mode": {
    "name": "ipython",
    "version": 3
   },
   "file_extension": ".py",
   "mimetype": "text/x-python",
   "name": "python",
   "nbconvert_exporter": "python",
   "pygments_lexer": "ipython3",
   "version": "3.7.6"
  }
 },
 "nbformat": 4,
 "nbformat_minor": 4
}
