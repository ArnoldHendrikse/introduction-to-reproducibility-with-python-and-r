{
  "nbformat": 4,
  "nbformat_minor": 0,
  "metadata": {
    "colab": {
      "name": "CODING4ALL.ipynb",
      "provenance": [],
      "toc_visible": true
    },
    "kernelspec": {
      "name": "python3",
      "display_name": "Python 3"
    }
  },
  "cells": [
    {
      "cell_type": "markdown",
      "metadata": {
        "id": "5YkOKrEjSZOW"
      },
      "source": [
        "# Workshop 31.03.2015\n",
        "## Intro to Pyhton module"
      ]
    },
    {
      "cell_type": "markdown",
      "metadata": {
        "id": "lkusc3wifVAR"
      },
      "source": [
        "## 1. Python Fundamentals - 9:00 to 10:45"
      ]
    },
    {
      "cell_type": "markdown",
      "metadata": {
        "id": "k5AOrXipShuV"
      },
      "source": [
        "---\n",
        "\n",
        "### [Running and Quitting](https://swcarpentry.github.io/python-novice-gapminder/01-run-quit/index.html) - 15 min\n",
        "\n",
        "**Learning objectives**:\n",
        "- Lunch the JupyterLab server.\n",
        "- Create a new Python script.\n",
        "- Create a Jupyter notebook.\n",
        "- Shutdown the Jupyter server.\n",
        "- Understand the difference between a Python script and a Jupyter notebook.\n",
        "- Create Markdown cells in a notebook.\n",
        "- Create and run Python cells in a notebook."
      ]
    },
    {
      "cell_type": "markdown",
      "metadata": {
        "id": "ncE1qr7vUGO3"
      },
      "source": [
        "#### _Exercise: Create a nested list in a Markdown cell in a notebook that looks like this_:\n",
        "\n",
        "1. Get funding.\n",
        "2. Do work.\n",
        "* Design experiment.\n",
        "* Collect data.\n",
        "* Analyze.\n",
        "3. Write up.\n",
        "4. Publish."
      ]
    },
    {
      "cell_type": "markdown",
      "metadata": {
        "id": "FY2mR6XyV0e7"
      },
      "source": [
        "_Solution_\n"
      ]
    },
    {
      "cell_type": "markdown",
      "metadata": {
        "id": "O_RSX-DBUij3"
      },
      "source": [
        "#### _Exercise: What is displayed when a Python cell in a notebook that contains several calculations is executed? i.e._\n",
        "```python\n",
        "7 * 3\n",
        "2 + 3\n",
        "```"
      ]
    },
    {
      "cell_type": "markdown",
      "metadata": {
        "id": "KOJVIWOpWMm4"
      },
      "source": [
        "$\\sum_{i=1}^{N} 2^{-i} \\approx 1$"
      ]
    },
    {
      "cell_type": "markdown",
      "metadata": {
        "id": "PlzabZQZWjkY"
      },
      "source": [
        "---\n",
        "### [Variables and Assignment](https://swcarpentry.github.io/python-novice-gapminder/02-variables/index.html) - 15 min / 10 min exercises\n",
        "\n",
        "**Learning objectives**:\n",
        "* Write programs that assign scalar values to variables and perform calculations with those values.\n",
        "* Correctly trace value changes in programs that use scalar assignment.\n",
        "\n"
      ]
    },
    {
      "cell_type": "markdown",
      "metadata": {
        "id": "nfU_0j1GXaLP"
      },
      "source": [
        "#### 1. Use variables to store values:\n",
        "* Variables are names for values.\n",
        "* In python the `=` symbol assigns the value on the right to the name on the left.\n",
        "* The variable is created when a value is assigned to it.\n",
        "* Here, Python assigns an age to a variable `age` and a name in quotes to avariable `first_name`"
      ]
    },
    {
      "cell_type": "code",
      "metadata": {
        "id": "tNlQOoTWWyHp"
      },
      "source": [
        ""
      ],
      "execution_count": null,
      "outputs": []
    },
    {
      "cell_type": "markdown",
      "metadata": {
        "id": "Xb0BNTTZYlWd"
      },
      "source": [
        "#### 2. Use `print` to display values:\n",
        "* Python has a built-in function called `print` that prints things as text\n",
        "* Call the function by using its name\n",
        "* Provide values to the function (i.e. the things to print) in parentheses\n",
        "* To add a string to the printout, wrap the string in single or double quoutes\n",
        "* The values passed to the function are called **arguments**"
      ]
    },
    {
      "cell_type": "code",
      "metadata": {
        "colab": {
          "base_uri": "https://localhost:8080/"
        },
        "id": "sabc99GvZVSh",
        "outputId": "beede18d-792e-496a-ac49-4a5e240e8e2c"
      },
      "source": [
        ""
      ],
      "execution_count": null,
      "outputs": [
        {
          "output_type": "stream",
          "text": [
            "Ahmed is 42 years old\n"
          ],
          "name": "stdout"
        }
      ]
    },
    {
      "cell_type": "markdown",
      "metadata": {
        "id": "VcL3dm96xeT3"
      },
      "source": [
        "#### 3. Variables must be created before they are used\n",
        "* If a variable doesn't exist yet, or if the name has been mis-spelled, Python reports an error (Unlike some languages, which \"guess\" a default value.)"
      ]
    },
    {
      "cell_type": "code",
      "metadata": {
        "colab": {
          "base_uri": "https://localhost:8080/",
          "height": 158
        },
        "id": "amzmfhzaxyQT",
        "outputId": "ad5315e1-d0c0-46fc-f798-2012b016731c"
      },
      "source": [
        "print(last_name)"
      ],
      "execution_count": null,
      "outputs": [
        {
          "output_type": "error",
          "ename": "NameError",
          "evalue": "ignored",
          "traceback": [
            "\u001b[0;31m---------------------------------------------------------------------------\u001b[0m",
            "\u001b[0;31mNameError\u001b[0m                                 Traceback (most recent call last)",
            "\u001b[0;32m<ipython-input-19-a637c5453549>\u001b[0m in \u001b[0;36m<module>\u001b[0;34m\u001b[0m\n\u001b[0;32m----> 1\u001b[0;31m \u001b[0mprint\u001b[0m\u001b[0;34m(\u001b[0m\u001b[0mlast_name\u001b[0m\u001b[0;34m)\u001b[0m\u001b[0;34m\u001b[0m\u001b[0;34m\u001b[0m\u001b[0m\n\u001b[0m",
            "\u001b[0;31mNameError\u001b[0m: name 'last_name' is not defined"
          ]
        }
      ]
    },
    {
      "cell_type": "markdown",
      "metadata": {
        "id": "u7IYop5zx8B3"
      },
      "source": [
        "* Be aware that its is the order of execution of cells that is important in a Jupyter notebook, not the order in which they appear. Python will remember all the code that was run previously, including any variables you have defined, irrespective of the order in the notebook. Therefore if you define variables lower down the notebook and the re-run cells further up, those defined further down will still be present. As an example. create two cells with the following content, in this order:"
      ]
    },
    {
      "cell_type": "code",
      "metadata": {
        "id": "d46U9gLLypbb"
      },
      "source": [
        "print()"
      ],
      "execution_count": null,
      "outputs": []
    },
    {
      "cell_type": "markdown",
      "metadata": {
        "id": "nE0uJYvcy3vg"
      },
      "source": [
        "If you execute this in order, the first cell will give an error. However, if you run the first cell after the second it will print out `1`."
      ]
    },
    {
      "cell_type": "markdown",
      "metadata": {
        "id": "VfLLOCkNzHYK"
      },
      "source": [
        "#### 4. Variables can be used in calculations\n",
        "* We can use variables in calculations just as if they were values. Remember, we assigned the value `42` to `age` a few lines ago."
      ]
    },
    {
      "cell_type": "code",
      "metadata": {
        "id": "3ztra1F4zFM8"
      },
      "source": [
        "age = age + 3\n",
        "print(\"Age in three years:\", age)"
      ],
      "execution_count": null,
      "outputs": []
    },
    {
      "cell_type": "markdown",
      "metadata": {
        "id": "bZ1kqpSGzzh8"
      },
      "source": [
        "#### 5. Use an index to get a single character from a string\n",
        "* The characters (individual letters, numbers, and so on) in a string are ordered. For example, the string 'AB' is not the same as 'BA'. Because of this ordering, we can treat the string as a list of characters.\n",
        "* Each position in the string (first, second, etc.) is given a number. This number is called an index or sometimes a subscript.\n",
        "* Indices are numbered from 0.\n",
        "* Use the position’s index in square brackets to get the character at that position.\n",
        "![](https://swcarpentry.github.io/python-novice-gapminder/fig/2_indexing.svg)"
      ]
    },
    {
      "cell_type": "code",
      "metadata": {
        "id": "VpcMDjgy0pOJ"
      },
      "source": [
        "atom_name = \"helium\"\n",
        "print(atom_name[0])"
      ],
      "execution_count": null,
      "outputs": []
    },
    {
      "cell_type": "markdown",
      "metadata": {
        "id": "lNx15jmT1XLT"
      },
      "source": [
        "#### 6. Use a slice to get a substring\n",
        "* A part of a string is called a **substring**. A substring can be as short as a single character.\n",
        "* An item in a list is called element. Whenever we treat a string as if it were a list, the string's elements are its individuals characters.\n",
        "* We take a slice by using `[start:stop]` where `start` is replaced with the index of the first element we want and `stop` is replaced with the index of the element just after the last element we want.\n"
      ]
    },
    {
      "cell_type": "code",
      "metadata": {
        "id": "UoDohqzO2y0v"
      },
      "source": [
        "print(atom_name[0:3])"
      ],
      "execution_count": null,
      "outputs": []
    },
    {
      "cell_type": "markdown",
      "metadata": {
        "id": "XpOQSmEC0zlG"
      },
      "source": [
        "#### 7. Use the built-in function `len` to find the length of a string"
      ]
    },
    {
      "cell_type": "code",
      "metadata": {
        "id": "FHh2eWYH1B-9"
      },
      "source": [
        "print(len(atom_name))"
      ],
      "execution_count": null,
      "outputs": []
    },
    {
      "cell_type": "markdown",
      "metadata": {
        "id": "QQp3OKK_3ZcM"
      },
      "source": [
        "#### 8. Python is case-sensitive\n",
        "* Python thinks that upper- and lower-case letters are different, so Name and name are different variables.\n",
        "*There are conventions for using upper-case letters at the start of variable names so we will use lower-case letters for now."
      ]
    },
    {
      "cell_type": "markdown",
      "metadata": {
        "id": "zKcIAycc3w_k"
      },
      "source": [
        "#### 9. Use meaningful variable names\n",
        "* Python doesn't care what you call variables as long as they obey the rules (alphanumeric characters and the underscore). "
      ]
    },
    {
      "cell_type": "code",
      "metadata": {
        "id": "adP7qTBS374c"
      },
      "source": [
        "flabab = 42\n",
        "ewr_422_yY = \"Ahmed\"\n",
        "print(ewr_422_yY,'is',flabab, 'years old')"
      ],
      "execution_count": null,
      "outputs": []
    },
    {
      "cell_type": "markdown",
      "metadata": {
        "id": "8v84CxuX5Nox"
      },
      "source": [
        "EXERCISE 1: SWAPPING VALUES\n",
        "\n",
        "Fill the table showing the values of the variables in this program after each statement is executed.\n",
        "\n",
        "|Command|Value of x|Value of y|Value of swap\n",
        "---|--|--|--\n",
        "`x=1.0`|-|-|-|\n",
        "`y=3.0`|-|-|-|\n",
        "`swap=x`|-|-|-|\n",
        "`y=swap`|-|-|-|\n",
        "\n"
      ]
    },
    {
      "cell_type": "markdown",
      "metadata": {
        "id": "9hoOPsSh6zzA"
      },
      "source": [
        "EXERCISE 2: PREDICTING VALUES\n",
        "\n",
        "What is the final value of `position` in the program below? (Try to predict the value without running the program, then check your prediction.)\n",
        "```python\n",
        "initial = 'left'\n",
        "position = initial\n",
        "initial = 'right'\n",
        "``` "
      ]
    },
    {
      "cell_type": "markdown",
      "metadata": {
        "id": "-M1vQ_df7c8D"
      },
      "source": [
        "EXERCISE 3: CHALLENGE MATHS\n",
        "\n",
        "If you assign `a=123`, what happens if you try to get the second digit of `a` via `a[1]`?"
      ]
    },
    {
      "cell_type": "code",
      "metadata": {
        "id": "lkGPp0bt7t-7"
      },
      "source": [
        "a = 123\n",
        "print(a[1])"
      ],
      "execution_count": null,
      "outputs": []
    },
    {
      "cell_type": "code",
      "metadata": {
        "id": "RsXWbrPF7-7f"
      },
      "source": [
        "# solution \n",
        "# Numbers are not strings or sequences and Python will raise an error if you try to perform an index operation on a number.\n",
        "# In the next lesson on types and type conversion we will learn more about types and how to convert between different types. If you want the Nth digit of a number you can convert it into a string using the str built-in function and then perform an index operation on that string.\n",
        "a = str(123)\n",
        "print(a[1])"
      ],
      "execution_count": null,
      "outputs": []
    },
    {
      "cell_type": "markdown",
      "metadata": {
        "id": "UZ7VWvTc8dU9"
      },
      "source": [
        "EXERCISE 4: CHOSSING A NAME\n",
        "\n",
        "Which is a better variable name, `m`, `min`, or `minutes`? Why? \n",
        "Hint: think about which code you would rather inherit from someone who is leaving the lab:\n",
        "\n",
        "1. `ts = m * 60 + s`\n",
        "2. `tot_sec = min * 60 + sec`\n",
        "3. `total_seconds = minutes * 60 + seconds`"
      ]
    },
    {
      "cell_type": "markdown",
      "metadata": {
        "id": "hLf2ETwB9AFB"
      },
      "source": [
        "Solution: minutes is better because min might mean something like “minimum” (and actually is an existing built-in function in Python that we will cover later)."
      ]
    },
    {
      "cell_type": "markdown",
      "metadata": {
        "id": "wrR6Gvg8-VXh"
      },
      "source": [
        "---\n",
        "### [Data Types and Type Conversion](https://swcarpentry.github.io/python-novice-gapminder/03-types-conversion/index.html) - 10 min / 10 min exercises\n",
        "\n",
        "**Learning objectives**:\n",
        "* Explain key differences between integers and floating point numbers.\n",
        "* Explain key differences between numbers and character string.\n",
        "* Use build-in functions to convert between integers, floating point numbers, and strings."
      ]
    },
    {
      "cell_type": "markdown",
      "metadata": {
        "id": "GymNm5_hKkHz"
      },
      "source": [
        "#### 1. Every value has a type.\n",
        "* Every value in a program has a specific type.\n",
        "* Integer `int`: represents positive or negative whole numbers like 3 or -512.\n",
        "* FLoating point number `float`: represents real numbers like 3.14159 or -2.5.\n",
        "* Character string (usually called: `str`): text. Written in either single or double quotes.\n",
        "\n"
      ]
    },
    {
      "cell_type": "markdown",
      "metadata": {
        "id": "WmQFtxGBLgso"
      },
      "source": [
        "#### 2. Use the build-in function `type` to find the type of a value."
      ]
    },
    {
      "cell_type": "code",
      "metadata": {
        "colab": {
          "base_uri": "https://localhost:8080/"
        },
        "id": "WydXmVJOL6oS",
        "outputId": "52720d91-275c-4f66-daff-def716675c34"
      },
      "source": [
        "print(type(52))"
      ],
      "execution_count": null,
      "outputs": [
        {
          "output_type": "stream",
          "text": [
            "<class 'int'>\n"
          ],
          "name": "stdout"
        }
      ]
    },
    {
      "cell_type": "code",
      "metadata": {
        "colab": {
          "base_uri": "https://localhost:8080/"
        },
        "id": "GeHnb45RL_OB",
        "outputId": "79ee7e0a-6dcb-4701-de04-11cbacc271fb"
      },
      "source": [
        "fitness = 'avg'\n",
        "print(type(fitness))"
      ],
      "execution_count": null,
      "outputs": [
        {
          "output_type": "stream",
          "text": [
            "<class 'str'>\n"
          ],
          "name": "stdout"
        }
      ]
    },
    {
      "cell_type": "markdown",
      "metadata": {
        "id": "9n9hq9CmMIm0"
      },
      "source": [
        "#### 3. Types control what operations (or methods) can be performed on a given value.\n",
        "* A value's type determines what the program can do to it."
      ]
    },
    {
      "cell_type": "code",
      "metadata": {
        "colab": {
          "base_uri": "https://localhost:8080/"
        },
        "id": "JYHFHDjqMZNn",
        "outputId": "835849e3-2543-4d4e-b926-464674a9e96d"
      },
      "source": [
        "print(5-2)"
      ],
      "execution_count": null,
      "outputs": [
        {
          "output_type": "stream",
          "text": [
            "3\n"
          ],
          "name": "stdout"
        }
      ]
    },
    {
      "cell_type": "code",
      "metadata": {
        "colab": {
          "base_uri": "https://localhost:8080/",
          "height": 158
        },
        "id": "8JDWQGUNMbg0",
        "outputId": "7115d04b-3862-45a3-f0f3-51b08612cec4"
      },
      "source": [
        "print(\"hello\" - \"h\")"
      ],
      "execution_count": null,
      "outputs": [
        {
          "output_type": "error",
          "ename": "TypeError",
          "evalue": "ignored",
          "traceback": [
            "\u001b[0;31m---------------------------------------------------------------------------\u001b[0m",
            "\u001b[0;31mTypeError\u001b[0m                                 Traceback (most recent call last)",
            "\u001b[0;32m<ipython-input-6-bf3795dd77ce>\u001b[0m in \u001b[0;36m<module>\u001b[0;34m()\u001b[0m\n\u001b[0;32m----> 1\u001b[0;31m \u001b[0mprint\u001b[0m\u001b[0;34m(\u001b[0m\u001b[0;34m\"hello\"\u001b[0m \u001b[0;34m-\u001b[0m \u001b[0;34m\"h\"\u001b[0m\u001b[0;34m)\u001b[0m\u001b[0;34m\u001b[0m\u001b[0;34m\u001b[0m\u001b[0m\n\u001b[0m",
            "\u001b[0;31mTypeError\u001b[0m: unsupported operand type(s) for -: 'str' and 'str'"
          ]
        }
      ]
    },
    {
      "cell_type": "markdown",
      "metadata": {
        "id": "kG2M5lAaMjT1"
      },
      "source": [
        "#### 4. You can use the \"+\"and \"*\"operators on strings.\n"
      ]
    },
    {
      "cell_type": "markdown",
      "metadata": {
        "id": "USV16EMcNFZR"
      },
      "source": [
        "* Adding character string concatenates them:"
      ]
    },
    {
      "cell_type": "code",
      "metadata": {
        "id": "QvwspyjrM4yp"
      },
      "source": [
        "full_name = 'Carlos' + ' ' + \"Utrilla\"\n",
        "print(full_name)"
      ],
      "execution_count": null,
      "outputs": []
    },
    {
      "cell_type": "markdown",
      "metadata": {
        "id": "12c5EG4DNNkd"
      },
      "source": [
        "* Multiplying a character string by an integer _N_ creates a new string that consists of that character string repeated _N_ times:"
      ]
    },
    {
      "cell_type": "code",
      "metadata": {
        "id": "WtwGoAyNNdsC"
      },
      "source": [
        "separator = \"=\" * 10\n",
        "print(separator)"
      ],
      "execution_count": null,
      "outputs": []
    },
    {
      "cell_type": "markdown",
      "metadata": {
        "id": "2iAFtMmxt0Az"
      },
      "source": [
        "#### 5. String have a length (but numbers don't).\n"
      ]
    },
    {
      "cell_type": "code",
      "metadata": {
        "id": "KJPNe1D0uBNL"
      },
      "source": [
        "print(len(full_name))"
      ],
      "execution_count": null,
      "outputs": []
    },
    {
      "cell_type": "code",
      "metadata": {
        "id": "N1gho2zBuJEk"
      },
      "source": [
        "print(len(52))"
      ],
      "execution_count": null,
      "outputs": []
    },
    {
      "cell_type": "markdown",
      "metadata": {
        "id": "78STmqCjuUMA"
      },
      "source": [
        "#### 6. Must convert numbers to string or viceversa when operating on them\n",
        "* Cannot add numbers and string:"
      ]
    },
    {
      "cell_type": "code",
      "metadata": {
        "id": "Fqgxb7Tsuivw"
      },
      "source": [
        "print(1 + '2')"
      ],
      "execution_count": null,
      "outputs": []
    },
    {
      "cell_type": "markdown",
      "metadata": {
        "id": "KpOY16hFusNh"
      },
      "source": [
        "* Some types can be converted to other types by using the type name as function:"
      ]
    },
    {
      "cell_type": "code",
      "metadata": {
        "id": "EOkbyZdQungA"
      },
      "source": [
        "print(1 +int('2'))"
      ],
      "execution_count": null,
      "outputs": []
    },
    {
      "cell_type": "code",
      "metadata": {
        "id": "d6_IB7EJvCwc"
      },
      "source": [
        "print(str(1)+'2')"
      ],
      "execution_count": null,
      "outputs": []
    },
    {
      "cell_type": "markdown",
      "metadata": {
        "id": "YJHLYemgvVz_"
      },
      "source": [
        "#### 7. Can mix integers and floats freely in operations.\n",
        "\n",
        "* Integers and floating-point numbers can be mixed in arithmetic: python 3 converts integers to floats as needed:"
      ]
    },
    {
      "cell_type": "code",
      "metadata": {
        "id": "rT5lBJmmvJF7"
      },
      "source": [
        "print(\"half is\",1 /2.0)\n",
        "print('three squared is', 3.0 ** 2)"
      ],
      "execution_count": null,
      "outputs": []
    },
    {
      "cell_type": "markdown",
      "metadata": {
        "id": "nuBfIeA3wBgh"
      },
      "source": [
        "#### 8. Variables only change value when something is assigned to them.\n",
        "* If we make one cell in a spreadsheet depend on another, and update the latter, the former updates automatically.\n",
        "* this does **not** happen in programming languages."
      ]
    },
    {
      "cell_type": "code",
      "metadata": {
        "id": "nHLOLu5Hv9Kv"
      },
      "source": [
        "first = 1\n",
        "second = 5 * first\n",
        "first = 2\n",
        "print('first is', first, 'and second is', second)"
      ],
      "execution_count": null,
      "outputs": []
    },
    {
      "cell_type": "markdown",
      "metadata": {
        "id": "_Z_bxIP9xMhr"
      },
      "source": [
        "* The computer reads the value of `first`when doing the multiplication, creates a new value, and assigns it to `second`.\n",
        "* After that, `second`does not remember where it came from."
      ]
    },
    {
      "cell_type": "markdown",
      "metadata": {
        "id": "cw4DBG9Jxvzw"
      },
      "source": [
        "EXERCISE 1: FRACTIONS\n",
        "\n",
        "What type of value is 3.4? How can you find out?"
      ]
    },
    {
      "cell_type": "markdown",
      "metadata": {
        "id": "iSqY9JBdx0iV"
      },
      "source": [
        "EXERCISE 2: AUTOMATIC TYPE CONVERSION\n",
        "\n",
        "What type of value is 3.25+4?\n"
      ]
    },
    {
      "cell_type": "markdown",
      "metadata": {
        "id": "M3lFMEDDyw-U"
      },
      "source": [
        "EXERCISE 3: CHOOSE A TYPE\n",
        "\n",
        "What type of value (integer, floating point number, or character string) would you use to represent each of the following? Try to come up with more than one good answer for each problem. For example, in # 1, when would counting days with a floating point variable make more sense than using an integer?\n",
        "\n",
        "1. Number of days since the start of the year.\n",
        "2. Time elapsed from the start of the year until now in days.\n",
        "3. Serial number of a piece of lab equipment.\n",
        "4. A lab specimen’s age\n",
        "5. Current population of a city.\n",
        "6. Average population of a city over time."
      ]
    },
    {
      "cell_type": "markdown",
      "metadata": {
        "id": "ibIpMVNSzLSS"
      },
      "source": [
        "EXERCISE 4: ARITHMETIC WITH DIFFERENT TYPES\n",
        "\n",
        "Which of the following 6 commands will return the floating point number `2.0`?\n",
        "\n",
        "Note: There may be more than one right answer.\n",
        "\n",
        "```python\n",
        "first = 1.0\n",
        "second = \"1\"\n",
        "third = \"1.1\"\n",
        "```\n",
        "1. first + float(second)\n",
        "2. float(second) + float(third)\n",
        "3. first + int(third)\n",
        "4. first + int(float(third))\n",
        "5. int(first) + int(float(third))\n",
        "6. 2.0 * second\n"
      ]
    },
    {
      "cell_type": "code",
      "metadata": {
        "id": "JPQGAqZx1Go0"
      },
      "source": [
        "# solution 1 and 4"
      ],
      "execution_count": null,
      "outputs": []
    },
    {
      "cell_type": "markdown",
      "metadata": {
        "id": "fyDm9Jpp2A_G"
      },
      "source": [
        "### [Built-in Functions and Help](https://swcarpentry.github.io/python-novice-gapminder/04-built-in/index.html) - 15 min / 10 min exercises\n",
        "\n",
        "**Learning objectives**:\n",
        "* Explain the purpose of the functions.\n",
        "* Correctly call built-in Python functions.\n",
        "* Correctly nest calls to built-in functions.\n",
        "* Use help to display documentation for built-in functions.\n",
        "* Correctly describe situations in which SyntaxError and NameError occurs."
      ]
    },
    {
      "cell_type": "markdown",
      "metadata": {
        "id": "IZRVAXcvUAid"
      },
      "source": [
        "#### 1. Use comments to add documentation to programs."
      ]
    },
    {
      "cell_type": "code",
      "metadata": {
        "id": "04Fpj1sOUHqN"
      },
      "source": [
        "# this sentence isn't executed by Python\n",
        "adjustment = 0.5 # Neither is this - anything after '#' is ignored"
      ],
      "execution_count": null,
      "outputs": []
    },
    {
      "cell_type": "markdown",
      "metadata": {
        "id": "joRmcXQ-VWdh"
      },
      "source": [
        "#### 2. A function may take zero or more arguments.\n",
        "* An _argument_ is a value passed into a function.\n",
        "*`len` takes exactly one.\n",
        "* `int`, `str`, and `float` create a new value from an existing one.\n",
        "* `print` takes zero or more, with no arguments prints a blank line.\n"
      ]
    },
    {
      "cell_type": "code",
      "metadata": {
        "colab": {
          "base_uri": "https://localhost:8080/"
        },
        "id": "9dfLCJNQWYGJ",
        "outputId": "81674e39-5e4e-478b-9e6a-16c22168b121"
      },
      "source": [
        "print('before')\n",
        "print()\n",
        "print('after')"
      ],
      "execution_count": null,
      "outputs": [
        {
          "output_type": "stream",
          "text": [
            "before\n",
            "\n",
            "after\n"
          ],
          "name": "stdout"
        }
      ]
    },
    {
      "cell_type": "markdown",
      "metadata": {
        "id": "blcUQshVXQPU"
      },
      "source": [
        "#### 3. Every function returns something.\n",
        "* Every function call produces some results\n",
        "* If the function doesn't have a useful result to turn, it usually returns the special value `None` as no value."
      ]
    },
    {
      "cell_type": "code",
      "metadata": {
        "colab": {
          "base_uri": "https://localhost:8080/"
        },
        "id": "Kwves5C0Xrgt",
        "outputId": "3368a2d2-032e-4ecb-d378-d06f672fb80e"
      },
      "source": [
        "result = print('Example')\n",
        "print('results of print is', result)"
      ],
      "execution_count": null,
      "outputs": [
        {
          "output_type": "stream",
          "text": [
            "Example\n",
            "results of print is None\n"
          ],
          "name": "stdout"
        }
      ]
    },
    {
      "cell_type": "markdown",
      "metadata": {
        "id": "jub9h4ZGX2Pw"
      },
      "source": [
        "#### 4. Commonly-used built-in functions include `max`, `min`, and `round`.\n",
        "* Use `max` to find the largest value of one or more values.\n",
        "* Use `min` to find the smallest.\n",
        "* Both work on character string as well as numbers"
      ]
    },
    {
      "cell_type": "code",
      "metadata": {
        "colab": {
          "base_uri": "https://localhost:8080/"
        },
        "id": "jwepvWp4XzQe",
        "outputId": "9e1d4d0b-8e5b-493b-85e8-12e3d7246599"
      },
      "source": [
        "print(max(1,2,3))"
      ],
      "execution_count": null,
      "outputs": [
        {
          "output_type": "stream",
          "text": [
            "3\n"
          ],
          "name": "stdout"
        }
      ]
    },
    {
      "cell_type": "code",
      "metadata": {
        "colab": {
          "base_uri": "https://localhost:8080/"
        },
        "id": "pyLCRegOYO4k",
        "outputId": "90dfd9a6-f4b4-4159-c0ff-e320d0140f80"
      },
      "source": [
        "print(min('a', 'A', '1'))"
      ],
      "execution_count": null,
      "outputs": [
        {
          "output_type": "stream",
          "text": [
            "1\n"
          ],
          "name": "stdout"
        }
      ]
    },
    {
      "cell_type": "code",
      "metadata": {
        "colab": {
          "base_uri": "https://localhost:8080/"
        },
        "id": "FDWB4WfTYUt-",
        "outputId": "4793e4dd-e8ae-4979-f457-ce6578f97b58"
      },
      "source": [
        "print(min('A', 'B','R'))"
      ],
      "execution_count": null,
      "outputs": [
        {
          "output_type": "stream",
          "text": [
            "A\n"
          ],
          "name": "stdout"
        }
      ]
    },
    {
      "cell_type": "markdown",
      "metadata": {
        "id": "cWn7X_z5YuTK"
      },
      "source": [
        "#### 5. Functions may only work for certain (combinations of) arguments.\n",
        "* `max` and `min` must be given at least one argument\n",
        "* They must given things that can meaningfully be compared"
      ]
    },
    {
      "cell_type": "code",
      "metadata": {
        "colab": {
          "base_uri": "https://localhost:8080/",
          "height": 158
        },
        "id": "IqnlNdtSYcGb",
        "outputId": "375e1719-05ee-4b0d-e66e-1dd466d91de1"
      },
      "source": [
        "print(max(1,'f'))"
      ],
      "execution_count": null,
      "outputs": [
        {
          "output_type": "error",
          "ename": "TypeError",
          "evalue": "ignored",
          "traceback": [
            "\u001b[0;31m---------------------------------------------------------------------------\u001b[0m",
            "\u001b[0;31mTypeError\u001b[0m                                 Traceback (most recent call last)",
            "\u001b[0;32m<ipython-input-7-ee07a19b034e>\u001b[0m in \u001b[0;36m<module>\u001b[0;34m()\u001b[0m\n\u001b[0;32m----> 1\u001b[0;31m \u001b[0mprint\u001b[0m\u001b[0;34m(\u001b[0m\u001b[0mmax\u001b[0m\u001b[0;34m(\u001b[0m\u001b[0;36m1\u001b[0m\u001b[0;34m,\u001b[0m\u001b[0;34m'f'\u001b[0m\u001b[0;34m)\u001b[0m\u001b[0;34m)\u001b[0m\u001b[0;34m\u001b[0m\u001b[0;34m\u001b[0m\u001b[0m\n\u001b[0m",
            "\u001b[0;31mTypeError\u001b[0m: '>' not supported between instances of 'str' and 'int'"
          ]
        }
      ]
    },
    {
      "cell_type": "markdown",
      "metadata": {
        "id": "G7czuTC_Zb3q"
      },
      "source": [
        "#### 6. Functions may have default values for some arguments.\n",
        "* `round` will round off a floating-point number\n",
        "* By default, rounds to zero decimal places"
      ]
    },
    {
      "cell_type": "code",
      "metadata": {
        "colab": {
          "base_uri": "https://localhost:8080/"
        },
        "id": "OOZ3J13tZLAQ",
        "outputId": "fa701a3d-3c8e-4395-d01f-80bc7a6a2ecc"
      },
      "source": [
        "round(3.452)"
      ],
      "execution_count": null,
      "outputs": [
        {
          "output_type": "execute_result",
          "data": {
            "text/plain": [
              "3"
            ]
          },
          "metadata": {
            "tags": []
          },
          "execution_count": 8
        }
      ]
    },
    {
      "cell_type": "markdown",
      "metadata": {
        "id": "Pi2t5Kd0aDPp"
      },
      "source": [
        "* We can specify the number of decimals places we want"
      ]
    },
    {
      "cell_type": "code",
      "metadata": {
        "colab": {
          "base_uri": "https://localhost:8080/"
        },
        "id": "GS9rZXjAaAIl",
        "outputId": "0d9186d9-9464-4bb9-c017-61456228205d"
      },
      "source": [
        "round(3.714,1)"
      ],
      "execution_count": null,
      "outputs": [
        {
          "output_type": "execute_result",
          "data": {
            "text/plain": [
              "3.7"
            ]
          },
          "metadata": {
            "tags": []
          },
          "execution_count": 10
        }
      ]
    },
    {
      "cell_type": "markdown",
      "metadata": {
        "id": "pf-ZS5lSam7t"
      },
      "source": [
        "* Functions attached to objects are called methods"
      ]
    },
    {
      "cell_type": "code",
      "metadata": {
        "colab": {
          "base_uri": "https://localhost:8080/"
        },
        "id": "aJg9kWPpagxy",
        "outputId": "6b76c49f-193e-4c5a-e451-d0656c3fcb49"
      },
      "source": [
        "my_string = 'Hello  world!' # creating of a string object\n",
        "print(len(my_string))"
      ],
      "execution_count": null,
      "outputs": [
        {
          "output_type": "stream",
          "text": [
            "13\n"
          ],
          "name": "stdout"
        }
      ]
    },
    {
      "cell_type": "code",
      "metadata": {
        "colab": {
          "base_uri": "https://localhost:8080/"
        },
        "id": "8G1aewKabSdD",
        "outputId": "d2ba187d-2888-4125-ee6f-f5a0e827603c"
      },
      "source": [
        "print(my_string.isupper()) # not all the letters are uppercase"
      ],
      "execution_count": null,
      "outputs": [
        {
          "output_type": "stream",
          "text": [
            "False\n"
          ],
          "name": "stdout"
        }
      ]
    },
    {
      "cell_type": "code",
      "metadata": {
        "colab": {
          "base_uri": "https://localhost:8080/"
        },
        "id": "dJmvVjD0binl",
        "outputId": "2a8ea0bd-9637-44cc-eb2a-84f8e1002c59"
      },
      "source": [
        "print(my_string.upper())"
      ],
      "execution_count": null,
      "outputs": [
        {
          "output_type": "stream",
          "text": [
            "HELLO  WORLD!\n"
          ],
          "name": "stdout"
        }
      ]
    },
    {
      "cell_type": "markdown",
      "metadata": {
        "id": "7vVYOrrDbw5u"
      },
      "source": [
        "#### 7. Use the built-in function `help` to get help for a function."
      ]
    },
    {
      "cell_type": "code",
      "metadata": {
        "colab": {
          "base_uri": "https://localhost:8080/"
        },
        "id": "v3jaLb4Jbmnk",
        "outputId": "886c6de6-be02-4192-e467-5459d0cd6073"
      },
      "source": [
        "help(round)"
      ],
      "execution_count": null,
      "outputs": [
        {
          "output_type": "stream",
          "text": [
            "Help on built-in function round in module builtins:\n",
            "\n",
            "round(number, ndigits=None)\n",
            "    Round a number to a given precision in decimal digits.\n",
            "    \n",
            "    The return value is an integer if ndigits is omitted or None.  Otherwise\n",
            "    the return value has the same type as the number.  ndigits may be negative.\n",
            "\n"
          ],
          "name": "stdout"
        }
      ]
    },
    {
      "cell_type": "markdown",
      "metadata": {
        "id": "KcZHc968cVHN"
      },
      "source": [
        "#### 8. Python reports a syntax error when it can't understand the source of a program."
      ]
    },
    {
      "cell_type": "code",
      "metadata": {
        "colab": {
          "base_uri": "https://localhost:8080/",
          "height": 126
        },
        "id": "OMzUwOwzb5jt",
        "outputId": "08f5afd9-d5cd-486e-eef3-a6131b5d4146"
      },
      "source": [
        "print(\"hello world)"
      ],
      "execution_count": null,
      "outputs": [
        {
          "output_type": "error",
          "ename": "SyntaxError",
          "evalue": "ignored",
          "traceback": [
            "\u001b[0;36m  File \u001b[0;32m\"<ipython-input-17-1ec64a806ae8>\"\u001b[0;36m, line \u001b[0;32m1\u001b[0m\n\u001b[0;31m    print(\"hello world)\u001b[0m\n\u001b[0m                       ^\u001b[0m\n\u001b[0;31mSyntaxError\u001b[0m\u001b[0;31m:\u001b[0m EOL while scanning string literal\n"
          ]
        }
      ]
    },
    {
      "cell_type": "code",
      "metadata": {
        "colab": {
          "base_uri": "https://localhost:8080/",
          "height": 126
        },
        "id": "9Iuasy3Cc9g-",
        "outputId": "0d909f26-5eaa-4db7-9da2-c76693b5563a"
      },
      "source": [
        "print(\"hello world\""
      ],
      "execution_count": null,
      "outputs": [
        {
          "output_type": "error",
          "ename": "SyntaxError",
          "evalue": "ignored",
          "traceback": [
            "\u001b[0;36m  File \u001b[0;32m\"<ipython-input-18-fe69f65f3ba9>\"\u001b[0;36m, line \u001b[0;32m1\u001b[0m\n\u001b[0;31m    print(\"hello world\"\u001b[0m\n\u001b[0m                       ^\u001b[0m\n\u001b[0;31mSyntaxError\u001b[0m\u001b[0;31m:\u001b[0m unexpected EOF while parsing\n"
          ]
        }
      ]
    },
    {
      "cell_type": "markdown",
      "metadata": {
        "id": "T04L34hDdM87"
      },
      "source": [
        "* The message indicates a problem on first line of the input (“line 1”).\n",
        "* In this case the “ipython-input” section of the file name tells us that we are working with input into IPython, the Python interpreter used by the Jupyter Notebook.\n",
        "* The -6- part of the filename indicates that the error occurred in cell 6 of our Notebook.\n",
        "* Next is the problematic line of code, indicating the problem with a ^ pointer."
      ]
    },
    {
      "cell_type": "markdown",
      "metadata": {
        "id": "PKuqZW_VdWCV"
      },
      "source": [
        "#### 9. Python reports a runtime error when something goes wrong while a program is executing."
      ]
    },
    {
      "cell_type": "code",
      "metadata": {
        "colab": {
          "base_uri": "https://localhost:8080/",
          "height": 175
        },
        "id": "kyxmpkS_dCB-",
        "outputId": "d9b93226-638b-4d94-8007-11bbda7de377"
      },
      "source": [
        "age = 53\n",
        "remaining = 120 - aege # mis-spelled 'age"
      ],
      "execution_count": null,
      "outputs": [
        {
          "output_type": "error",
          "ename": "NameError",
          "evalue": "ignored",
          "traceback": [
            "\u001b[0;31m---------------------------------------------------------------------------\u001b[0m",
            "\u001b[0;31mNameError\u001b[0m                                 Traceback (most recent call last)",
            "\u001b[0;32m<ipython-input-19-842933b2a6fb>\u001b[0m in \u001b[0;36m<module>\u001b[0;34m()\u001b[0m\n\u001b[1;32m      1\u001b[0m \u001b[0mage\u001b[0m \u001b[0;34m=\u001b[0m \u001b[0;36m53\u001b[0m\u001b[0;34m\u001b[0m\u001b[0;34m\u001b[0m\u001b[0m\n\u001b[0;32m----> 2\u001b[0;31m \u001b[0mremaining\u001b[0m \u001b[0;34m=\u001b[0m \u001b[0;36m120\u001b[0m \u001b[0;34m-\u001b[0m \u001b[0maege\u001b[0m \u001b[0;31m# mis-spelled 'age\u001b[0m\u001b[0;34m\u001b[0m\u001b[0;34m\u001b[0m\u001b[0m\n\u001b[0m",
            "\u001b[0;31mNameError\u001b[0m: name 'aege' is not defined"
          ]
        }
      ]
    },
    {
      "cell_type": "markdown",
      "metadata": {
        "id": "p_fEzR1Ad-cN"
      },
      "source": [
        "EXERCISE 1: WHAT HAPPEN WHEN:\n",
        "1. Explain in simple terms the order of operations in the following program: when does the addition happen, when does the substraction happen, when is each function called, etc.\n",
        "2. What is the final value of `radiance`?"
      ]
    },
    {
      "cell_type": "code",
      "metadata": {
        "colab": {
          "base_uri": "https://localhost:8080/"
        },
        "id": "wiVYnCf-dxO4",
        "outputId": "354c0e6a-dfcc-4ff6-a016-5db01a077df8"
      },
      "source": [
        "radiance = 1.0\n",
        "radiance = max(2.1, 2.0 + min(radiance, 1.1*radiance -0.5))\n",
        "print(radiance)"
      ],
      "execution_count": null,
      "outputs": [
        {
          "output_type": "stream",
          "text": [
            "2.6\n"
          ],
          "name": "stdout"
        }
      ]
    },
    {
      "cell_type": "markdown",
      "metadata": {
        "id": "kxbWK0_yenxF"
      },
      "source": [
        "EXERCISE 2: SPOT THE DIFFERENCE\n",
        "1. Predict what each of the `print` statements in the program below will print\n",
        "2. Does `max(len(rich), poor)` run or produce an error message? If its runs, does its result make any sense?"
      ]
    },
    {
      "cell_type": "code",
      "metadata": {
        "colab": {
          "base_uri": "https://localhost:8080/"
        },
        "id": "67Qu5QZtebpJ",
        "outputId": "36397202-4155-477f-a3f4-e67254e0fa0f"
      },
      "source": [
        "easy_string = 'abc'\n",
        "print(max(easy_string))"
      ],
      "execution_count": null,
      "outputs": [
        {
          "output_type": "stream",
          "text": [
            "c\n"
          ],
          "name": "stdout"
        }
      ]
    },
    {
      "cell_type": "code",
      "metadata": {
        "colab": {
          "base_uri": "https://localhost:8080/"
        },
        "id": "CE4TkbcrfAzE",
        "outputId": "7945ab00-ed6e-497a-80a3-29139b273094"
      },
      "source": [
        "rich = 'gold'\n",
        "poor = 'tin'\n",
        "print(max(rich,poor))"
      ],
      "execution_count": null,
      "outputs": [
        {
          "output_type": "stream",
          "text": [
            "tin\n"
          ],
          "name": "stdout"
        }
      ]
    },
    {
      "cell_type": "code",
      "metadata": {
        "colab": {
          "base_uri": "https://localhost:8080/"
        },
        "id": "KvH_moA_fJko",
        "outputId": "feb45160-88d0-46c3-9e7a-b9d390ba01b5"
      },
      "source": [
        "print(max(len(rich), len(poor)))"
      ],
      "execution_count": null,
      "outputs": [
        {
          "output_type": "stream",
          "text": [
            "4\n"
          ],
          "name": "stdout"
        }
      ]
    },
    {
      "cell_type": "code",
      "metadata": {
        "colab": {
          "base_uri": "https://localhost:8080/",
          "height": 158
        },
        "id": "YWy_wYWifvxY",
        "outputId": "2ac07c07-40be-4780-e834-eeb681b69a5e"
      },
      "source": [
        "max(len(rich), poor)"
      ],
      "execution_count": null,
      "outputs": [
        {
          "output_type": "error",
          "ename": "TypeError",
          "evalue": "ignored",
          "traceback": [
            "\u001b[0;31m---------------------------------------------------------------------------\u001b[0m",
            "\u001b[0;31mTypeError\u001b[0m                                 Traceback (most recent call last)",
            "\u001b[0;32m<ipython-input-27-bc82ad05177a>\u001b[0m in \u001b[0;36m<module>\u001b[0;34m()\u001b[0m\n\u001b[0;32m----> 1\u001b[0;31m \u001b[0mmax\u001b[0m\u001b[0;34m(\u001b[0m\u001b[0mlen\u001b[0m\u001b[0;34m(\u001b[0m\u001b[0mrich\u001b[0m\u001b[0;34m)\u001b[0m\u001b[0;34m,\u001b[0m \u001b[0mpoor\u001b[0m\u001b[0;34m)\u001b[0m\u001b[0;34m\u001b[0m\u001b[0;34m\u001b[0m\u001b[0m\n\u001b[0m",
            "\u001b[0;31mTypeError\u001b[0m: '>' not supported between instances of 'str' and 'int'"
          ]
        }
      ]
    },
    {
      "cell_type": "markdown",
      "metadata": {
        "id": "p7vExovRf9uK"
      },
      "source": [
        "`max(len(rich), poor)` throws a TypeError. This turns into `max(4, 'tin')` and as we discussed earlier a string and integer cannot meaningfully be compared."
      ]
    },
    {
      "cell_type": "code",
      "metadata": {
        "id": "Msc5E5A9f7-i"
      },
      "source": [
        ""
      ],
      "execution_count": null,
      "outputs": []
    },
    {
      "cell_type": "markdown",
      "metadata": {
        "id": "RCwAlAaJjvyG"
      },
      "source": [
        "### [Libraries](https://swcarpentry.github.io/python-novice-gapminder/06-libraries/index.html) - 10 min/10 min exercise\n",
        "\n",
        "**Learning objectives**:\n",
        "* Explain what software libraries are and why programmers create and use them.\n",
        "* Write programs that import and use modules from Python's standard library.\n",
        "* Find and read documentation for the standard library interactively (in the interpreter) and online"
      ]
    },
    {
      "cell_type": "markdown",
      "metadata": {
        "id": "1XqQV-PGkZD3"
      },
      "source": [
        "#### 1. Most of the power of a programming language is in its libraries.\n",
        "1. A library is a collection of files (called modules) that contains functions for use by other programs.\n",
        "2. May also contain data values (e.g., numerical constants) and other things.\n",
        "3. Library’s contents are supposed to be related, but there’s no way to enforce that.\n",
        "4. The Python standard library is an extensive suite of modules that comes with Python itself.\n",
        "Many additional libraries are available from [PyPI](https://pypi.python.org/pypi/) (the Python Package Index).\n",
        "\n",
        "We will see later how to write new libraries.\n"
      ]
    },
    {
      "cell_type": "markdown",
      "metadata": {
        "id": "DclCz3Gwk3qP"
      },
      "source": [
        "#### 2. A program must import a library module before using it.\n",
        "* Use `import` to load a library module into a program's memory.\n",
        "* Then refer to things from the module as `module_name.thing_name`.\n",
        "* Using `math`, one of the modules in the standard library:"
      ]
    },
    {
      "cell_type": "code",
      "metadata": {
        "id": "WNF_ZGqVkKUO"
      },
      "source": [
        "import math"
      ],
      "execution_count": null,
      "outputs": []
    },
    {
      "cell_type": "code",
      "metadata": {
        "colab": {
          "base_uri": "https://localhost:8080/"
        },
        "id": "HyB4yG4-lYbC",
        "outputId": "5233b05d-8610-4ef9-8bde-977c139a1a73"
      },
      "source": [
        "print('pi is', math.pi)"
      ],
      "execution_count": null,
      "outputs": [
        {
          "output_type": "stream",
          "text": [
            "pi is 3.141592653589793\n"
          ],
          "name": "stdout"
        }
      ]
    },
    {
      "cell_type": "code",
      "metadata": {
        "colab": {
          "base_uri": "https://localhost:8080/"
        },
        "id": "m0SOwUp3leYy",
        "outputId": "ae4cf79e-34da-41e7-ca2e-54774d790362"
      },
      "source": [
        "print('cos(pi) is', math.cos(math.pi))"
      ],
      "execution_count": null,
      "outputs": [
        {
          "output_type": "stream",
          "text": [
            "cos(pi) is -1.0\n"
          ],
          "name": "stdout"
        }
      ]
    },
    {
      "cell_type": "code",
      "metadata": {
        "id": "Id4Mx_wFlny5"
      },
      "source": [
        ""
      ],
      "execution_count": null,
      "outputs": []
    },
    {
      "cell_type": "markdown",
      "metadata": {
        "id": "PvnlTGnyl2l8"
      },
      "source": [
        "#### 3. Use `help` to learn about the contents of a library module."
      ]
    },
    {
      "cell_type": "code",
      "metadata": {
        "colab": {
          "base_uri": "https://localhost:8080/"
        },
        "id": "NCwqjG4zl_uD",
        "outputId": "645e2914-b599-4cd8-b01a-7e7cb76b8590"
      },
      "source": [
        "help(math)"
      ],
      "execution_count": null,
      "outputs": [
        {
          "output_type": "stream",
          "text": [
            "Help on built-in module math:\n",
            "\n",
            "NAME\n",
            "    math\n",
            "\n",
            "DESCRIPTION\n",
            "    This module provides access to the mathematical functions\n",
            "    defined by the C standard.\n",
            "\n",
            "FUNCTIONS\n",
            "    acos(x, /)\n",
            "        Return the arc cosine (measured in radians) of x.\n",
            "    \n",
            "    acosh(x, /)\n",
            "        Return the inverse hyperbolic cosine of x.\n",
            "    \n",
            "    asin(x, /)\n",
            "        Return the arc sine (measured in radians) of x.\n",
            "    \n",
            "    asinh(x, /)\n",
            "        Return the inverse hyperbolic sine of x.\n",
            "    \n",
            "    atan(x, /)\n",
            "        Return the arc tangent (measured in radians) of x.\n",
            "    \n",
            "    atan2(y, x, /)\n",
            "        Return the arc tangent (measured in radians) of y/x.\n",
            "        \n",
            "        Unlike atan(y/x), the signs of both x and y are considered.\n",
            "    \n",
            "    atanh(x, /)\n",
            "        Return the inverse hyperbolic tangent of x.\n",
            "    \n",
            "    ceil(x, /)\n",
            "        Return the ceiling of x as an Integral.\n",
            "        \n",
            "        This is the smallest integer >= x.\n",
            "    \n",
            "    copysign(x, y, /)\n",
            "        Return a float with the magnitude (absolute value) of x but the sign of y.\n",
            "        \n",
            "        On platforms that support signed zeros, copysign(1.0, -0.0)\n",
            "        returns -1.0.\n",
            "    \n",
            "    cos(x, /)\n",
            "        Return the cosine of x (measured in radians).\n",
            "    \n",
            "    cosh(x, /)\n",
            "        Return the hyperbolic cosine of x.\n",
            "    \n",
            "    degrees(x, /)\n",
            "        Convert angle x from radians to degrees.\n",
            "    \n",
            "    erf(x, /)\n",
            "        Error function at x.\n",
            "    \n",
            "    erfc(x, /)\n",
            "        Complementary error function at x.\n",
            "    \n",
            "    exp(x, /)\n",
            "        Return e raised to the power of x.\n",
            "    \n",
            "    expm1(x, /)\n",
            "        Return exp(x)-1.\n",
            "        \n",
            "        This function avoids the loss of precision involved in the direct evaluation of exp(x)-1 for small x.\n",
            "    \n",
            "    fabs(x, /)\n",
            "        Return the absolute value of the float x.\n",
            "    \n",
            "    factorial(x, /)\n",
            "        Find x!.\n",
            "        \n",
            "        Raise a ValueError if x is negative or non-integral.\n",
            "    \n",
            "    floor(x, /)\n",
            "        Return the floor of x as an Integral.\n",
            "        \n",
            "        This is the largest integer <= x.\n",
            "    \n",
            "    fmod(x, y, /)\n",
            "        Return fmod(x, y), according to platform C.\n",
            "        \n",
            "        x % y may differ.\n",
            "    \n",
            "    frexp(x, /)\n",
            "        Return the mantissa and exponent of x, as pair (m, e).\n",
            "        \n",
            "        m is a float and e is an int, such that x = m * 2.**e.\n",
            "        If x is 0, m and e are both 0.  Else 0.5 <= abs(m) < 1.0.\n",
            "    \n",
            "    fsum(seq, /)\n",
            "        Return an accurate floating point sum of values in the iterable seq.\n",
            "        \n",
            "        Assumes IEEE-754 floating point arithmetic.\n",
            "    \n",
            "    gamma(x, /)\n",
            "        Gamma function at x.\n",
            "    \n",
            "    gcd(x, y, /)\n",
            "        greatest common divisor of x and y\n",
            "    \n",
            "    hypot(x, y, /)\n",
            "        Return the Euclidean distance, sqrt(x*x + y*y).\n",
            "    \n",
            "    isclose(a, b, *, rel_tol=1e-09, abs_tol=0.0)\n",
            "        Determine whether two floating point numbers are close in value.\n",
            "        \n",
            "          rel_tol\n",
            "            maximum difference for being considered \"close\", relative to the\n",
            "            magnitude of the input values\n",
            "          abs_tol\n",
            "            maximum difference for being considered \"close\", regardless of the\n",
            "            magnitude of the input values\n",
            "        \n",
            "        Return True if a is close in value to b, and False otherwise.\n",
            "        \n",
            "        For the values to be considered close, the difference between them\n",
            "        must be smaller than at least one of the tolerances.\n",
            "        \n",
            "        -inf, inf and NaN behave similarly to the IEEE 754 Standard.  That\n",
            "        is, NaN is not close to anything, even itself.  inf and -inf are\n",
            "        only close to themselves.\n",
            "    \n",
            "    isfinite(x, /)\n",
            "        Return True if x is neither an infinity nor a NaN, and False otherwise.\n",
            "    \n",
            "    isinf(x, /)\n",
            "        Return True if x is a positive or negative infinity, and False otherwise.\n",
            "    \n",
            "    isnan(x, /)\n",
            "        Return True if x is a NaN (not a number), and False otherwise.\n",
            "    \n",
            "    ldexp(x, i, /)\n",
            "        Return x * (2**i).\n",
            "        \n",
            "        This is essentially the inverse of frexp().\n",
            "    \n",
            "    lgamma(x, /)\n",
            "        Natural logarithm of absolute value of Gamma function at x.\n",
            "    \n",
            "    log(...)\n",
            "        log(x, [base=math.e])\n",
            "        Return the logarithm of x to the given base.\n",
            "        \n",
            "        If the base not specified, returns the natural logarithm (base e) of x.\n",
            "    \n",
            "    log10(x, /)\n",
            "        Return the base 10 logarithm of x.\n",
            "    \n",
            "    log1p(x, /)\n",
            "        Return the natural logarithm of 1+x (base e).\n",
            "        \n",
            "        The result is computed in a way which is accurate for x near zero.\n",
            "    \n",
            "    log2(x, /)\n",
            "        Return the base 2 logarithm of x.\n",
            "    \n",
            "    modf(x, /)\n",
            "        Return the fractional and integer parts of x.\n",
            "        \n",
            "        Both results carry the sign of x and are floats.\n",
            "    \n",
            "    pow(x, y, /)\n",
            "        Return x**y (x to the power of y).\n",
            "    \n",
            "    radians(x, /)\n",
            "        Convert angle x from degrees to radians.\n",
            "    \n",
            "    remainder(x, y, /)\n",
            "        Difference between x and the closest integer multiple of y.\n",
            "        \n",
            "        Return x - n*y where n*y is the closest integer multiple of y.\n",
            "        In the case where x is exactly halfway between two multiples of\n",
            "        y, the nearest even value of n is used. The result is always exact.\n",
            "    \n",
            "    sin(x, /)\n",
            "        Return the sine of x (measured in radians).\n",
            "    \n",
            "    sinh(x, /)\n",
            "        Return the hyperbolic sine of x.\n",
            "    \n",
            "    sqrt(x, /)\n",
            "        Return the square root of x.\n",
            "    \n",
            "    tan(x, /)\n",
            "        Return the tangent of x (measured in radians).\n",
            "    \n",
            "    tanh(x, /)\n",
            "        Return the hyperbolic tangent of x.\n",
            "    \n",
            "    trunc(x, /)\n",
            "        Truncates the Real x to the nearest Integral toward 0.\n",
            "        \n",
            "        Uses the __trunc__ magic method.\n",
            "\n",
            "DATA\n",
            "    e = 2.718281828459045\n",
            "    inf = inf\n",
            "    nan = nan\n",
            "    pi = 3.141592653589793\n",
            "    tau = 6.283185307179586\n",
            "\n",
            "FILE\n",
            "    (built-in)\n",
            "\n",
            "\n"
          ],
          "name": "stdout"
        }
      ]
    },
    {
      "cell_type": "markdown",
      "metadata": {
        "id": "Rj811pXEmYOs"
      },
      "source": [
        "#### 4. Import specific items from a library module to shorten programs.\n",
        "* Use `from.....import....` to load only specific items from a library module.\n",
        "* Then refer to them directly without library name as prefix."
      ]
    },
    {
      "cell_type": "code",
      "metadata": {
        "colab": {
          "base_uri": "https://localhost:8080/"
        },
        "id": "5oeomIAfmBJC",
        "outputId": "6ad9551f-b5d3-4259-8a91-90ef4ef711a7"
      },
      "source": [
        "from math import cos, pi\n",
        "print('cos(pi)', cos(pi))"
      ],
      "execution_count": null,
      "outputs": [
        {
          "output_type": "stream",
          "text": [
            "cos(pi) -1.0\n"
          ],
          "name": "stdout"
        }
      ]
    },
    {
      "cell_type": "markdown",
      "metadata": {
        "id": "3UsgNQjUnRpy"
      },
      "source": [
        "#### 5. Create an alias for a library module when importing it to shorten programs.\n",
        "* Use `import .... as ...` to give a library a short _alias_ while importing it.\n",
        "* Then refer to items in the library using that shortened name."
      ]
    },
    {
      "cell_type": "code",
      "metadata": {
        "colab": {
          "base_uri": "https://localhost:8080/"
        },
        "id": "Dh26MlJXm2HO",
        "outputId": "fdd24797-e6ff-4cfe-cca3-2627591e72ae"
      },
      "source": [
        "import math as m\n",
        "print('cost(pi) is', m.cos(m.pi))"
      ],
      "execution_count": null,
      "outputs": [
        {
          "output_type": "stream",
          "text": [
            "cost(pi) is -1.0\n"
          ],
          "name": "stdout"
        }
      ]
    },
    {
      "cell_type": "markdown",
      "metadata": {
        "id": "ohqzoR0jovVL"
      },
      "source": [
        "EXERCISE 1: EXPLORING THE MATH MODULE\n",
        "\n",
        "1. What function from the `math` module can you use to calculate a square root _without_ using `sqrt`?\n",
        "2. Since the library contains this function, why does `sqrt` exist?"
      ]
    },
    {
      "cell_type": "markdown",
      "metadata": {
        "id": "3pWu1KHEpkDy"
      },
      "source": [
        "EXERCISE 2: LOCATING THE RIGHT MODULE\n",
        "\n",
        "You want to select a random character from a string:\n",
        "1. Which [standard library](https://docs.python.org/3/library/) module could help you?\n",
        "2. Which function would you select from the module? Are there alternatives?\n",
        "3. Try to write a program that uses the function"
      ]
    },
    {
      "cell_type": "code",
      "metadata": {
        "colab": {
          "base_uri": "https://localhost:8080/"
        },
        "id": "O75ZASYdotf6",
        "outputId": "2d2ec2ce-722f-4bb6-8b03-2e9d18e8c24e"
      },
      "source": [
        "# solution\n",
        "from random import randrange\n",
        "\n",
        "bases = 'ACTGDDGRDDG'\n",
        "random_index = randrange(len(bases))\n",
        "print(bases[random_index])\n",
        "# other random.sample\n",
        "from random import sample\n",
        "print(sample(bases, 1)[0])"
      ],
      "execution_count": null,
      "outputs": [
        {
          "output_type": "stream",
          "text": [
            "D\n",
            "T\n"
          ],
          "name": "stdout"
        }
      ]
    },
    {
      "cell_type": "markdown",
      "metadata": {
        "id": "3dfJr4YwrAT-"
      },
      "source": [
        "EXERCISE 3: WHEN IS HELP AVAILABLE?\n",
        "* When a colleague of yours types `help(maths)` and it shows an error:\n",
        "```pyhon\n",
        "NameError: name 'math' is not defined\n",
        "```\n",
        "\n",
        "what has your colleague forgotten to do?"
      ]
    },
    {
      "cell_type": "markdown",
      "metadata": {
        "id": "Xc5VJ7rbr2cc"
      },
      "source": [
        "EXERCISE 4: READING ERROR MESSAGES\n",
        "1. Read the code below and try to identify what the errors are without running it\n",
        "2. Run the code, and read the error message. What type of error is it?\n",
        "\n",
        "```python\n",
        "from math import log\n",
        "log(0)\n",
        "```\n"
      ]
    },
    {
      "cell_type": "markdown",
      "metadata": {
        "id": "O_zBP1o3flzI"
      },
      "source": [
        "## 2. Analyse and visualise data with python - 11:05 to 12:25"
      ]
    },
    {
      "cell_type": "markdown",
      "metadata": {
        "id": "4UqsO7kFU6BZ"
      },
      "source": [
        "---\n",
        "\n",
        "### [Reading Tabular Data into DataFrames](https://swcarpentry.github.io/python-novice-gapminder/07-reading-tabular/index.html) - 10 min / 10 min exercises\n",
        "\n",
        "**Learning objectives**:\n",
        "- Import the Pandas library\n",
        "- Use Pandas to load a simple CSV data set\n",
        "- Get some basic information about a Pandas DataFrame"
      ]
    },
    {
      "cell_type": "markdown",
      "metadata": {
        "id": "zNLTL18adQ-Q"
      },
      "source": [
        "#### 1. Use the Pandas library to do statistics on tabular data:\n",
        "* Pandas is widely-used Python library for statistics, particularly on tabular data.\n",
        "* Borrows many features from R's dataframes:\n",
        "  - Two dimensional table whose columns have names and potentially have different type of data types/\n",
        "* Load it with `import pandas as pd`. The alias pd is commonly used for Pandas.\n",
        "* Read a Comma Separated Values (CSV) data file with `pd.read_csv`.\n",
        "  - Agument is the name of the file to be read.\n",
        "  - Assign result to a variable to store the data that was read."
      ]
    },
    {
      "cell_type": "code",
      "metadata": {
        "colab": {
          "base_uri": "https://localhost:8080/"
        },
        "id": "G6A8J_Lhctt5",
        "outputId": "cc725b62-d6ab-418f-85e0-a265cd687ea9"
      },
      "source": [
        "import pandas as pd\n",
        "\n",
        "data = pd.read_csv(\"https://raw.githubusercontent.com/MaastrichtU-IDS/coding4all/main/data/gapminder_gdp_oceania.csv?token=AMA7DPKNKUI3V6WJR3BZR53AKRNQA\")\n",
        "\n",
        "print(data)"
      ],
      "execution_count": null,
      "outputs": [
        {
          "output_type": "stream",
          "text": [
            "       country  gdpPercap_1952  ...  gdpPercap_2002  gdpPercap_2007\n",
            "0    Australia     10039.59564  ...     30687.75473     34435.36744\n",
            "1  New Zealand     10556.57566  ...     23189.80135     25185.00911\n",
            "\n",
            "[2 rows x 13 columns]\n"
          ],
          "name": "stdout"
        }
      ]
    },
    {
      "cell_type": "markdown",
      "metadata": {
        "id": "2rx6etPweG7o"
      },
      "source": [
        "* The columns in a dataframe are the observed variables, and the rows are the observations.\n",
        "* Pandas uses backslash `\\` to show wrapped lines when output is too wide to fit the screen.\n",
        "\n",
        "**File Not Found:**\n",
        "\n",
        "> Our lessons store their data files in a `data` sub-directory, which is why the path to the file is `data/...csv`. If you formet to include `data/` or if you include it but your cope of the file is somewhere else, you will bet a runtime error that ends with a line like this:\n",
        "\n",
        "`ERROR`: _OSError: File b'gapminder_gdp_oceania.csv' does not exist_"
      ]
    },
    {
      "cell_type": "markdown",
      "metadata": {
        "id": "hkcVQOK8fI1F"
      },
      "source": [
        "#### 2. Use `index_col` to specify that a column's values should be used as row headings:\n",
        "* Row headings are numbers (0 and 1 in this case)\n",
        "* Really want to index by country\n",
        "* Pass the name of the column to `read_csv` as its `index_col` parameter to do this"
      ]
    },
    {
      "cell_type": "code",
      "metadata": {
        "colab": {
          "base_uri": "https://localhost:8080/"
        },
        "id": "WP7jyrv1fs2l",
        "outputId": "d8a088f6-d5fd-441e-8cd5-2d00e9cb7e68"
      },
      "source": [
        "data = pd.read_csv(\"https://raw.githubusercontent.com/MaastrichtU-IDS/coding4all/main/data/gapminder_gdp_oceania.csv?token=AMA7DPKNKUI3V6WJR3BZR53AKRNQA\", index_col= \"country\")\n",
        "print(data)"
      ],
      "execution_count": null,
      "outputs": [
        {
          "output_type": "stream",
          "text": [
            "             gdpPercap_1952  gdpPercap_1957  ...  gdpPercap_2002  gdpPercap_2007\n",
            "country                                      ...                                \n",
            "Australia       10039.59564     10949.64959  ...     30687.75473     34435.36744\n",
            "New Zealand     10556.57566     12247.39532  ...     23189.80135     25185.00911\n",
            "\n",
            "[2 rows x 12 columns]\n"
          ],
          "name": "stdout"
        }
      ]
    },
    {
      "cell_type": "markdown",
      "metadata": {
        "id": "RkmwCa15f5lA"
      },
      "source": [
        "#### 3. Use the `DataFrame.info()` method to find out more about a dataframe"
      ]
    },
    {
      "cell_type": "code",
      "metadata": {
        "colab": {
          "base_uri": "https://localhost:8080/"
        },
        "id": "fhF7JMuqgCSl",
        "outputId": "461ca322-d43c-49d6-a26d-c3eaa0a8f8d0"
      },
      "source": [
        "data.info()"
      ],
      "execution_count": null,
      "outputs": [
        {
          "output_type": "stream",
          "text": [
            "<class 'pandas.core.frame.DataFrame'>\n",
            "Index: 2 entries, Australia to New Zealand\n",
            "Data columns (total 12 columns):\n",
            " #   Column          Non-Null Count  Dtype  \n",
            "---  ------          --------------  -----  \n",
            " 0   gdpPercap_1952  2 non-null      float64\n",
            " 1   gdpPercap_1957  2 non-null      float64\n",
            " 2   gdpPercap_1962  2 non-null      float64\n",
            " 3   gdpPercap_1967  2 non-null      float64\n",
            " 4   gdpPercap_1972  2 non-null      float64\n",
            " 5   gdpPercap_1977  2 non-null      float64\n",
            " 6   gdpPercap_1982  2 non-null      float64\n",
            " 7   gdpPercap_1987  2 non-null      float64\n",
            " 8   gdpPercap_1992  2 non-null      float64\n",
            " 9   gdpPercap_1997  2 non-null      float64\n",
            " 10  gdpPercap_2002  2 non-null      float64\n",
            " 11  gdpPercap_2007  2 non-null      float64\n",
            "dtypes: float64(12)\n",
            "memory usage: 288.0+ bytes\n"
          ],
          "name": "stdout"
        }
      ]
    },
    {
      "cell_type": "markdown",
      "metadata": {
        "id": "uUZNN7sfgNJd"
      },
      "source": [
        "* This is a DataFrame\n",
        "* Two rows named `Australia` and `New Zealand`\n",
        "* Twelve columns, each of which has two actual 64-bit floating point values\n",
        "  - We will talk later about null values, which are used to represent missing observations\n",
        "* Uses 208 bytes of memory"
      ]
    },
    {
      "cell_type": "markdown",
      "metadata": {
        "id": "DfL-CSHSiXAj"
      },
      "source": [
        "#### 4. The DataFrame.columns variable stores information about the dataframe's columns\n",
        "\n",
        "* Note that this is data, _not_ a method. (it doesn't have parentheses)\n",
        "  - Like `math.pi`\n",
        "  - So do not use `()` to call it"
      ]
    },
    {
      "cell_type": "code",
      "metadata": {
        "colab": {
          "base_uri": "https://localhost:8080/"
        },
        "id": "tgsIlosei0Tz",
        "outputId": "8ec2c2cc-472c-4417-da1d-861b9e322bdc"
      },
      "source": [
        "print(data.columns)"
      ],
      "execution_count": null,
      "outputs": [
        {
          "output_type": "stream",
          "text": [
            "Index(['gdpPercap_1952', 'gdpPercap_1957', 'gdpPercap_1962', 'gdpPercap_1967',\n",
            "       'gdpPercap_1972', 'gdpPercap_1977', 'gdpPercap_1982', 'gdpPercap_1987',\n",
            "       'gdpPercap_1992', 'gdpPercap_1997', 'gdpPercap_2002', 'gdpPercap_2007'],\n",
            "      dtype='object')\n"
          ],
          "name": "stdout"
        }
      ]
    },
    {
      "cell_type": "markdown",
      "metadata": {
        "id": "mIUo3PO6i-s0"
      },
      "source": [
        "#### 5. Use `DataFrame.T` to transpose a dataframe:\n",
        "\n",
        "* Sometimes want to treat columns as rows and vice versa.\n",
        "* Transpose (written `.T`) doesn't copy the data, just changes the program's view of it.\n",
        "* Like `columns`, it is a member variable\n"
      ]
    },
    {
      "cell_type": "code",
      "metadata": {
        "colab": {
          "base_uri": "https://localhost:8080/",
          "height": 421
        },
        "id": "gzEYw1Slj5ZA",
        "outputId": "c5bb7900-166b-493e-ad50-5ee1e95c0a2a"
      },
      "source": [
        "data.T"
      ],
      "execution_count": null,
      "outputs": [
        {
          "output_type": "execute_result",
          "data": {
            "text/html": [
              "<div>\n",
              "<style scoped>\n",
              "    .dataframe tbody tr th:only-of-type {\n",
              "        vertical-align: middle;\n",
              "    }\n",
              "\n",
              "    .dataframe tbody tr th {\n",
              "        vertical-align: top;\n",
              "    }\n",
              "\n",
              "    .dataframe thead th {\n",
              "        text-align: right;\n",
              "    }\n",
              "</style>\n",
              "<table border=\"1\" class=\"dataframe\">\n",
              "  <thead>\n",
              "    <tr style=\"text-align: right;\">\n",
              "      <th>country</th>\n",
              "      <th>Australia</th>\n",
              "      <th>New Zealand</th>\n",
              "    </tr>\n",
              "  </thead>\n",
              "  <tbody>\n",
              "    <tr>\n",
              "      <th>gdpPercap_1952</th>\n",
              "      <td>10039.59564</td>\n",
              "      <td>10556.57566</td>\n",
              "    </tr>\n",
              "    <tr>\n",
              "      <th>gdpPercap_1957</th>\n",
              "      <td>10949.64959</td>\n",
              "      <td>12247.39532</td>\n",
              "    </tr>\n",
              "    <tr>\n",
              "      <th>gdpPercap_1962</th>\n",
              "      <td>12217.22686</td>\n",
              "      <td>13175.67800</td>\n",
              "    </tr>\n",
              "    <tr>\n",
              "      <th>gdpPercap_1967</th>\n",
              "      <td>14526.12465</td>\n",
              "      <td>14463.91893</td>\n",
              "    </tr>\n",
              "    <tr>\n",
              "      <th>gdpPercap_1972</th>\n",
              "      <td>16788.62948</td>\n",
              "      <td>16046.03728</td>\n",
              "    </tr>\n",
              "    <tr>\n",
              "      <th>gdpPercap_1977</th>\n",
              "      <td>18334.19751</td>\n",
              "      <td>16233.71770</td>\n",
              "    </tr>\n",
              "    <tr>\n",
              "      <th>gdpPercap_1982</th>\n",
              "      <td>19477.00928</td>\n",
              "      <td>17632.41040</td>\n",
              "    </tr>\n",
              "    <tr>\n",
              "      <th>gdpPercap_1987</th>\n",
              "      <td>21888.88903</td>\n",
              "      <td>19007.19129</td>\n",
              "    </tr>\n",
              "    <tr>\n",
              "      <th>gdpPercap_1992</th>\n",
              "      <td>23424.76683</td>\n",
              "      <td>18363.32494</td>\n",
              "    </tr>\n",
              "    <tr>\n",
              "      <th>gdpPercap_1997</th>\n",
              "      <td>26997.93657</td>\n",
              "      <td>21050.41377</td>\n",
              "    </tr>\n",
              "    <tr>\n",
              "      <th>gdpPercap_2002</th>\n",
              "      <td>30687.75473</td>\n",
              "      <td>23189.80135</td>\n",
              "    </tr>\n",
              "    <tr>\n",
              "      <th>gdpPercap_2007</th>\n",
              "      <td>34435.36744</td>\n",
              "      <td>25185.00911</td>\n",
              "    </tr>\n",
              "  </tbody>\n",
              "</table>\n",
              "</div>"
            ],
            "text/plain": [
              "country           Australia  New Zealand\n",
              "gdpPercap_1952  10039.59564  10556.57566\n",
              "gdpPercap_1957  10949.64959  12247.39532\n",
              "gdpPercap_1962  12217.22686  13175.67800\n",
              "gdpPercap_1967  14526.12465  14463.91893\n",
              "gdpPercap_1972  16788.62948  16046.03728\n",
              "gdpPercap_1977  18334.19751  16233.71770\n",
              "gdpPercap_1982  19477.00928  17632.41040\n",
              "gdpPercap_1987  21888.88903  19007.19129\n",
              "gdpPercap_1992  23424.76683  18363.32494\n",
              "gdpPercap_1997  26997.93657  21050.41377\n",
              "gdpPercap_2002  30687.75473  23189.80135\n",
              "gdpPercap_2007  34435.36744  25185.00911"
            ]
          },
          "metadata": {
            "tags": []
          },
          "execution_count": 9
        }
      ]
    },
    {
      "cell_type": "markdown",
      "metadata": {
        "id": "lYXaxYJzkA27"
      },
      "source": [
        "#### 6. Use `DataFrame.describe()` to get summary statistics about data\n",
        "\n",
        "`DataFrame.describe()` gets the summary statistics of only the columns that have numerical data. All other columns are ignored, unless you use the argument `include = 'all'` "
      ]
    },
    {
      "cell_type": "code",
      "metadata": {
        "colab": {
          "base_uri": "https://localhost:8080/",
          "height": 317
        },
        "id": "z5QUhwiqkc8T",
        "outputId": "086088ad-a755-45a3-a13e-991ba5ce5b3e"
      },
      "source": [
        "data.describe()"
      ],
      "execution_count": null,
      "outputs": [
        {
          "output_type": "execute_result",
          "data": {
            "text/html": [
              "<div>\n",
              "<style scoped>\n",
              "    .dataframe tbody tr th:only-of-type {\n",
              "        vertical-align: middle;\n",
              "    }\n",
              "\n",
              "    .dataframe tbody tr th {\n",
              "        vertical-align: top;\n",
              "    }\n",
              "\n",
              "    .dataframe thead th {\n",
              "        text-align: right;\n",
              "    }\n",
              "</style>\n",
              "<table border=\"1\" class=\"dataframe\">\n",
              "  <thead>\n",
              "    <tr style=\"text-align: right;\">\n",
              "      <th></th>\n",
              "      <th>gdpPercap_1952</th>\n",
              "      <th>gdpPercap_1957</th>\n",
              "      <th>gdpPercap_1962</th>\n",
              "      <th>gdpPercap_1967</th>\n",
              "      <th>gdpPercap_1972</th>\n",
              "      <th>gdpPercap_1977</th>\n",
              "      <th>gdpPercap_1982</th>\n",
              "      <th>gdpPercap_1987</th>\n",
              "      <th>gdpPercap_1992</th>\n",
              "      <th>gdpPercap_1997</th>\n",
              "      <th>gdpPercap_2002</th>\n",
              "      <th>gdpPercap_2007</th>\n",
              "    </tr>\n",
              "  </thead>\n",
              "  <tbody>\n",
              "    <tr>\n",
              "      <th>count</th>\n",
              "      <td>2.000000</td>\n",
              "      <td>2.000000</td>\n",
              "      <td>2.000000</td>\n",
              "      <td>2.000000</td>\n",
              "      <td>2.00000</td>\n",
              "      <td>2.000000</td>\n",
              "      <td>2.000000</td>\n",
              "      <td>2.000000</td>\n",
              "      <td>2.000000</td>\n",
              "      <td>2.000000</td>\n",
              "      <td>2.000000</td>\n",
              "      <td>2.000000</td>\n",
              "    </tr>\n",
              "    <tr>\n",
              "      <th>mean</th>\n",
              "      <td>10298.085650</td>\n",
              "      <td>11598.522455</td>\n",
              "      <td>12696.452430</td>\n",
              "      <td>14495.021790</td>\n",
              "      <td>16417.33338</td>\n",
              "      <td>17283.957605</td>\n",
              "      <td>18554.709840</td>\n",
              "      <td>20448.040160</td>\n",
              "      <td>20894.045885</td>\n",
              "      <td>24024.175170</td>\n",
              "      <td>26938.778040</td>\n",
              "      <td>29810.188275</td>\n",
              "    </tr>\n",
              "    <tr>\n",
              "      <th>std</th>\n",
              "      <td>365.560078</td>\n",
              "      <td>917.644806</td>\n",
              "      <td>677.727301</td>\n",
              "      <td>43.986086</td>\n",
              "      <td>525.09198</td>\n",
              "      <td>1485.263517</td>\n",
              "      <td>1304.328377</td>\n",
              "      <td>2037.668013</td>\n",
              "      <td>3578.979883</td>\n",
              "      <td>4205.533703</td>\n",
              "      <td>5301.853680</td>\n",
              "      <td>6540.991104</td>\n",
              "    </tr>\n",
              "    <tr>\n",
              "      <th>min</th>\n",
              "      <td>10039.595640</td>\n",
              "      <td>10949.649590</td>\n",
              "      <td>12217.226860</td>\n",
              "      <td>14463.918930</td>\n",
              "      <td>16046.03728</td>\n",
              "      <td>16233.717700</td>\n",
              "      <td>17632.410400</td>\n",
              "      <td>19007.191290</td>\n",
              "      <td>18363.324940</td>\n",
              "      <td>21050.413770</td>\n",
              "      <td>23189.801350</td>\n",
              "      <td>25185.009110</td>\n",
              "    </tr>\n",
              "    <tr>\n",
              "      <th>25%</th>\n",
              "      <td>10168.840645</td>\n",
              "      <td>11274.086022</td>\n",
              "      <td>12456.839645</td>\n",
              "      <td>14479.470360</td>\n",
              "      <td>16231.68533</td>\n",
              "      <td>16758.837652</td>\n",
              "      <td>18093.560120</td>\n",
              "      <td>19727.615725</td>\n",
              "      <td>19628.685413</td>\n",
              "      <td>22537.294470</td>\n",
              "      <td>25064.289695</td>\n",
              "      <td>27497.598692</td>\n",
              "    </tr>\n",
              "    <tr>\n",
              "      <th>50%</th>\n",
              "      <td>10298.085650</td>\n",
              "      <td>11598.522455</td>\n",
              "      <td>12696.452430</td>\n",
              "      <td>14495.021790</td>\n",
              "      <td>16417.33338</td>\n",
              "      <td>17283.957605</td>\n",
              "      <td>18554.709840</td>\n",
              "      <td>20448.040160</td>\n",
              "      <td>20894.045885</td>\n",
              "      <td>24024.175170</td>\n",
              "      <td>26938.778040</td>\n",
              "      <td>29810.188275</td>\n",
              "    </tr>\n",
              "    <tr>\n",
              "      <th>75%</th>\n",
              "      <td>10427.330655</td>\n",
              "      <td>11922.958888</td>\n",
              "      <td>12936.065215</td>\n",
              "      <td>14510.573220</td>\n",
              "      <td>16602.98143</td>\n",
              "      <td>17809.077557</td>\n",
              "      <td>19015.859560</td>\n",
              "      <td>21168.464595</td>\n",
              "      <td>22159.406358</td>\n",
              "      <td>25511.055870</td>\n",
              "      <td>28813.266385</td>\n",
              "      <td>32122.777857</td>\n",
              "    </tr>\n",
              "    <tr>\n",
              "      <th>max</th>\n",
              "      <td>10556.575660</td>\n",
              "      <td>12247.395320</td>\n",
              "      <td>13175.678000</td>\n",
              "      <td>14526.124650</td>\n",
              "      <td>16788.62948</td>\n",
              "      <td>18334.197510</td>\n",
              "      <td>19477.009280</td>\n",
              "      <td>21888.889030</td>\n",
              "      <td>23424.766830</td>\n",
              "      <td>26997.936570</td>\n",
              "      <td>30687.754730</td>\n",
              "      <td>34435.367440</td>\n",
              "    </tr>\n",
              "  </tbody>\n",
              "</table>\n",
              "</div>"
            ],
            "text/plain": [
              "       gdpPercap_1952  gdpPercap_1957  ...  gdpPercap_2002  gdpPercap_2007\n",
              "count        2.000000        2.000000  ...        2.000000        2.000000\n",
              "mean     10298.085650    11598.522455  ...    26938.778040    29810.188275\n",
              "std        365.560078      917.644806  ...     5301.853680     6540.991104\n",
              "min      10039.595640    10949.649590  ...    23189.801350    25185.009110\n",
              "25%      10168.840645    11274.086022  ...    25064.289695    27497.598692\n",
              "50%      10298.085650    11598.522455  ...    26938.778040    29810.188275\n",
              "75%      10427.330655    11922.958888  ...    28813.266385    32122.777857\n",
              "max      10556.575660    12247.395320  ...    30687.754730    34435.367440\n",
              "\n",
              "[8 rows x 12 columns]"
            ]
          },
          "metadata": {
            "tags": []
          },
          "execution_count": 8
        }
      ]
    },
    {
      "cell_type": "markdown",
      "metadata": {
        "id": "tjz-Try0k9jt"
      },
      "source": [
        "EXERCISE 1: READING OTHER DATA\n",
        "\n",
        "Read the data in `gapminder_gdp_americas.csv` into a variable called `americas` and display its summary statistics"
      ]
    },
    {
      "cell_type": "code",
      "metadata": {
        "colab": {
          "base_uri": "https://localhost:8080/",
          "height": 810
        },
        "id": "hx6L2L_3lcIP",
        "outputId": "9d484a9d-4055-49c0-f699-c703948df724"
      },
      "source": [
        "path = 'https://raw.githubusercontent.com/MaastrichtU-IDS/coding4all/main/data/gapminder_gdp_americas.csv?token=AMA7DPJFRN6RH4UV6KKMPNDAKRRYY'\n",
        "\n",
        "americas = pd.read_csv(path, index_col= \"country\")\n",
        "print(americas)\n",
        "# stats\n",
        "americas.describe()"
      ],
      "execution_count": null,
      "outputs": [
        {
          "output_type": "stream",
          "text": [
            "                    continent  gdpPercap_1952  ...  gdpPercap_2002  gdpPercap_2007\n",
            "country                                        ...                                \n",
            "Argentina            Americas     5911.315053  ...     8797.640716    12779.379640\n",
            "Bolivia              Americas     2677.326347  ...     3413.262690     3822.137084\n",
            "Brazil               Americas     2108.944355  ...     8131.212843     9065.800825\n",
            "Canada               Americas    11367.161120  ...    33328.965070    36319.235010\n",
            "Chile                Americas     3939.978789  ...    10778.783850    13171.638850\n",
            "Colombia             Americas     2144.115096  ...     5755.259962     7006.580419\n",
            "Costa Rica           Americas     2627.009471  ...     7723.447195     9645.061420\n",
            "Cuba                 Americas     5586.538780  ...     6340.646683     8948.102923\n",
            "Dominican Republic   Americas     1397.717137  ...     4563.808154     6025.374752\n",
            "Ecuador              Americas     3522.110717  ...     5773.044512     6873.262326\n",
            "El Salvador          Americas     3048.302900  ...     5351.568666     5728.353514\n",
            "Guatemala            Americas     2428.237769  ...     4858.347495     5186.050003\n",
            "Haiti                Americas     1840.366939  ...     1270.364932     1201.637154\n",
            "Honduras             Americas     2194.926204  ...     3099.728660     3548.330846\n",
            "Jamaica              Americas     2898.530881  ...     6994.774861     7320.880262\n",
            "Mexico               Americas     3478.125529  ...    10742.440530    11977.574960\n",
            "Nicaragua            Americas     3112.363948  ...     2474.548819     2749.320965\n",
            "Panama               Americas     2480.380334  ...     7356.031934     9809.185636\n",
            "Paraguay             Americas     1952.308701  ...     3783.674243     4172.838464\n",
            "Peru                 Americas     3758.523437  ...     5909.020073     7408.905561\n",
            "Puerto Rico          Americas     3081.959785  ...    18855.606180    19328.709010\n",
            "Trinidad and Tobago  Americas     3023.271928  ...    11460.600230    18008.509240\n",
            "United States        Americas    13990.482080  ...    39097.099550    42951.653090\n",
            "Uruguay              Americas     5716.766744  ...     7727.002004    10611.462990\n",
            "Venezuela            Americas     7689.799761  ...     8605.047831    11415.805690\n",
            "\n",
            "[25 rows x 13 columns]\n"
          ],
          "name": "stdout"
        },
        {
          "output_type": "execute_result",
          "data": {
            "text/html": [
              "<div>\n",
              "<style scoped>\n",
              "    .dataframe tbody tr th:only-of-type {\n",
              "        vertical-align: middle;\n",
              "    }\n",
              "\n",
              "    .dataframe tbody tr th {\n",
              "        vertical-align: top;\n",
              "    }\n",
              "\n",
              "    .dataframe thead th {\n",
              "        text-align: right;\n",
              "    }\n",
              "</style>\n",
              "<table border=\"1\" class=\"dataframe\">\n",
              "  <thead>\n",
              "    <tr style=\"text-align: right;\">\n",
              "      <th></th>\n",
              "      <th>gdpPercap_1952</th>\n",
              "      <th>gdpPercap_1957</th>\n",
              "      <th>gdpPercap_1962</th>\n",
              "      <th>gdpPercap_1967</th>\n",
              "      <th>gdpPercap_1972</th>\n",
              "      <th>gdpPercap_1977</th>\n",
              "      <th>gdpPercap_1982</th>\n",
              "      <th>gdpPercap_1987</th>\n",
              "      <th>gdpPercap_1992</th>\n",
              "      <th>gdpPercap_1997</th>\n",
              "      <th>gdpPercap_2002</th>\n",
              "      <th>gdpPercap_2007</th>\n",
              "    </tr>\n",
              "  </thead>\n",
              "  <tbody>\n",
              "    <tr>\n",
              "      <th>count</th>\n",
              "      <td>25.000000</td>\n",
              "      <td>25.000000</td>\n",
              "      <td>25.000000</td>\n",
              "      <td>25.000000</td>\n",
              "      <td>25.000000</td>\n",
              "      <td>25.000000</td>\n",
              "      <td>25.000000</td>\n",
              "      <td>25.000000</td>\n",
              "      <td>25.000000</td>\n",
              "      <td>25.000000</td>\n",
              "      <td>25.000000</td>\n",
              "      <td>25.000000</td>\n",
              "    </tr>\n",
              "    <tr>\n",
              "      <th>mean</th>\n",
              "      <td>4079.062552</td>\n",
              "      <td>4616.043733</td>\n",
              "      <td>4901.541870</td>\n",
              "      <td>5668.253496</td>\n",
              "      <td>6491.334139</td>\n",
              "      <td>7352.007126</td>\n",
              "      <td>7506.737088</td>\n",
              "      <td>7793.400261</td>\n",
              "      <td>8044.934406</td>\n",
              "      <td>8889.300863</td>\n",
              "      <td>9287.677107</td>\n",
              "      <td>11003.031625</td>\n",
              "    </tr>\n",
              "    <tr>\n",
              "      <th>std</th>\n",
              "      <td>3001.727522</td>\n",
              "      <td>3312.381083</td>\n",
              "      <td>3421.740569</td>\n",
              "      <td>4160.885560</td>\n",
              "      <td>4754.404329</td>\n",
              "      <td>5355.602518</td>\n",
              "      <td>5530.490471</td>\n",
              "      <td>6665.039509</td>\n",
              "      <td>7047.089191</td>\n",
              "      <td>7874.225145</td>\n",
              "      <td>8895.817785</td>\n",
              "      <td>9713.209302</td>\n",
              "    </tr>\n",
              "    <tr>\n",
              "      <th>min</th>\n",
              "      <td>1397.717137</td>\n",
              "      <td>1544.402995</td>\n",
              "      <td>1662.137359</td>\n",
              "      <td>1452.057666</td>\n",
              "      <td>1654.456946</td>\n",
              "      <td>1874.298931</td>\n",
              "      <td>2011.159549</td>\n",
              "      <td>1823.015995</td>\n",
              "      <td>1456.309517</td>\n",
              "      <td>1341.726931</td>\n",
              "      <td>1270.364932</td>\n",
              "      <td>1201.637154</td>\n",
              "    </tr>\n",
              "    <tr>\n",
              "      <th>25%</th>\n",
              "      <td>2428.237769</td>\n",
              "      <td>2487.365989</td>\n",
              "      <td>2750.364446</td>\n",
              "      <td>3242.531147</td>\n",
              "      <td>4031.408271</td>\n",
              "      <td>4756.763836</td>\n",
              "      <td>4258.503604</td>\n",
              "      <td>4140.442097</td>\n",
              "      <td>4439.450840</td>\n",
              "      <td>4684.313807</td>\n",
              "      <td>4858.347495</td>\n",
              "      <td>5728.353514</td>\n",
              "    </tr>\n",
              "    <tr>\n",
              "      <th>50%</th>\n",
              "      <td>3048.302900</td>\n",
              "      <td>3780.546651</td>\n",
              "      <td>4086.114078</td>\n",
              "      <td>4643.393534</td>\n",
              "      <td>5305.445256</td>\n",
              "      <td>6281.290855</td>\n",
              "      <td>6434.501797</td>\n",
              "      <td>6360.943444</td>\n",
              "      <td>6618.743050</td>\n",
              "      <td>7113.692252</td>\n",
              "      <td>6994.774861</td>\n",
              "      <td>8948.102923</td>\n",
              "    </tr>\n",
              "    <tr>\n",
              "      <th>75%</th>\n",
              "      <td>3939.978789</td>\n",
              "      <td>4756.525781</td>\n",
              "      <td>5180.755910</td>\n",
              "      <td>5788.093330</td>\n",
              "      <td>6809.406690</td>\n",
              "      <td>7674.929108</td>\n",
              "      <td>8997.897412</td>\n",
              "      <td>7807.095818</td>\n",
              "      <td>8137.004775</td>\n",
              "      <td>9767.297530</td>\n",
              "      <td>8797.640716</td>\n",
              "      <td>11977.574960</td>\n",
              "    </tr>\n",
              "    <tr>\n",
              "      <th>max</th>\n",
              "      <td>13990.482080</td>\n",
              "      <td>14847.127120</td>\n",
              "      <td>16173.145860</td>\n",
              "      <td>19530.365570</td>\n",
              "      <td>21806.035940</td>\n",
              "      <td>24072.632130</td>\n",
              "      <td>25009.559140</td>\n",
              "      <td>29884.350410</td>\n",
              "      <td>32003.932240</td>\n",
              "      <td>35767.433030</td>\n",
              "      <td>39097.099550</td>\n",
              "      <td>42951.653090</td>\n",
              "    </tr>\n",
              "  </tbody>\n",
              "</table>\n",
              "</div>"
            ],
            "text/plain": [
              "       gdpPercap_1952  gdpPercap_1957  ...  gdpPercap_2002  gdpPercap_2007\n",
              "count       25.000000       25.000000  ...       25.000000       25.000000\n",
              "mean      4079.062552     4616.043733  ...     9287.677107    11003.031625\n",
              "std       3001.727522     3312.381083  ...     8895.817785     9713.209302\n",
              "min       1397.717137     1544.402995  ...     1270.364932     1201.637154\n",
              "25%       2428.237769     2487.365989  ...     4858.347495     5728.353514\n",
              "50%       3048.302900     3780.546651  ...     6994.774861     8948.102923\n",
              "75%       3939.978789     4756.525781  ...     8797.640716    11977.574960\n",
              "max      13990.482080    14847.127120  ...    39097.099550    42951.653090\n",
              "\n",
              "[8 rows x 12 columns]"
            ]
          },
          "metadata": {
            "tags": []
          },
          "execution_count": 12
        }
      ]
    },
    {
      "cell_type": "markdown",
      "metadata": {
        "id": "y6ZnVbThl2yg"
      },
      "source": [
        "EXERCISE 2: INSPECTING DATA\n",
        "\n",
        "After reading the data for the Americas, use `help(americas.head)` and `help(americas.tail)` to find out what `DataFrame.head` and `DataFrame.tail` do"
      ]
    },
    {
      "cell_type": "markdown",
      "metadata": {
        "id": "N765-pMGmVw4"
      },
      "source": [
        "EXERCISE 3: READING FILES IN OTHER DIRECTORIES\n",
        "\n",
        "The data for your current project is stored in a file called `microbes.csv`, which is located in a folder called `field_data`. You are doing analysis in a notebook called `analysis.ipynb` in a sibling folder called thesis:\n",
        "```\n",
        "your_home_directory\n",
        "+-- field_data/\n",
        "|   +-- microbes.csv\n",
        "+-- thesis/\n",
        "    +-- analysis.ipynb\n",
        "```\n",
        "\n",
        "SOL:\n",
        "We need to specify the path to the file of interest in the call to pd.read_csv. We first need to ‘jump’ out of the folder thesis using ‘../’ and then into the folder field_data using ‘field_data/’. Then we can specify the filename `microbes.csv. The result is as follows:\n",
        "`\n",
        "data_microbes = pd.read_csv('../field_data/microbes.csv')\n",
        "`\n"
      ]
    },
    {
      "cell_type": "markdown",
      "metadata": {
        "id": "srnV91nKnLVx"
      },
      "source": [
        "EXERCISE 4: WRITING DATA\n",
        "\n",
        "As well as the `read_csv` function for reading data from a file, Pandas provides a `to_csv` function to write dataframes to files. Applying what you’ve learned about reading from files, write one of your dataframes to a file called `processed.csv`. You can use `help` to get information on how to use `to_csv`.\n",
        "\n",
        "SOL:\n",
        "\n",
        "In order to write the DataFrame americas to a file called processed.csv, execute the following command:"
      ]
    },
    {
      "cell_type": "code",
      "metadata": {
        "id": "135j232onrpm"
      },
      "source": [
        "americas.to_csv('processed.csv')"
      ],
      "execution_count": null,
      "outputs": []
    },
    {
      "cell_type": "markdown",
      "metadata": {
        "id": "CbuMbUhqYAV3"
      },
      "source": [
        "---\n",
        "### Pandas DataFrames - 15 min / 15 min exercices\n",
        "\n",
        "**Learning objectives**:\n",
        "- Select individual values from a Pandas dataframe.\n",
        "- Select entire rows or entire columns from a dataframe.\n",
        "- Select a subset of both rows and columns from a dataframe in a single operation.\n",
        "- Select a subset of a dataframe by a single Boolean criterion.\n",
        "\n"
      ]
    },
    {
      "cell_type": "markdown",
      "metadata": {
        "id": "KakWCAxoYUEg"
      },
      "source": [
        "A DataFrame is a collection of Series; The DataFrame is the way Pandas represents a table, and Series is the data-structure Pandas use to represent a column.\n",
        "\n",
        "Pandas is built on top of the Numpy library, which in practice means that most of the methods defined for Numpy Arrays apply to Pandas Series/DataFrames.\n",
        "\n",
        "What makes Pandas so attractive is the powerful interface to access individual records of the table, proper handling of missing values, and relational-databases operations between DataFrames."
      ]
    },
    {
      "cell_type": "markdown",
      "metadata": {
        "id": "_TUPLQO-YZ20"
      },
      "source": [
        "#### 1. Selecting values\n",
        "To access a value at the position `[i,j]` of a DataFrame, we have two options, depending on what is the meaning of `i` in use. Remember that a DataFrame provides an index as a way to identify the rows of the table; a row, then, has a position inside the table as well as a label, which uniquely identifies its entry in the DataFrame."
      ]
    },
    {
      "cell_type": "markdown",
      "metadata": {
        "id": "GcyoWU1SYZ7w"
      },
      "source": [
        "Use DataFrame.iloc[..., ...] to select values by their (entry) position"
      ]
    },
    {
      "cell_type": "code",
      "metadata": {
        "id": "oDMQXTgUYlxK"
      },
      "source": [
        "import pandas as pd\n",
        "data = pd.read_csv('data/gapminder_gdp_europe.csv', index_col='country')\n",
        "print(data.iloc[0, 0])"
      ],
      "execution_count": null,
      "outputs": []
    },
    {
      "cell_type": "markdown",
      "metadata": {
        "id": "TIj-o8evYaBA"
      },
      "source": [
        "Use DataFrame.loc[..., ...] to select values by their (entry) label."
      ]
    },
    {
      "cell_type": "code",
      "metadata": {
        "id": "YdNvba1tYYU5"
      },
      "source": [
        "print(data.loc[\"Albania\", \"gdpPercap_1952\"])"
      ],
      "execution_count": null,
      "outputs": []
    },
    {
      "cell_type": "markdown",
      "metadata": {
        "id": "rP78iZrQYqEf"
      },
      "source": [
        "Use `:` on its own to mean all columns or all rows."
      ]
    },
    {
      "cell_type": "code",
      "metadata": {
        "id": "l8qYheqRYsN2"
      },
      "source": [
        "print(data.loc[\"Albania\", :])"
      ],
      "execution_count": null,
      "outputs": []
    },
    {
      "cell_type": "markdown",
      "metadata": {
        "id": "v9uHivPFYvMu"
      },
      "source": [
        "Would get the same result printing `data.loc[\"Albania\"]`(without a second index)."
      ]
    },
    {
      "cell_type": "code",
      "metadata": {
        "id": "s4xU3eniYykO"
      },
      "source": [
        "print(data.loc[:, \"gdpPercap_1952\"])"
      ],
      "execution_count": null,
      "outputs": []
    },
    {
      "cell_type": "markdown",
      "metadata": {
        "id": "AIKYm_-HY2gK"
      },
      "source": [
        "- Would get the same result printing `data[\"gdpPercap_1952\"]`\n",
        "- Also get the same result printing `data.gdpPercap_1952` (not recommended, because easily confused with . notation for methods)"
      ]
    },
    {
      "cell_type": "code",
      "metadata": {
        "id": "HBfJHC4VY9Co"
      },
      "source": [
        "print(data.loc['Italy':'Poland', 'gdpPercap_1962':'gdpPercap_1972'])"
      ],
      "execution_count": null,
      "outputs": []
    },
    {
      "cell_type": "markdown",
      "metadata": {
        "id": "vYdmDRDVY-4Q"
      },
      "source": [
        "In the above code, we discover that slicing using `loc` is inclusive at both ends, which differs from slicing using `iloc`, where slicing indicates everything up to but not including the final index."
      ]
    },
    {
      "cell_type": "markdown",
      "metadata": {
        "id": "wA-hjrPDZDZP"
      },
      "source": [
        "#### 2. Result of slicing can be used in further operations.\n",
        "\n",
        "- Usually don’t just print a slice.\n",
        "- All the statistical operators that work on entire dataframes work the same way on slices.\n",
        "- E.g., calculate max of a slice."
      ]
    },
    {
      "cell_type": "code",
      "metadata": {
        "id": "YCJEjf3UZGEd"
      },
      "source": [
        "print(data.loc['Italy':'Poland', 'gdpPercap_1962':'gdpPercap_1972'].max())\n"
      ],
      "execution_count": null,
      "outputs": []
    },
    {
      "cell_type": "code",
      "metadata": {
        "id": "X2vuKk1iZQZD"
      },
      "source": [
        "print(data.loc['Italy':'Poland', 'gdpPercap_1962':'gdpPercap_1972'].min())"
      ],
      "execution_count": null,
      "outputs": []
    },
    {
      "cell_type": "markdown",
      "metadata": {
        "id": "ou2oSn52ZNPh"
      },
      "source": [
        "Use comparisons to select data based on value."
      ]
    },
    {
      "cell_type": "code",
      "metadata": {
        "id": "Ztm0-JjQZZKj"
      },
      "source": [
        "subset = data.loc['Italy':'Poland', 'gdpPercap_1962':'gdpPercap_1972']\n",
        "print('Subset of data:\\n', subset)\n",
        "\n",
        "# Which values were greater than 10000 ?\n",
        "print('\\nWhere are values large?\\n', subset > 10000)"
      ],
      "execution_count": null,
      "outputs": []
    },
    {
      "cell_type": "markdown",
      "metadata": {
        "id": "ndgH_Y7yZZ2Y"
      },
      "source": [
        "#### 3. Select values or NaN using a Boolean mask."
      ]
    },
    {
      "cell_type": "code",
      "metadata": {
        "id": "w285dbubZkq_"
      },
      "source": [
        "mask = subset > 10000\n",
        "print(subset[mask])\n",
        "#print(subset[subset > 10000].describe())\n"
      ],
      "execution_count": null,
      "outputs": []
    },
    {
      "cell_type": "markdown",
      "metadata": {
        "id": "kF_9ZncgZm_q"
      },
      "source": [
        "4. Group By: split-apply-combine\n",
        "\n",
        "- Pandas vectorizing methods and grouping operations are features that provide users much flexibility to analyse their data.\n",
        "\n",
        "- For instance, let’s say we want to have a clearer view on how the European countries split themselves according to their GDP."
      ]
    },
    {
      "cell_type": "code",
      "metadata": {
        "id": "QlSWZaomZwdy"
      },
      "source": [
        "mask_higher = data > data.mean()\n",
        "wealth_score = mask_higher.aggregate('sum', axis=1) / len(data.columns)\n",
        "wealth_score\n",
        "\n",
        "data.groupby(wealth_score).sum()"
      ],
      "execution_count": null,
      "outputs": []
    },
    {
      "cell_type": "markdown",
      "metadata": {
        "id": "FDZBn6XCaTzS"
      },
      "source": [
        ""
      ]
    },
    {
      "cell_type": "markdown",
      "metadata": {
        "id": "bNIfcytA1Xj3"
      },
      "source": [
        "---\n",
        "### Plotting - 15 min / 15 min exercices\n",
        "\n",
        "**Learning objectives**:\n",
        "- Understand the logic of matplotlob library\n",
        "- Create a time series plot showing a single data set.\n",
        "- Create a scatter plot showing relationship between two data sets.\n"
      ]
    },
    {
      "cell_type": "markdown",
      "metadata": {
        "id": "sUskgZrzWS6G"
      },
      "source": [
        "#### 1. `matplotlib` is the most widely used scientific plotting library in Python.\n",
        "\n",
        "- Commonly use a sub-library called matplotlib.pyplot.\n",
        "- The Jupyter Notebook will render plots inline if we ask it to using a “magic” command."
      ]
    },
    {
      "cell_type": "code",
      "metadata": {
        "id": "rCKJV3xd0o2C"
      },
      "source": [
        "%matplotlib inline\n",
        "import matplotlib.pyplot as plt"
      ],
      "execution_count": null,
      "outputs": []
    },
    {
      "cell_type": "markdown",
      "metadata": {
        "id": "DmzNE5Dz1j-B"
      },
      "source": [
        "- Simple plots are then (fairly) simple to create."
      ]
    },
    {
      "cell_type": "code",
      "metadata": {
        "id": "xu2haxyb1ls-"
      },
      "source": [
        "time = [0, 1, 2, 3]\n",
        "position = [0, 100, 200, 300]\n",
        "\n",
        "plt.plot(time, position)\n",
        "plt.xlabel('Time (hr)')\n",
        "plt.ylabel('Position (km)')"
      ],
      "execution_count": null,
      "outputs": []
    },
    {
      "cell_type": "markdown",
      "metadata": {
        "id": "dMqECxjU1rXT"
      },
      "source": [
        "    In our Jupyter Notebook example with %matplotlib inline, running the cell generates the figure directly below the code. The figure is also included in the Notebook document for future viewing. However, other Python environments require an additional command in order to display the figure.\n",
        "\n",
        "    Instruct matplotlib to show a figure:\n",
        "    \n",
        "`plt.show()`"
      ]
    },
    {
      "cell_type": "markdown",
      "metadata": {
        "id": "uShJRXZS1v7P"
      },
      "source": [
        "#### 2. A Gapminder example"
      ]
    },
    {
      "cell_type": "code",
      "metadata": {
        "id": "ULN7-TZX1lxG"
      },
      "source": [
        "import plotly.express as px\n",
        "import pandas as pd"
      ],
      "execution_count": null,
      "outputs": []
    },
    {
      "cell_type": "code",
      "metadata": {
        "id": "Pe_yqq4H10SR"
      },
      "source": [
        "data = px.data.gapminder()"
      ],
      "execution_count": null,
      "outputs": []
    },
    {
      "cell_type": "code",
      "metadata": {
        "id": "1rn_cNrM10b7"
      },
      "source": [
        "data.head(10)"
      ],
      "execution_count": null,
      "outputs": []
    },
    {
      "cell_type": "code",
      "metadata": {
        "id": "evsKj_Bn16JY"
      },
      "source": [
        "data.to_csv('gapminder.csv')"
      ],
      "execution_count": null,
      "outputs": []
    },
    {
      "cell_type": "code",
      "metadata": {
        "id": "lh5EdPHt16L1"
      },
      "source": [
        "data_ned = data[data['country'] == 'Netherlands']"
      ],
      "execution_count": null,
      "outputs": []
    },
    {
      "cell_type": "code",
      "metadata": {
        "id": "JmLcXZoO2AxG"
      },
      "source": [
        "plt.plot(data_ned['year'], data_ned['gdpPercap'])"
      ],
      "execution_count": null,
      "outputs": []
    },
    {
      "cell_type": "markdown",
      "metadata": {
        "id": "L6_ZApog2EnU"
      },
      "source": [
        "Can plot many sets of data together."
      ]
    },
    {
      "cell_type": "code",
      "metadata": {
        "id": "2jjxV_gV2HIQ"
      },
      "source": [
        "# Select two countries' worth of data.\n",
        "data_ger = data[data['country'] == 'Germany']\n",
        "data_mex = data[data['country'] == 'Mexico']"
      ],
      "execution_count": null,
      "outputs": []
    },
    {
      "cell_type": "code",
      "metadata": {
        "id": "gMXpP0Kc2KDA"
      },
      "source": [
        "plt.plot(data_mex['year'], data_mex['gdpPercap'])\n",
        "plt.plot(data_ger['year'], data_ger['gdpPercap'])\n",
        "plt.xlabel('Year')\n",
        "plt.ylabel('GDP per capita')\n",
        "plt.show()"
      ],
      "execution_count": null,
      "outputs": []
    },
    {
      "cell_type": "markdown",
      "metadata": {
        "id": "yr2vi27v2NPb"
      },
      "source": [
        "#### 3. Many styles of plot are available.\n",
        "\n",
        "Often when plotting multiple datasets on the same figure it is desirable to have a legend describing the data.\n",
        "\n",
        "This can be done in `matplotlib` in two stages:\n",
        "\n",
        "- Provide a **label** for each dataset in the figure:\n",
        "- Instruct matplotlib to create the **legend**."
      ]
    },
    {
      "cell_type": "code",
      "metadata": {
        "id": "YiKMWCha2HV8"
      },
      "source": [
        "plt.style.use('ggplot')\n",
        "plt.plot(data_ger['year'], data_ger['gdpPercap'], label ='Germany', )\n",
        "plt.plot(data_mex['year'], data_mex['gdpPercap'], label ='Mexico', linestyle = \"--\", color = \"green\")\n",
        "plt.xlabel('Year')\n",
        "plt.ylabel('GDP per capita')\n",
        "plt.legend(loc='upper left')\n",
        "plt.show()\n"
      ],
      "execution_count": null,
      "outputs": []
    },
    {
      "cell_type": "markdown",
      "metadata": {
        "id": "vVshZFK52Vng"
      },
      "source": [
        "#### 4. Playing around with intervals and exploring pandas tricks"
      ]
    },
    {
      "cell_type": "code",
      "metadata": {
        "id": "jr61Hsqw2XQs"
      },
      "source": [
        "data\\\n",
        "    [data['continent'] == 'Europe']\\\n",
        "    [['year','gdpPercap']]\\\n",
        "    .groupby('year')\\\n",
        "    .agg([\"min\",\"mean\",\"max\"])\\\n",
        "    .plot()"
      ],
      "execution_count": null,
      "outputs": []
    },
    {
      "cell_type": "markdown",
      "metadata": {
        "id": "dqupCnNp2fiv"
      },
      "source": [
        "#### 5. Scatter plots to see correlations\n",
        "\n",
        "Take a deeper look at the axis, they are no longer a time series.\n",
        "\n",
        "Modify the example in the notes to create a scatter plot showing the relationship between the minimum and maximum GDP per capita among the countries in Asia for each year in the data set. What relationship do you see (if any)?"
      ]
    },
    {
      "cell_type": "code",
      "metadata": {
        "id": "K4UPXRKL2iX0"
      },
      "source": [
        "plt.scatter(data_ger['gdpPercap'], data_ned['gdpPercap'])"
      ],
      "execution_count": null,
      "outputs": []
    },
    {
      "cell_type": "markdown",
      "metadata": {
        "id": "OY1xGu2z2nmC"
      },
      "source": [
        "Add the necessary labels  \n",
        "Comment on the trend"
      ]
    },
    {
      "cell_type": "markdown",
      "metadata": {
        "id": "uquSlzC22r2P"
      },
      "source": [
        "#### 6. Analysing other variables \n",
        "Let's make a cut now by year and plot the continous variables"
      ]
    },
    {
      "cell_type": "code",
      "metadata": {
        "id": "xxltKHE52qa4"
      },
      "source": [
        "data_2007 = data[data['year'] == 2007]"
      ],
      "execution_count": null,
      "outputs": []
    },
    {
      "cell_type": "code",
      "metadata": {
        "id": "hNDuqPur2yy4"
      },
      "source": [
        "data_2007.columns"
      ],
      "execution_count": null,
      "outputs": []
    },
    {
      "cell_type": "code",
      "metadata": {
        "id": "bgrl9xjf2ziU"
      },
      "source": [
        "plt.scatter(x = data_2007['gdpPercap'], \n",
        "            y = data_2007['lifeExp'], \n",
        "            s = data_2007['pop']/1e6)"
      ],
      "execution_count": null,
      "outputs": []
    },
    {
      "cell_type": "markdown",
      "metadata": {
        "id": "VdgKdz1h23NV"
      },
      "source": [
        "A good place to look is the documentation for the plot function `plt.scatter?`. \n",
        "x and y - A column name or index that determines what data will be placed on the x and y axes of the plot\n",
        "\n",
        "s - Details for this can be found in the documentation of plt.scatter. A single number or one value for each data point. Determines the size of the plotted points."
      ]
    },
    {
      "cell_type": "markdown",
      "metadata": {
        "id": "oqlSwQZS25zI"
      },
      "source": [
        "#### Saving your plot to a file\n",
        "\n",
        "If you are satisfied with the plot you see you may want to save it to a file, perhaps to include it in a publication. There is a function in the matplotlib.pyplot module that accomplishes this: savefig. Calling this function, e.g. with\n",
        "`plt.savefig('my_figure.png')`"
      ]
    },
    {
      "cell_type": "markdown",
      "metadata": {
        "id": "cnmXWJf_29Vm"
      },
      "source": [
        "#### 7. Making your plots accessible\n",
        "\n",
        "Whenever you are generating plots to go into a paper or a presentation, there are a few things you can do to make sure that everyone can understand your plots.\n",
        "\n",
        "- Always make sure your text is large enough to read. Use the fontsize parameter in xlabel, ylabel, title, and legend, and tick_params with labelsize to increase the text size of the numbers on your axes.\n",
        "- Similarly, you should make your graph elements easy to see. Use s to increase the size of your scatterplot markers and linewidth to increase the sizes of your plot lines.\n",
        "- Using color (and nothing else) to distinguish between different plot elements will make your plots unreadable to anyone who is colorblind, or who happens to have a black-and-white office printer. For lines, the linestyle parameter lets you use different types of lines. For scatterplots, marker lets you change the shape of your points. If you’re unsure about your colors, you can use Coblis or Color Oracle to simulate what your plots would look like to those with colorblindness."
      ]
    },
    {
      "cell_type": "markdown",
      "metadata": {
        "id": "FdGL6wcZ3Fma"
      },
      "source": [
        "#### 8. Bonus: Plotly Express"
      ]
    },
    {
      "cell_type": "code",
      "metadata": {
        "id": "zx2h05im3E9d"
      },
      "source": [
        "px.scatter(data_2007, x=\"gdpPercap\", y=\"lifeExp\", color=\"continent\", size=\"pop\", size_max=50)"
      ],
      "execution_count": null,
      "outputs": []
    },
    {
      "cell_type": "markdown",
      "metadata": {
        "id": "xAQIRvwOf9wh"
      },
      "source": [
        "## 3. List and for loops - 13:00 to 14:10"
      ]
    },
    {
      "cell_type": "markdown",
      "metadata": {
        "id": "f8bJoNach3Zt"
      },
      "source": [
        "### [Lists](https://swcarpentry.github.io/python-novice-gapminder/11-lists/index.html) - 10 min / 10 min exercises\n",
        "\n",
        "**Learning objectives**:\n",
        "* Explain why programs need collections of values.\n",
        "* Write programs that create flat lists, index them, slice them, and modify them through assignment and method calls."
      ]
    },
    {
      "cell_type": "markdown",
      "metadata": {
        "id": "EyKNEncgiiaa"
      },
      "source": [
        "#### 1. A List stores many values in a single structure.\n",
        "\n",
        "* Doing calculations with a hundred variables called `pressure_001`, `pressure_002`, etc would be at least as slow as doing them by hand.\n",
        "\n",
        "* Use a `list`to store many values together.\n",
        "    * Contained with square brackets `[...]`.\n",
        "    * Values separated by commas `,`.\n",
        "\n",
        "* Use `len`to find out how many values are in a List\n"
      ]
    },
    {
      "cell_type": "code",
      "metadata": {
        "colab": {
          "base_uri": "https://localhost:8080/"
        },
        "id": "z2X2hr_bhd3C",
        "outputId": "8ed62272-a058-4578-d0f0-b25e63e62f82"
      },
      "source": [
        "pressures = [0.273, 0.656, 0.665, 0.224, 0.4433]\n",
        "print('pressure:', pressures)\n",
        "print('Length:', len(pressures))"
      ],
      "execution_count": null,
      "outputs": [
        {
          "output_type": "stream",
          "text": [
            "pressure: [0.273, 0.656, 0.665, 0.224, 0.4433]\n",
            "Length: 5\n"
          ],
          "name": "stdout"
        }
      ]
    },
    {
      "cell_type": "markdown",
      "metadata": {
        "id": "itWPJJ_bkicY"
      },
      "source": [
        "#### 2. Use an item's index to fetch it from a List.\n",
        "\n",
        "* Just like strings"
      ]
    },
    {
      "cell_type": "code",
      "metadata": {
        "colab": {
          "base_uri": "https://localhost:8080/"
        },
        "id": "qeHgRK8TkfHs",
        "outputId": "4b094e81-ffbb-4885-dc3b-53935112a3f6"
      },
      "source": [
        "print(\"zeroth item of pressures:\", pressures[0])"
      ],
      "execution_count": null,
      "outputs": [
        {
          "output_type": "stream",
          "text": [
            "zeroth item of pressures: 0.273\n"
          ],
          "name": "stdout"
        }
      ]
    },
    {
      "cell_type": "code",
      "metadata": {
        "colab": {
          "base_uri": "https://localhost:8080/"
        },
        "id": "CpV8H-VgkxyS",
        "outputId": "a276cc7c-3334-425a-f59b-976580de8861"
      },
      "source": [
        "print('fourth item of pressures:', pressures[3])"
      ],
      "execution_count": null,
      "outputs": [
        {
          "output_type": "stream",
          "text": [
            "fourth item of pressures: 0.224\n"
          ],
          "name": "stdout"
        }
      ]
    },
    {
      "cell_type": "markdown",
      "metadata": {
        "id": "AXrrYexmlH5i"
      },
      "source": [
        "#### 3. Lists' values can be replaced by assigning to them.\n",
        "\n",
        "* Use an index expression on the left of the assignment to replace a value."
      ]
    },
    {
      "cell_type": "code",
      "metadata": {
        "colab": {
          "base_uri": "https://localhost:8080/"
        },
        "id": "kMGnjUEXk5Wv",
        "outputId": "36871e8c-bc8c-487d-cf16-98b2b63f9342"
      },
      "source": [
        "pressure[0] = 0.245\n",
        "print('pressures is now', pressures)"
      ],
      "execution_count": null,
      "outputs": [
        {
          "output_type": "stream",
          "text": [
            "pressures is now [0.273, 0.656, 0.665, 0.224, 0.4433]\n"
          ],
          "name": "stdout"
        }
      ]
    },
    {
      "cell_type": "markdown",
      "metadata": {
        "id": "31llxQeDlp_6"
      },
      "source": [
        "#### 4. Appending items to a list lengthens it.\n",
        "\n",
        "* Use `list_name.append` to add items to the end of a list."
      ]
    },
    {
      "cell_type": "code",
      "metadata": {
        "colab": {
          "base_uri": "https://localhost:8080/"
        },
        "id": "dHMD33OHmsTd",
        "outputId": "f86a9af3-3f1a-4e30-979f-9ae3128ea729"
      },
      "source": [
        "primes = [2, 3, 5]\n",
        "print('primes is initially:', primes)"
      ],
      "execution_count": null,
      "outputs": [
        {
          "output_type": "stream",
          "text": [
            "primes is initially: [2, 3, 5]\n"
          ],
          "name": "stdout"
        }
      ]
    },
    {
      "cell_type": "code",
      "metadata": {
        "colab": {
          "base_uri": "https://localhost:8080/"
        },
        "id": "4XKf7QVOm5eZ",
        "outputId": "473d2101-0bb5-4a39-a8b5-19b8a47aa2be"
      },
      "source": [
        "primes.append(7)\n",
        "print('primes has become:', primes)"
      ],
      "execution_count": null,
      "outputs": [
        {
          "output_type": "stream",
          "text": [
            "primes has become: [2, 3, 5, 7]\n"
          ],
          "name": "stdout"
        }
      ]
    },
    {
      "cell_type": "markdown",
      "metadata": {
        "id": "oMjjLczCnIVf"
      },
      "source": [
        "* `Append`is a method of lists - It is like a function but tied to a particular object.\n",
        "\n",
        "* Use `object_name.method_name` to call methods.\n",
        "  * Deliberately resembles the way we refer to things in a library.\n",
        "* We will meet other methods of lists as we go along.\n",
        "* `extend`is similar to `append`, but it allows you to combine two list. For example:"
      ]
    },
    {
      "cell_type": "code",
      "metadata": {
        "colab": {
          "base_uri": "https://localhost:8080/"
        },
        "id": "yLIGmnEwodjT",
        "outputId": "4cad401a-8ce7-4fba-da87-b1ccdb91b886"
      },
      "source": [
        "teen_primes = [11, 13, 17, 19]\n",
        "middle_aged_primes = [43, 54, 23, 12]\n",
        "print('primes is currently:', primes)\n",
        "primes.extend(teen_primes)\n",
        "print('primes has now become:', primes)\n",
        "primes.append(middle_aged_primes)\n",
        "print('primes has finally become:', primes)"
      ],
      "execution_count": null,
      "outputs": [
        {
          "output_type": "stream",
          "text": [
            "primes is currently: [2, 3, 5, 7]\n",
            "primes has now become: [2, 3, 5, 7, 11, 13, 17, 19]\n",
            "primes has finally become: [2, 3, 5, 7, 11, 13, 17, 19, [43, 54, 23, 12]]\n"
          ],
          "name": "stdout"
        }
      ]
    },
    {
      "cell_type": "markdown",
      "metadata": {
        "id": "g76viOtwpoWg"
      },
      "source": [
        "Note that while `extend`maintains the `flat`structure of the list, appending a list to a list makes the result two-dimensional - the last element in `primes`is a list, not an integer"
      ]
    },
    {
      "cell_type": "markdown",
      "metadata": {
        "id": "eTGvyhOCqAZl"
      },
      "source": [
        "#### 5. Use `del`to remove items from a list entirely.\n",
        "\n",
        "* We use `del list_name[index]`to remove an element from a list (in the example, 9 is not a prime number) and thus shorten it."
      ]
    },
    {
      "cell_type": "code",
      "metadata": {
        "colab": {
          "base_uri": "https://localhost:8080/"
        },
        "id": "J6yVhFG8qrbk",
        "outputId": "eb1ebc9c-dfc7-4e69-d952-d7b82c183bda"
      },
      "source": [
        "primes = [2,3,5,7,9]\n",
        "del primes[4]\n",
        "primes\n",
        "print('primes after removing last item:', primes)"
      ],
      "execution_count": null,
      "outputs": [
        {
          "output_type": "stream",
          "text": [
            "primes after removing last item: [2, 3, 5, 7]\n"
          ],
          "name": "stdout"
        }
      ]
    },
    {
      "cell_type": "markdown",
      "metadata": {
        "id": "aLRbc_CtrHo3"
      },
      "source": [
        "#### 6. List may contain values of different types.\n",
        "\n",
        "* A single list may contain numbers, strings, and anything else."
      ]
    },
    {
      "cell_type": "code",
      "metadata": {
        "colab": {
          "base_uri": "https://localhost:8080/"
        },
        "id": "Lw5Cq2OOrhP_",
        "outputId": "d07ef200-b978-46bf-bda5-98733b99fea4"
      },
      "source": [
        "goals = [1, 'Import data',\n",
        "2, 'Extract items from the list']\n",
        "goals"
      ],
      "execution_count": null,
      "outputs": [
        {
          "output_type": "execute_result",
          "data": {
            "text/plain": [
              "[1, 'Import data', 2, 'Extract items from the list']"
            ]
          },
          "metadata": {
            "tags": []
          },
          "execution_count": 24
        }
      ]
    },
    {
      "cell_type": "markdown",
      "metadata": {
        "id": "tZx1zH8grnHy"
      },
      "source": [
        "#### 7. Character strings can be indexed like list\n",
        "\n",
        "* Get single characters from a character string using indexes in square brackets"
      ]
    },
    {
      "cell_type": "code",
      "metadata": {
        "colab": {
          "base_uri": "https://localhost:8080/"
        },
        "id": "378GkCT8r10y",
        "outputId": "bc04d407-64e3-4430-8a21-6575462f939c"
      },
      "source": [
        "element = 'carbon'\n",
        "print('zeroth character:', element[0])"
      ],
      "execution_count": null,
      "outputs": [
        {
          "output_type": "stream",
          "text": [
            "zeroth character: c\n"
          ],
          "name": "stdout"
        }
      ]
    },
    {
      "cell_type": "markdown",
      "metadata": {
        "id": "OZMhXAGzsCLc"
      },
      "source": [
        "#### 8. Character string are immutable\n",
        "\n",
        "* Cannot change the characters in a string after it has been created:\n",
        "  * Immurable: can't be changed after creation\n",
        "  * In contrast, list are mutable: they can be modified in place\n",
        "* Python considers the string to be a single value with parts, nota collection of values"
      ]
    },
    {
      "cell_type": "code",
      "metadata": {
        "colab": {
          "base_uri": "https://localhost:8080/"
        },
        "id": "Bq6gFCyxskOF",
        "outputId": "f3dba5a4-73be-4737-b03f-9b49674c88fe"
      },
      "source": [
        "element[0] = C"
      ],
      "execution_count": null,
      "outputs": [
        {
          "output_type": "error",
          "ename": "NameError",
          "evalue": "ignored",
          "traceback": [
            "\u001b[0;31m---------------------------------------------------------------------------\u001b[0m",
            "\u001b[0;31mNameError\u001b[0m                                 Traceback (most recent call last)",
            "\u001b[0;32m<ipython-input-27-cf23751a6f65>\u001b[0m in \u001b[0;36m<module>\u001b[0;34m()\u001b[0m\n\u001b[0;32m----> 1\u001b[0;31m \u001b[0melement\u001b[0m\u001b[0;34m[\u001b[0m\u001b[0;36m0\u001b[0m\u001b[0;34m]\u001b[0m \u001b[0;34m=\u001b[0m \u001b[0mC\u001b[0m\u001b[0;34m\u001b[0m\u001b[0;34m\u001b[0m\u001b[0m\n\u001b[0m",
            "\u001b[0;31mNameError\u001b[0m: name 'C' is not defined"
          ]
        }
      ]
    },
    {
      "cell_type": "markdown",
      "metadata": {
        "id": "wK85dnMKtW-E"
      },
      "source": [
        "#### 9. Indexing beyond the end of the collection is an error:\n",
        "\n",
        "* Python reports an `IndexError`if we atempt to access a value that doesn't exist.\n",
        "  * This is a kind of `runtime error`\n",
        "  * Cannot be detected as the code is parsed because the index might be calculated based on data.\n"
      ]
    },
    {
      "cell_type": "code",
      "metadata": {
        "colab": {
          "base_uri": "https://localhost:8080/"
        },
        "id": "5p6YZbRzvTR-",
        "outputId": "0f2ce5a1-95ae-4a56-b8aa-d35a4ba5ca10"
      },
      "source": [
        "print('99th element of element is:', element[99])"
      ],
      "execution_count": null,
      "outputs": [
        {
          "output_type": "error",
          "ename": "IndexError",
          "evalue": "ignored",
          "traceback": [
            "\u001b[0;31m---------------------------------------------------------------------------\u001b[0m",
            "\u001b[0;31mIndexError\u001b[0m                                Traceback (most recent call last)",
            "\u001b[0;32m<ipython-input-29-f178a3be0901>\u001b[0m in \u001b[0;36m<module>\u001b[0;34m()\u001b[0m\n\u001b[0;32m----> 1\u001b[0;31m \u001b[0mprint\u001b[0m\u001b[0;34m(\u001b[0m\u001b[0;34m'99th element of element is:'\u001b[0m\u001b[0;34m,\u001b[0m \u001b[0melement\u001b[0m\u001b[0;34m[\u001b[0m\u001b[0;36m99\u001b[0m\u001b[0;34m]\u001b[0m\u001b[0;34m)\u001b[0m\u001b[0;34m\u001b[0m\u001b[0;34m\u001b[0m\u001b[0m\n\u001b[0m",
            "\u001b[0;31mIndexError\u001b[0m: string index out of range"
          ]
        }
      ]
    },
    {
      "cell_type": "markdown",
      "metadata": {
        "id": "33oOPXZ627SD"
      },
      "source": [
        "EXERCISE 1: FILL THE BLANKS\n",
        "\n",
        "Fill in the blanks so that the program below produces the output show.\n",
        "\n",
        "```python\n",
        "values = ____\n",
        "values.____(1)\n",
        "values.____(3)\n",
        "values.____(5)\n",
        "print('first time:', values)\n",
        "values = values[____]\n",
        "print('second time:', values)\n",
        "```\n",
        "\n",
        "Expected output:\n",
        "```python\n",
        "first time: [1,3,5]\n",
        "second time: [3,5]\n",
        "```"
      ]
    },
    {
      "cell_type": "code",
      "metadata": {
        "colab": {
          "base_uri": "https://localhost:8080/"
        },
        "id": "hEFKX3jK3gkb",
        "outputId": "e6d8cfe4-20f3-4cc3-882c-ea54288e3f5d"
      },
      "source": [
        "# solution\n",
        "values = []\n",
        "values.append(1)\n",
        "values.append(3)\n",
        "values.append(5)\n",
        "print('first time:', values)\n",
        "values = values[1:]\n",
        "print('second time:', values)"
      ],
      "execution_count": null,
      "outputs": [
        {
          "output_type": "stream",
          "text": [
            "first time: [1, 3, 5]\n",
            "second time: [3, 5]\n"
          ],
          "name": "stdout"
        }
      ]
    },
    {
      "cell_type": "markdown",
      "metadata": {
        "id": "Z3zKjg-f4hsF"
      },
      "source": [
        "EXERCISE 2: FROM STRING TO LIST AND BACK\n",
        "\n",
        "Given this:\n",
        "\n",
        "```python\n",
        "print(\"string to list:', list('tin'))\n",
        "print('list to string:', ''.join(['g','o','l','d'])\n",
        "```\n",
        "\n",
        "1. What does first list do?\n",
        "2. What does join generate?\n",
        "\n",
        "SOL:\n",
        "1. `list('some string')` converts a string into a list containing all of its characters.\n",
        "2. `join` returns a string that is the concatenation of each string element in the list and adds the separator between each element in the list. This results in x-y-z. The separator between the elements is the string that provides this method."
      ]
    },
    {
      "cell_type": "markdown",
      "metadata": {
        "id": "5bwoBwrV5jCn"
      },
      "source": [
        "EXERCISE 3: WORKING WITH THE END\n",
        "\n",
        "1. What does the following program print?\n",
        "\n",
        "```python\n",
        "element = 'helium'\n",
        "print(element[-1])\n",
        "```\n",
        "\n",
        "SOL: the program prints `m`\n",
        "\n",
        "2. If `values` is a list, what does `del values[-1]` do?\n",
        "\n",
        "SOL: Removes the last element from the list\n",
        "\n",
        "3. How can you display all elements but the last one without changing `values`?\n",
        "```python\n",
        "values[:-1]\n",
        "```"
      ]
    },
    {
      "cell_type": "markdown",
      "metadata": {
        "id": "eXL5Nevx7A7D"
      },
      "source": [
        "EXERCISE 4: SORT AND SORTED\n",
        "\n",
        "What does the following two program print?\n",
        "\n",
        "```python\n",
        "# program A\n",
        "letters = list('gold')\n",
        "result = sorted(letters)\n",
        "print('letters is', letters, 'and result is', result)\n",
        "```\n",
        "\n",
        "```python\n",
        "# Program B\n",
        "letters = list('gold')\n",
        "result = letters.sort()\n",
        "print('letters is', letters, 'and result is', result)\n",
        "```\n",
        "\n"
      ]
    },
    {
      "cell_type": "markdown",
      "metadata": {
        "id": "ABjGATlCM9SG"
      },
      "source": [
        "### [For Loops](https://swcarpentry.github.io/python-novice-gapminder/12-for-loops/index.html) - 10 min / 15 min exercises\n",
        "\n",
        "**Learning objectives**:\n",
        "* Explain what for loops are normally used for.\n",
        "* Trace the execution of a simple loop and correctly state the values of variables in each iteraction.\n",
        "* Write for loops that use the Accumulator pattern to agrregate values."
      ]
    },
    {
      "cell_type": "markdown",
      "metadata": {
        "id": "28DPUO__Nx0U"
      },
      "source": [
        "#### 1. A _for loop_ executes commands once for each value in a collection:\n",
        "\n",
        "* A for loop tells Python to execute some statements once for each value in a list, a character string, or some other collection.\n",
        "* \"For each thing in this group, do these operations\""
      ]
    },
    {
      "cell_type": "code",
      "metadata": {
        "colab": {
          "base_uri": "https://localhost:8080/"
        },
        "id": "1XRImtDlOZUb",
        "outputId": "58866fb7-8786-4c64-beda-39d1a3ad8df6"
      },
      "source": [
        "list = [3,4,5]\n",
        "for number in list:\n",
        "  print(number)"
      ],
      "execution_count": null,
      "outputs": [
        {
          "output_type": "stream",
          "text": [
            "3\n",
            "4\n",
            "5\n"
          ],
          "name": "stdout"
        }
      ]
    },
    {
      "cell_type": "markdown",
      "metadata": {
        "id": "QgbG1jC9Op8O"
      },
      "source": [
        "* This _for_ loop is equivalent to:"
      ]
    },
    {
      "cell_type": "code",
      "metadata": {
        "colab": {
          "base_uri": "https://localhost:8080/"
        },
        "id": "wTET2p7cOxrN",
        "outputId": "e5ab3446-febd-4342-9d73-70f7a9de3bc5"
      },
      "source": [
        "print(2)\n",
        "print(3)\n",
        "print(5)"
      ],
      "execution_count": null,
      "outputs": [
        {
          "output_type": "stream",
          "text": [
            "2\n",
            "3\n",
            "4\n"
          ],
          "name": "stdout"
        }
      ]
    },
    {
      "cell_type": "markdown",
      "metadata": {
        "id": "akCZ6xhfO-fo"
      },
      "source": [
        "#### 2. A _for loop_ is made up of a collection, a loop variable, and a body:\n",
        "\n",
        "* The collection, [3,4,5], is what the loop is being run on.\n",
        "* The body, `print(number)`, specifies what to do for each value of the collection.\n",
        "* The loop variable, `number`, is what changes for each `iteration` of the loop"
      ]
    },
    {
      "cell_type": "markdown",
      "metadata": {
        "id": "KdAxVJktP_in"
      },
      "source": [
        "#### 3. The first line of the _for loop_ must must end with a colon, and the body must be indented:\n",
        "* The colon at the end of the first line signals the start of a _block_ of statements.\n",
        "* Python uses indetation rather than `{}` or `begin/end` to show nesting"
      ]
    },
    {
      "cell_type": "code",
      "metadata": {
        "colab": {
          "base_uri": "https://localhost:8080/"
        },
        "id": "ZoGVyxIMP-wO",
        "outputId": "d151c7e0-cf0b-478a-e636-75c194270f04"
      },
      "source": [
        "for number in list:\n",
        "print(number)"
      ],
      "execution_count": null,
      "outputs": [
        {
          "output_type": "error",
          "ename": "IndentationError",
          "evalue": "ignored",
          "traceback": [
            "\u001b[0;36m  File \u001b[0;32m\"<ipython-input-5-cefe3eef05fb>\"\u001b[0;36m, line \u001b[0;32m2\u001b[0m\n\u001b[0;31m    print(number)\u001b[0m\n\u001b[0m        ^\u001b[0m\n\u001b[0;31mIndentationError\u001b[0m\u001b[0;31m:\u001b[0m expected an indented block\n"
          ]
        }
      ]
    },
    {
      "cell_type": "code",
      "metadata": {
        "colab": {
          "base_uri": "https://localhost:8080/"
        },
        "id": "JxotNd_bRCm4",
        "outputId": "1b976a24-d109-4210-e195-79132613e17e"
      },
      "source": [
        "firstname = \"John\"\n",
        "  secondname =\"Smith\""
      ],
      "execution_count": null,
      "outputs": [
        {
          "output_type": "error",
          "ename": "IndentationError",
          "evalue": "ignored",
          "traceback": [
            "\u001b[0;36m  File \u001b[0;32m\"<ipython-input-6-83571267ef5c>\"\u001b[0;36m, line \u001b[0;32m2\u001b[0m\n\u001b[0;31m    secondname =\"Smith\"\u001b[0m\n\u001b[0m    ^\u001b[0m\n\u001b[0;31mIndentationError\u001b[0m\u001b[0;31m:\u001b[0m unexpected indent\n"
          ]
        }
      ]
    },
    {
      "cell_type": "markdown",
      "metadata": {
        "id": "aB6jCo5FRK3H"
      },
      "source": [
        "* This error can be fixed by removing the extra spaces at the beggining of the second line."
      ]
    },
    {
      "cell_type": "markdown",
      "metadata": {
        "id": "0EZlDtu_Rs-4"
      },
      "source": [
        "#### 4. Loop variables can be called anything.\n",
        "\n",
        "* As with all variables, loop variables are:\n",
        "  - Created on demand.\n",
        "  - Meaningless: their names can be anything at all."
      ]
    },
    {
      "cell_type": "code",
      "metadata": {
        "colab": {
          "base_uri": "https://localhost:8080/"
        },
        "id": "SwJoIStlSCIr",
        "outputId": "fbdf2c81-99c9-406a-a8f7-6a39d4d14adb"
      },
      "source": [
        "for kitten in list:\n",
        "  print(kitten)"
      ],
      "execution_count": null,
      "outputs": [
        {
          "output_type": "stream",
          "text": [
            "3\n",
            "4\n",
            "5\n"
          ],
          "name": "stdout"
        }
      ]
    },
    {
      "cell_type": "markdown",
      "metadata": {
        "id": "iMaUmUlWS7K2"
      },
      "source": [
        "#### 5. The body of a loop can contain many statement:\n",
        "* But no loop should be more than few lines long.\n",
        "* Hard for humans to keep larger chunks in mind."
      ]
    },
    {
      "cell_type": "code",
      "metadata": {
        "colab": {
          "base_uri": "https://localhost:8080/"
        },
        "id": "1cGwI8SnTPfF",
        "outputId": "ff451a46-bc3d-4ca7-fa1b-6ac5b617db37"
      },
      "source": [
        "primes = [2,3,5]\n",
        "\n",
        "for p in primes:\n",
        "  squared = p ** 2\n",
        "  cubed = p ** 3\n",
        "  print(p, squared, cubed)"
      ],
      "execution_count": null,
      "outputs": [
        {
          "output_type": "stream",
          "text": [
            "2 4 8\n",
            "3 9 27\n",
            "5 25 125\n"
          ],
          "name": "stdout"
        }
      ]
    },
    {
      "cell_type": "markdown",
      "metadata": {
        "id": "TvQi1X4yTpt6"
      },
      "source": [
        "#### 6. Use _range_ to iterate over a sequence of numbers:\n",
        "* The build-in function _range_ produces a sequence of numbers.\n",
        "  - Not a list: the numbers are produced on demand to make looping over large ranges more efficent.\n",
        "  - `range(N)` is the number )...N-1"
      ]
    },
    {
      "cell_type": "code",
      "metadata": {
        "colab": {
          "base_uri": "https://localhost:8080/"
        },
        "id": "9jB6y6-7VBs0",
        "outputId": "35cc986e-985b-49cf-becd-e5e7f712917e"
      },
      "source": [
        "for number in range(0,5):\n",
        "  squared = number**2\n",
        "  print(number, squared)"
      ],
      "execution_count": null,
      "outputs": [
        {
          "output_type": "stream",
          "text": [
            "0 0\n",
            "1 1\n",
            "2 4\n",
            "3 9\n",
            "4 16\n"
          ],
          "name": "stdout"
        }
      ]
    },
    {
      "cell_type": "markdown",
      "metadata": {
        "id": "TNaTRDe3VX4g"
      },
      "source": [
        "#### 7. The Accumulator pattern turns many values into one.\n",
        "* A common pattern in programs is to:\n",
        "   1. Initalize an _accumulator_ variable to zero, the empty string, or the empty list.\n",
        "   2. Update the variable with values from a collection"
      ]
    },
    {
      "cell_type": "code",
      "metadata": {
        "colab": {
          "base_uri": "https://localhost:8080/"
        },
        "id": "gIo5yu5zV8DD",
        "outputId": "ad3994df-5efc-4ace-84e1-b2cd6e03b391"
      },
      "source": [
        "# sum the first 10 integers\n",
        "total = 0\n",
        "for number in range(10):\n",
        "  total = total + (number +1)\n",
        "print(total)"
      ],
      "execution_count": null,
      "outputs": [
        {
          "output_type": "stream",
          "text": [
            "55\n"
          ],
          "name": "stdout"
        }
      ]
    },
    {
      "cell_type": "markdown",
      "metadata": {
        "id": "1fwbvtmjWoTY"
      },
      "source": [
        "* Read `total = total + (number + 1)` as:\n",
        "  - Add 1 to the current value of the loop variable `number`.\n",
        "  - Add that to the current value of the accumulator variable `total`.\n",
        "  - Assign that to `total`, replacing the current value\n",
        "* We have to add `number + 1` because `range` produces 0..9, not 1..10."
      ]
    },
    {
      "cell_type": "markdown",
      "metadata": {
        "id": "lcp8QYVou4f_"
      },
      "source": [
        "EXERCISE 1: CLASSIFYING ERRORS\n",
        "\n",
        "Is an indentation error a syntax error or a runtime error?\n",
        "\n",
        "SOL: An IndentationError is a syntax error. Programs with syntax errors cannot be started. A program with a runtime error will start but an error will be thrown under certain conditions."
      ]
    },
    {
      "cell_type": "markdown",
      "metadata": {
        "id": "RAJDf8pg1BsA"
      },
      "source": [
        "EXERCISE 2: TRACING EXECUTION - **DON\"T UNDERSTAND IT**\n",
        "\n",
        "Create a table showing the numbers of lines that are executed when this program run, and the values of the variables after each line is executed\n",
        "\n",
        "```python\n",
        "total = 0\n",
        "for char in \"tim\":\n",
        "  total = total + 1\n",
        "  ```\n"
      ]
    },
    {
      "cell_type": "code",
      "metadata": {
        "colab": {
          "base_uri": "https://localhost:8080/"
        },
        "id": "SPCAU5Bl1chI",
        "outputId": "1c4d853e-69dc-4847-8fe0-6b37e9efa275"
      },
      "source": [
        "total = 0\n",
        "for char in \"tim\":\n",
        "  total = total + 1\n",
        "  print(total)"
      ],
      "execution_count": null,
      "outputs": [
        {
          "output_type": "stream",
          "text": [
            "1\n",
            "2\n",
            "3\n"
          ],
          "name": "stdout"
        }
      ]
    },
    {
      "cell_type": "markdown",
      "metadata": {
        "id": "Rc8RC-dG13un"
      },
      "source": [
        "#### EXERCISE 3: REVERSING A STRING\n",
        "Fill in the blanks in the program below so that it prints \"nit\" (the reverse of the original character string 'tin')"
      ]
    },
    {
      "cell_type": "code",
      "metadata": {
        "colab": {
          "base_uri": "https://localhost:8080/"
        },
        "id": "TP5a3e3J2Ju0",
        "outputId": "ab864f54-1006-4841-b281-a36e9c91e2d1"
      },
      "source": [
        "original = \"tin\"\n",
        "result = \"\"\n",
        "for char in original:\n",
        "  result = char + result\n",
        "print(result)"
      ],
      "execution_count": null,
      "outputs": [
        {
          "output_type": "stream",
          "text": [
            "nit\n"
          ],
          "name": "stdout"
        }
      ]
    },
    {
      "cell_type": "markdown",
      "metadata": {
        "id": "HkMTYbmF2ro-"
      },
      "source": [
        "#### EXERCISE 4: PRACTICE ACCUMULATING\n",
        "\n",
        "Fill in the blanks in each of the programs below to produce the indicated result.\n",
        "\n",
        "```python\n",
        "# A. Total length of the string in the list: [\"red\", \"green\", \"blue\"] ==> 12\n",
        "total = 0\n",
        "for word in [\"red\",\"green\",\"blue\"]:\n",
        "  ___ = ___ + len(word)\n",
        "print(total)\n",
        "```"
      ]
    },
    {
      "cell_type": "code",
      "metadata": {
        "colab": {
          "base_uri": "https://localhost:8080/"
        },
        "id": "xcTUlWAhu3DF",
        "outputId": "5aece9a3-342d-44b6-d9eb-f46ddfa9175a"
      },
      "source": [
        "# SOL\n",
        "total = 0\n",
        "for word in [\"red\",\"green\",\"blue\"]:\n",
        "  total = total + len(word)\n",
        "print(total)"
      ],
      "execution_count": null,
      "outputs": [
        {
          "output_type": "stream",
          "text": [
            "12\n"
          ],
          "name": "stdout"
        }
      ]
    },
    {
      "cell_type": "markdown",
      "metadata": {
        "id": "qVeakHRP4d1U"
      },
      "source": [
        "```python\n",
        "# B. Create a list of word lengths: [\"red\", \"green\", \"blue\"] => [3,5,4]\n",
        "lengths = ___\n",
        "for words in [\"red\", \"green\", \"blue\"]:\n",
        "  lengths.___()\n",
        "print(lengths) \n",
        "\n",
        "```"
      ]
    },
    {
      "cell_type": "code",
      "metadata": {
        "colab": {
          "base_uri": "https://localhost:8080/"
        },
        "id": "Jx_1RdvE5Gk1",
        "outputId": "fe695e9c-02b7-484e-9346-cf8a0360e1dc"
      },
      "source": [
        "# SOL\n",
        "lengths = []\n",
        "for word in [\"red\", \"green\", \"blue\"]:\n",
        "  lengths.append(len(word))\n",
        "print(lengths)"
      ],
      "execution_count": null,
      "outputs": [
        {
          "output_type": "stream",
          "text": [
            "[3, 5, 4]\n"
          ],
          "name": "stdout"
        }
      ]
    },
    {
      "cell_type": "markdown",
      "metadata": {
        "id": "0W-N86da6Crj"
      },
      "source": [
        "```python\n",
        "# Concatenate all words: [\"red\", \"gree\", \"blue\"] ==> \"readgreenblue\"\n",
        "\n",
        "words = [\"red\", \"green\", \"blue\"]\n",
        "result = __\n",
        "for __ in __:\n",
        "  ___\n",
        "print(result)\n",
        "```"
      ]
    },
    {
      "cell_type": "code",
      "metadata": {
        "colab": {
          "base_uri": "https://localhost:8080/"
        },
        "id": "DM2vD_KR6eWQ",
        "outputId": "48be2513-ffd9-4aba-dac7-f4e8e5135264"
      },
      "source": [
        "words = [\"red\", \"green\", \"blue\"]\n",
        "result = \"\"\n",
        "for word in words:\n",
        "  result = result + word\n",
        "print(result)"
      ],
      "execution_count": null,
      "outputs": [
        {
          "output_type": "stream",
          "text": [
            "redgreenblue\n"
          ],
          "name": "stdout"
        }
      ]
    },
    {
      "cell_type": "markdown",
      "metadata": {
        "id": "__d_VCT97fUD"
      },
      "source": [
        "```python\n",
        "# Create acronym: [\"red\", \"green\", \"blue\"] ==> \"RGB\"\n",
        "# write the whole thing\n",
        "```"
      ]
    },
    {
      "cell_type": "code",
      "metadata": {
        "colab": {
          "base_uri": "https://localhost:8080/"
        },
        "id": "qNC-nMzz707p",
        "outputId": "08d628db-f569-4063-e319-4aa1b6337712"
      },
      "source": [
        "words = [\"red\", \"green\", \"blue\"]\n",
        "acr = ''\n",
        "for word in words:\n",
        "  acr = acr + word[0].upper()\n",
        "print(acr)"
      ],
      "execution_count": null,
      "outputs": [
        {
          "output_type": "stream",
          "text": [
            "RGB\n"
          ],
          "name": "stdout"
        }
      ]
    },
    {
      "cell_type": "markdown",
      "metadata": {
        "id": "5DAkwqYv8dUr"
      },
      "source": [
        "EXERCISE 5: CUMULATIVE SUM\n",
        "\n",
        "Reorder and properly indent the lines of code below so that they print a list with the cumulative sum of data. The result should be `[1,3,5,10]`.\n",
        "\n",
        "```python\n",
        "cumulative.append(total)\n",
        "for number in data:\n",
        "cumulative = []\n",
        "total += number\n",
        "total = 0\n",
        "print(cumulative)\n",
        "data = [1,2,2,5]\n",
        "```\n"
      ]
    },
    {
      "cell_type": "code",
      "metadata": {
        "colab": {
          "base_uri": "https://localhost:8080/"
        },
        "id": "qe122SVN9Ikz",
        "outputId": "dacd92a2-2d6b-4b26-92a3-a22d0551fbd7"
      },
      "source": [
        "data = [1,2,2,5]\n",
        "cumulative = []\n",
        "total = 0\n",
        "for number in data:\n",
        "  total += number\n",
        "  cumulative.append(total)\n",
        "print(cumulative)"
      ],
      "execution_count": null,
      "outputs": [
        {
          "output_type": "stream",
          "text": [
            "[1, 3, 5, 10]\n"
          ],
          "name": "stdout"
        }
      ]
    },
    {
      "cell_type": "markdown",
      "metadata": {
        "id": "nmHZuMCy89xm"
      },
      "source": [
        "#### EXERCISE 6: IDENTIFYING VARIABLE NAME ERRORS\n",
        "\n",
        "1. Read the code below and try to identify what the errors are without running it.\n",
        "2. Run the code and read the error message. What type of _NameError_ do you think this is? Is it a string with no quotes, a misspelled variable, or a variable that should have been defined but was not?\n",
        "3.Fix the error.\n",
        "4. Repeat steps 2 and 3, until you have fixed all the errors.\n",
        "\n",
        "```python\n",
        "for number in range(10):\n",
        "    # use a if the number is a multiple of 3, otherwise use b\n",
        "    if (Number % 3) == 0:\n",
        "        message = message + a\n",
        "    else:\n",
        "        message = message + \"b\"\n",
        "print(message)\n",
        "```"
      ]
    },
    {
      "cell_type": "code",
      "metadata": {
        "colab": {
          "base_uri": "https://localhost:8080/"
        },
        "id": "LFDhoYMX83Th",
        "outputId": "cb8c06e7-efee-474e-c8ec-1a7d3c5e8945"
      },
      "source": [
        "# SOL\n",
        "# Python variable names are case sensitive: number and Number refer to different variables.\n",
        "# The variable message needs to be initialized as an empty string.\n",
        "# We want to add the string \"a\" to message, not the undefined variable a.Python variable names are case sensitive: number and Number refer to different variables.\n",
        "# The variable message needs to be initialized as an empty string.\n",
        "# We want to add the string \"a\" to message, not the undefined variable a.\n",
        "message = \"\"\n",
        "for number in range(10):\n",
        "    # use a if the number is a multiple of 3, otherwise use b\n",
        "    if (number % 3) == 0:\n",
        "        message = message + \"a\"\n",
        "    else:\n",
        "        message = message + \"b\"\n",
        "print(message)"
      ],
      "execution_count": null,
      "outputs": [
        {
          "output_type": "stream",
          "text": [
            "abbabbabba\n"
          ],
          "name": "stdout"
        }
      ]
    },
    {
      "cell_type": "markdown",
      "metadata": {
        "id": "CQhQ_7a0_W7J"
      },
      "source": [
        "#### EXERCISE 7: IDENTIFYING ITEM ERRORS\n",
        "1. Read the code below and try to identify what the errors are without running it.\n",
        "2. Run the code, and read the error message. What type of error is it?\n",
        "3. Fix the error.\n"
      ]
    },
    {
      "cell_type": "code",
      "metadata": {
        "colab": {
          "base_uri": "https://localhost:8080/"
        },
        "id": "mxdpPa5a_pG7",
        "outputId": "d97ffe4d-7ed9-4702-ee2e-b3adacb97917"
      },
      "source": [
        "seasons = ['Spring', 'Summer', 'Fall', 'Winter']\n",
        "print('My favorite season is ', seasons[4])"
      ],
      "execution_count": null,
      "outputs": [
        {
          "output_type": "error",
          "ename": "IndexError",
          "evalue": "ignored",
          "traceback": [
            "\u001b[0;31m---------------------------------------------------------------------------\u001b[0m",
            "\u001b[0;31mIndexError\u001b[0m                                Traceback (most recent call last)",
            "\u001b[0;32m<ipython-input-46-c82c08095380>\u001b[0m in \u001b[0;36m<module>\u001b[0;34m()\u001b[0m\n\u001b[1;32m      1\u001b[0m \u001b[0mseasons\u001b[0m \u001b[0;34m=\u001b[0m \u001b[0;34m[\u001b[0m\u001b[0;34m'Spring'\u001b[0m\u001b[0;34m,\u001b[0m \u001b[0;34m'Summer'\u001b[0m\u001b[0;34m,\u001b[0m \u001b[0;34m'Fall'\u001b[0m\u001b[0;34m,\u001b[0m \u001b[0;34m'Winter'\u001b[0m\u001b[0;34m]\u001b[0m\u001b[0;34m\u001b[0m\u001b[0;34m\u001b[0m\u001b[0m\n\u001b[0;32m----> 2\u001b[0;31m \u001b[0mprint\u001b[0m\u001b[0;34m(\u001b[0m\u001b[0;34m'My favorite season is '\u001b[0m\u001b[0;34m,\u001b[0m \u001b[0mseasons\u001b[0m\u001b[0;34m[\u001b[0m\u001b[0;36m4\u001b[0m\u001b[0;34m]\u001b[0m\u001b[0;34m)\u001b[0m\u001b[0;34m\u001b[0m\u001b[0;34m\u001b[0m\u001b[0m\n\u001b[0m",
            "\u001b[0;31mIndexError\u001b[0m: list index out of range"
          ]
        }
      ]
    },
    {
      "cell_type": "code",
      "metadata": {
        "colab": {
          "base_uri": "https://localhost:8080/"
        },
        "id": "TIZ6TkdO_sHA",
        "outputId": "77ac0bf7-16be-411f-b91c-e927f8be967e"
      },
      "source": [
        "# SOL\n",
        "seasons = ['Spring', 'Summer', 'Fall', 'Winter']\n",
        "print('My favorite season is ', seasons[3])"
      ],
      "execution_count": null,
      "outputs": [
        {
          "output_type": "stream",
          "text": [
            "My favorite season is  Winter\n"
          ],
          "name": "stdout"
        }
      ]
    },
    {
      "cell_type": "markdown",
      "metadata": {
        "id": "BOZN4kJthn6F"
      },
      "source": [
        "## 4. Advanced topics - 14:20 to 15:15"
      ]
    },
    {
      "cell_type": "markdown",
      "metadata": {
        "id": "-tkJHwDjya2s"
      },
      "source": [
        "---\n",
        "### Writing Functions - 15 min / 15 min exercices\n",
        "\n",
        "**Learning objectives**:\n",
        "*   How can I create my own functions?\n",
        "*   Explain and identify the difference between function definition and function call.\n",
        "* Write a function that takes a small, fixed number of arguments and produces a single result"
      ]
    },
    {
      "cell_type": "markdown",
      "metadata": {
        "id": "9IU7jnVKybRG"
      },
      "source": [
        "#### 1. Define a function using `def` with a name, parameters, and a block of code."
      ]
    },
    {
      "cell_type": "markdown",
      "metadata": {
        "id": "IVjCJlIny48w"
      },
      "source": [
        "- Begin the definition of a new function with def.\n",
        "- Followed by the name of the function.\n",
        "    - Must obey the same rules as variable names.\n",
        "- Then parameters in parentheses.\n",
        "    - Empty parentheses if the function doesn’t take any inputs.\n",
        "    - We will discuss this in detail in a moment.\n",
        "- Then a colon.\n",
        "- Then an indented block of code."
      ]
    },
    {
      "cell_type": "code",
      "metadata": {
        "id": "TpgJxsV-yoBe"
      },
      "source": [
        "def print_greeting():\n",
        "    print('Hello!')"
      ],
      "execution_count": null,
      "outputs": []
    },
    {
      "cell_type": "markdown",
      "metadata": {
        "id": "OXAVRTBPy8j4"
      },
      "source": [
        "#### 2. Defining a function does not run it.\n",
        "\n",
        "- Defining a function does not run it.\n",
        "    - Like assigning a value to a variable.\n",
        "- Must call the function to execute the code it contains."
      ]
    },
    {
      "cell_type": "code",
      "metadata": {
        "id": "Cy969Ta7nzFq"
      },
      "source": [
        "print_greeting()"
      ],
      "execution_count": null,
      "outputs": []
    },
    {
      "cell_type": "markdown",
      "metadata": {
        "id": "e753QZMqzB08"
      },
      "source": [
        "#### 3. Arguments in call are matched to parameters in definition.\n",
        "\n",
        "- Functions are most useful when they can operate on different data.\n",
        "- Specify parameters when defining a function.\n",
        "    - These become variables when the function is executed.\n",
        "    - Are assigned the arguments in the call (i.e., the values passed to the function).\n",
        "    - If you don’t name the arguments when using them in the call, the arguments will be matched to parameters in the order the parameters are defined in the function.\n"
      ]
    },
    {
      "cell_type": "code",
      "metadata": {
        "id": "lLPw_zpWzGdN"
      },
      "source": [
        "def print_date(year, month, day):\n",
        "    joined = str(year) + '/' + str(month) + '/' + str(day)\n",
        "    print(joined)\n",
        "\n",
        "print_date(1871, 3, 19)"
      ],
      "execution_count": null,
      "outputs": []
    },
    {
      "cell_type": "code",
      "metadata": {
        "id": "ilWfnutrzIjg"
      },
      "source": [
        "print_date(month=3, day=19, year=1871)"
      ],
      "execution_count": null,
      "outputs": []
    },
    {
      "cell_type": "markdown",
      "metadata": {
        "id": "_J3_3dv6zNaM"
      },
      "source": [
        "#### 4. Functions may return a result to their caller using `return`.\n",
        "\n",
        "- Use return ... to give a value back to the caller.\n",
        "- May occur anywhere in the function.\n",
        "- But functions are easier to understand if return occurs:\n",
        "    - At the start to handle special cases.\n",
        "    - At the very end, with a final result."
      ]
    },
    {
      "cell_type": "code",
      "metadata": {
        "id": "tn95fvpazM3i"
      },
      "source": [
        "def average(values):\n",
        "    if len(values) == 0:\n",
        "        return None\n",
        "    return sum(values) / len(values)"
      ],
      "execution_count": null,
      "outputs": []
    },
    {
      "cell_type": "code",
      "metadata": {
        "id": "KZI5Lp9lzLUX"
      },
      "source": [
        "a = average([1, 3, 4])\n",
        "print('average of actual values:', a)"
      ],
      "execution_count": null,
      "outputs": []
    },
    {
      "cell_type": "code",
      "metadata": {
        "id": "qU08G6vezKKA"
      },
      "source": [
        "print('average of empty list:', average([]))"
      ],
      "execution_count": null,
      "outputs": []
    },
    {
      "cell_type": "markdown",
      "metadata": {
        "id": "0WDMDyf0zcP9"
      },
      "source": [
        "- Remember: every function returns something.  \n",
        "- A function that doesn’t explicitly return a value automatically returns None."
      ]
    },
    {
      "cell_type": "code",
      "metadata": {
        "id": "wEy6m_2Cze3F"
      },
      "source": [
        "result = print_date(1871, 3, 19)\n",
        "print('result of call is:', result)"
      ],
      "execution_count": null,
      "outputs": []
    },
    {
      "cell_type": "markdown",
      "metadata": {
        "id": "Kn5fCFHDzjtn"
      },
      "source": [
        "#### 5.Identifying Syntax Errors\n",
        "- Read the code below and try to identify what the errors are without running it.\n",
        "- Run the code and read the error message. Is it a SyntaxError or an IndentationError?\n",
        "- Fix the error.\n",
        "- Repeat steps 2 and 3 until you have fixed all the errors."
      ]
    },
    {
      "cell_type": "code",
      "metadata": {
        "id": "GHGQDHU3zoju"
      },
      "source": [
        "# def another_function\n",
        "#   print(\"Syntax errors are annoying.\")\n",
        "#    print(\"But at least python tells us about them!\")\n",
        "#   print(\"So they are usually not too hard to fix.\")"
      ],
      "execution_count": null,
      "outputs": []
    },
    {
      "cell_type": "markdown",
      "metadata": {
        "id": "e6jq5IzFzyHZ"
      },
      "source": [
        "#### 6. Encapsulation\n",
        "\n",
        "create a function that takes a single filename as an argument, loads the data in the file named by the argument, and returns the minimum value in that data."
      ]
    },
    {
      "cell_type": "code",
      "metadata": {
        "id": "DADJRAuOzzGm"
      },
      "source": [
        "import pandas as pd\n",
        "\n",
        "def min_in_data(filename):\n",
        "    data = pd.read_csv(filename)\n",
        "    return data.min()"
      ],
      "execution_count": null,
      "outputs": []
    },
    {
      "cell_type": "markdown",
      "metadata": {
        "id": "wI-GzQmhz1sl"
      },
      "source": [
        "#### 7. Find the First\n",
        "\n",
        "Fill in the blanks to create a function that takes a list of numbers as an argument and returns the first negative value in the list. What does your function do if the list is empty?\n",
        "\n"
      ]
    },
    {
      "cell_type": "code",
      "metadata": {
        "id": "JP6y75DHz3aS"
      },
      "source": [
        "def first_negative(values):\n",
        "    for v in values:\n",
        "        if v<0:\n",
        "            return v"
      ],
      "execution_count": null,
      "outputs": []
    },
    {
      "cell_type": "code",
      "metadata": {
        "id": "LHbNvTghz5K3"
      },
      "source": [
        "my_list = []\n",
        "print(first_negative(my_list))"
      ],
      "execution_count": null,
      "outputs": []
    },
    {
      "cell_type": "code",
      "metadata": {
        "id": "1N8B8xGIz7RX"
      },
      "source": [
        "import random\n",
        "for i in range(10):\n",
        "\n",
        "    # simulating the mass of a chicken egg\n",
        "    # the (random) mass will be 70 +/- 20 grams\n",
        "    mass = 70 + 20.0 * (2.0 * random.random() - 1.0)\n",
        "\n",
        "    print(mass)\n",
        "   \n",
        "    # egg sizing machinery prints a label\n",
        "    if mass >= 85:\n",
        "        print(\"jumbo\")\n",
        "    elif mass >= 70:\n",
        "        print(\"large\")\n",
        "    elif mass < 70 and mass >= 55:\n",
        "        print(\"medium\")\n",
        "    else:\n",
        "        print(\"small\")"
      ],
      "execution_count": null,
      "outputs": []
    },
    {
      "cell_type": "code",
      "metadata": {
        "id": "Um4ORrJk0BGk"
      },
      "source": [
        "def print_egg_label(mass):\n",
        "    #egg sizing machinery prints a label\n",
        "    if mass >= 90:\n",
        "        return \"warning: egg might be dirty\"\n",
        "    elif mass >= 85:\n",
        "        return \"jumbo\"\n",
        "    elif mass >= 70:\n",
        "        return \"large\"\n",
        "    elif mass < 70 and mass >= 55:\n",
        "        return \"medium\"\n",
        "    elif mass < 50:\n",
        "        return \"too light, probably spoiled\"\n",
        "    else:\n",
        "        return \"small\""
      ],
      "execution_count": null,
      "outputs": []
    },
    {
      "cell_type": "code",
      "metadata": {
        "id": "stkawOLJ0CQI"
      },
      "source": [
        "for i in range(10):\n",
        "    mass = 70 + 20.0 * (2.0 * random.random() - 1.0)\n",
        "    print(mass, print_egg_label(mass))   "
      ],
      "execution_count": null,
      "outputs": []
    },
    {
      "cell_type": "markdown",
      "metadata": {
        "id": "mtyFgyyc0GGz"
      },
      "source": [
        "#### 8. Encapsulating Data Analysis"
      ]
    },
    {
      "cell_type": "code",
      "metadata": {
        "id": "xnP5KX-10IG8"
      },
      "source": [
        "import pandas as pd\n",
        "\n",
        "df = pd.read_csv('data/gapminder_gdp_asia.csv', index_col=0)\n",
        "japan = df.loc['Japan']"
      ],
      "execution_count": null,
      "outputs": []
    },
    {
      "cell_type": "code",
      "metadata": {
        "id": "yMRCz-_w0JB7"
      },
      "source": [
        "def avg_gdp_in_decade(country, continent, year):\n",
        "     df = pd.read_csv('data/gapminder_gdp_' + continent + '.csv', index_col=0)\n",
        "     c = df.loc[country]\n",
        "     gdp_decade = 'gdpPercap_' + str(year // 10)\n",
        "     total = 0.0\n",
        "     num_years = 0\n",
        "     for yr_header in c.index: # c's index contains reported years\n",
        "         if yr_header.startswith(gdp_decade):\n",
        "             total = total + c.loc[yr_header]\n",
        "             num_years = num_years + 1\n",
        "     return total/num_years"
      ],
      "execution_count": null,
      "outputs": []
    },
    {
      "cell_type": "code",
      "metadata": {
        "id": "czb8MiNG0KwN"
      },
      "source": [
        "avg_gdp_in_decade('Japan','asia',1983)\n"
      ],
      "execution_count": null,
      "outputs": []
    }
  ]
}