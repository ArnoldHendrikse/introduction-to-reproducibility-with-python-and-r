{
 "cells": [
  {
   "cell_type": "markdown",
   "metadata": {},
   "source": [
    "---\n",
    "# Data types and type conversion (10 min/10 min exercises)\n",
    "\n",
    "#### Learning objectives\n",
    "\n",
    "+ Explain differences between integers and floating point numbers.\n",
    "+ Explain differences between numbers and characters strings.\n",
    "+ Use built-in functions to convert between integers, floating point numbers, and strings."
   ]
  },
  {
   "cell_type": "markdown",
   "metadata": {},
   "source": [
    "## **1. Every value has a type:**\n",
    "+ Every value in a program has a specific type.\n",
    "+ Integer (`int`): represents positive or negative whole numbers like 3 or -512.\n",
    "+ Floating point number (`float`): represents real numbers like 3.1414 or 2.332\n",
    "+ Character string (`str`) are text:\n",
    "    - written in either single or double quotes (but it has to match).\n",
    "    - the quote marks aren't printed when the string is displayed."
   ]
  },
  {
   "cell_type": "markdown",
   "metadata": {},
   "source": [
    "## **2. Use the built-in function `type` to find the type of the value:**"
   ]
  },
  {
   "cell_type": "code",
   "execution_count": 1,
   "metadata": {},
   "outputs": [],
   "source": [
    "## which type value is 54?\n",
    "\n",
    "## variable assigned string"
   ]
  },
  {
   "cell_type": "markdown",
   "metadata": {},
   "source": [
    "## **3. Types control what operations (or methods) can be performed on a given value:**\n",
    "+ A value's types determines what the program can do to it."
   ]
  },
  {
   "cell_type": "code",
   "execution_count": 1,
   "metadata": {},
   "outputs": [],
   "source": [
    "# unsupported oper '-' within strings"
   ]
  },
  {
   "cell_type": "markdown",
   "metadata": {},
   "source": [
    "## **4. You can use the `+` and `*` operators on string:**\n",
    "+ 'Adding' character strings concatenates them:"
   ]
  },
  {
   "cell_type": "markdown",
   "metadata": {},
   "source": [
    "+ \"Multiplying' character strings repeates the addition:"
   ]
  },
  {
   "cell_type": "code",
   "execution_count": 2,
   "metadata": {},
   "outputs": [],
   "source": [
    "# add 10 times 'equal' symbol"
   ]
  },
  {
   "cell_type": "markdown",
   "metadata": {},
   "source": [
    "## **5. Strings have a length (but numbers don't):**\n",
    "+ The built-in function `len` counts the number of characters in a string."
   ]
  },
  {
   "cell_type": "code",
   "execution_count": null,
   "metadata": {},
   "outputs": [],
   "source": [
    "# numbers not"
   ]
  },
  {
   "cell_type": "markdown",
   "metadata": {},
   "source": [
    "## **6. We need to convert numbers to strings or viceversa when operating on them.**"
   ]
  },
  {
   "cell_type": "code",
   "execution_count": 4,
   "metadata": {},
   "outputs": [],
   "source": [
    "# print(1+'2') ambigous?"
   ]
  },
  {
   "cell_type": "markdown",
   "metadata": {},
   "source": [
    "+ We cannot because it's ambigous: should be `1 + '2'` be `3` or `12`?\n",
    "+ Some types can be converted to other types by using the type name as a function."
   ]
  },
  {
   "cell_type": "markdown",
   "metadata": {},
   "source": [
    "## **7. We can mix integers and floats freely in operations:**\n",
    "+ Python will automatically converts integers to floats as needed, and can be mixed in arithmetic operations."
   ]
  },
  {
   "cell_type": "markdown",
   "metadata": {},
   "source": [
    "## **8. Variables only change value when something is assigned to them:**\n",
    "+ If we make one cell in a spreadsheet depend on another, and update the latter, the former updates automatically."
   ]
  },
  {
   "cell_type": "code",
   "execution_count": 5,
   "metadata": {},
   "outputs": [],
   "source": [
    "#### first = 1\n"
   ]
  },
  {
   "cell_type": "markdown",
   "metadata": {},
   "source": [
    "#### <i style=\"color:red\">**EXERCISES - 10 min**</i>"
   ]
  },
  {
   "cell_type": "markdown",
   "metadata": {},
   "source": [
    "_1. What type of value is 3.4? How can you find out?_"
   ]
  },
  {
   "cell_type": "markdown",
   "metadata": {},
   "source": [
    "_2. What type of value is 3.25 + 4?_"
   ]
  },
  {
   "cell_type": "markdown",
   "metadata": {},
   "source": [
    "_3. What type of value (integer, floating point number, or character string) would you use to represent each of the following? \n",
    "Try to come up with more than one good answer for each problem. For example, in # 1, when would counting days with a floating point variable make more sense than using an integer?_\n",
    "\n",
    "1. Number of days since the start of the year.\n",
    "2. Serial number of a piece of lab equipment.\n",
    "3. A lab specimen’s age\n",
    "4. Current population of a city.\n",
    "5. Average population of a city over time."
   ]
  },
  {
   "cell_type": "markdown",
   "metadata": {},
   "source": [
    "_4. Which of the following will return the floating point number 2.0? Note: there may be more than one right answer._\n",
    "\n",
    "```python\n",
    "1. first + float(second)\n",
    "2. float(second) + float(third)\n",
    "3. first + int(third)\n",
    "4. first + int(float(third))\n",
    "5. int(first) + int(float(third))\n",
    "6. 2.0 * second\n",
    "```"
   ]
  },
  {
   "cell_type": "code",
   "execution_count": null,
   "metadata": {},
   "outputs": [],
   "source": []
  }
 ],
 "metadata": {
  "kernelspec": {
   "display_name": "Python 3",
   "language": "python",
   "name": "python3"
  },
  "language_info": {
   "codemirror_mode": {
    "name": "ipython",
    "version": 3
   },
   "file_extension": ".py",
   "mimetype": "text/x-python",
   "name": "python",
   "nbconvert_exporter": "python",
   "pygments_lexer": "ipython3",
   "version": "3.8.5"
  }
 },
 "nbformat": 4,
 "nbformat_minor": 4
}
