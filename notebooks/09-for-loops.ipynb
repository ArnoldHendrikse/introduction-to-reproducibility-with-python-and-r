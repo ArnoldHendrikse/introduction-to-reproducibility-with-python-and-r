{
 "cells": [
  {
   "cell_type": "markdown",
   "metadata": {},
   "source": [
    "---\n",
    "# D. FOR LOOPS\n",
    "#### Learning objectives\n",
    "\n",
    "+ Explain what for loops are normally used for.\n",
    "+ Trace the execution of a simple loop and correctly state the values of variables in each iteration.\n",
    "+ Write for loops that use Accumulator pattern to aggregate values."
   ]
  },
  {
   "cell_type": "markdown",
   "metadata": {},
   "source": [
    "## **1. A _for loop_ executes commands once for each value in a collection**:\n",
    "\n",
    "+ Doing calculations on the values in a list one by one is a as painful as working with many different variables.\n",
    "+ A _for loop_ tells Python to execute some statements once fro each value in a list, a character string, or some other collection."
   ]
  },
  {
   "cell_type": "code",
   "execution_count": 45,
   "metadata": {},
   "outputs": [
    {
     "name": "stdout",
     "output_type": "stream",
     "text": [
      "1\n",
      "3\n",
      "5\n"
     ]
    }
   ],
   "source": [
    "for numbers in [1,3,5]:\n",
    "    print(numbers)"
   ]
  },
  {
   "cell_type": "markdown",
   "metadata": {},
   "source": [
    "## **2. A _for_ loop is made up of a collection, a loop variable, and a body:**\n",
    "\n",
    "+ The collection, [1,3,5], is what the loop is being run on.\n",
    "+ The body, `print(numbers)`, specifies what do for each value in the collection.\n",
    "+ The loop variable, `numbers`, is what changes for each _iteration_ of the loop. (aka, \"current thing\")"
   ]
  },
  {
   "cell_type": "markdown",
   "metadata": {},
   "source": [
    "## **3. The first line of the _for_ loop must end with a colon, and the body must be indented:**\n",
    "\n",
    "+ The colon at the end of the first line signals the start of a _block_ of statements.\n",
    "+ Python uses indentation rather `{}` or `begin/end` to show _nesting_:\n",
    "    + Any consistent indentation ilegal, but almost everyone uses **four** spaces. "
   ]
  },
  {
   "cell_type": "code",
   "execution_count": 49,
   "metadata": {},
   "outputs": [
    {
     "ename": "IndentationError",
     "evalue": "expected an indented block (<ipython-input-49-a8c3c934e5e0>, line 2)",
     "output_type": "error",
     "traceback": [
      "\u001b[1;36m  File \u001b[1;32m\"<ipython-input-49-a8c3c934e5e0>\"\u001b[1;36m, line \u001b[1;32m2\u001b[0m\n\u001b[1;33m    print(numbers)\u001b[0m\n\u001b[1;37m    ^\u001b[0m\n\u001b[1;31mIndentationError\u001b[0m\u001b[1;31m:\u001b[0m expected an indented block\n"
     ]
    }
   ],
   "source": [
    "for numbers in [1,3,5,7]:\n",
    "print(numbers)"
   ]
  },
  {
   "cell_type": "code",
   "execution_count": 50,
   "metadata": {},
   "outputs": [
    {
     "ename": "IndentationError",
     "evalue": "unexpected indent (<ipython-input-50-5160757bfee7>, line 2)",
     "output_type": "error",
     "traceback": [
      "\u001b[1;36m  File \u001b[1;32m\"<ipython-input-50-5160757bfee7>\"\u001b[1;36m, line \u001b[1;32m2\u001b[0m\n\u001b[1;33m    surname = \"Jon\"\u001b[0m\n\u001b[1;37m    ^\u001b[0m\n\u001b[1;31mIndentationError\u001b[0m\u001b[1;31m:\u001b[0m unexpected indent\n"
     ]
    }
   ],
   "source": [
    "name = \"Smith\"\n",
    "    surname = \"Jon\""
   ]
  },
  {
   "cell_type": "markdown",
   "metadata": {},
   "source": [
    "## **4. Loop variable can be called anything**:\n",
    "+ As with all variables, loop variables are:\n",
    "    * Created on demand.\n",
    "    * Meaningless: their names can be anytthing at all."
   ]
  },
  {
   "cell_type": "markdown",
   "metadata": {},
   "source": [
    "## **5. The body of a loop can contain many statements:**\n",
    "* But no loop should be more than a few lines long.\n",
    "* Because is hard for human beings to keep larger chunks of code in mind."
   ]
  },
  {
   "cell_type": "code",
   "execution_count": 51,
   "metadata": {},
   "outputs": [
    {
     "name": "stdout",
     "output_type": "stream",
     "text": [
      "1 1 1\n",
      "3 9 27\n",
      "5 25 125\n",
      "7 49 343\n"
     ]
    }
   ],
   "source": [
    "primes = [1,3,5,7]\n",
    "for p in primes:\n",
    "    squared = p**2\n",
    "    cubed = p**3\n",
    "    print(p, squared, cubed)"
   ]
  },
  {
   "source": [
    "## **6. Use `range` to iterate over a sequence of numbers**:\n",
    "+ The built-in function `range` produces a sequence of numbers.\n",
    "    + _Not a list_: the number are produced on demand to make looping over large ranges more efficient.\n",
    "+ `range(N)` is the numbers 0 ... _N-1_."
   ],
   "cell_type": "markdown",
   "metadata": {}
  },
  {
   "cell_type": "code",
   "execution_count": 54,
   "metadata": {},
   "outputs": [
    {
     "name": "stdout",
     "output_type": "stream",
     "text": [
      "0\n",
      "1\n"
     ]
    }
   ],
   "source": [
    "for number in range(0,2):\n",
    "    print(number)"
   ]
  },
  {
   "cell_type": "markdown",
   "metadata": {},
   "source": [
    "## **7. The Accumulator pattern turns many values into one**:\n",
    "\n",
    "* A common pattern in programs is to:\n",
    "    + 1. Initalize an _accumulator_ variable to zero, the empy string, or the empty list.\n",
    "    + 2. Update the variable with values from a collection."
   ]
  },
  {
   "cell_type": "code",
   "execution_count": 61,
   "metadata": {},
   "outputs": [
    {
     "name": "stdout",
     "output_type": "stream",
     "text": [
      "55\n"
     ]
    }
   ],
   "source": [
    "# SUM THE FIRST 10 INTEGERS:\n",
    "total = 0\n",
    "for number in range(10):\n",
    "    total = total + (number+1)\n",
    "print(total)"
   ]
  },
  {
   "cell_type": "markdown",
   "metadata": {},
   "source": [
    "+ Read `total = total + (number+1)` as:\n",
    "    + Add 1 to the current value pf the loop variable `number`.\n",
    "    + Add that to the current value of the accumulator variable `total`.\n",
    "    + Assign that to `total`, replacing the current value."
   ]
  },
  {
   "cell_type": "code",
   "execution_count": 62,
   "metadata": {},
   "outputs": [
    {
     "name": "stdout",
     "output_type": "stream",
     "text": [
      "12\n"
     ]
    }
   ],
   "source": [
    "my_list = [\"red\", \"blue\", \"green\"]\n",
    "total = 0\n",
    "for thing in my_list:\n",
    "    total = len(thing) + total\n",
    "print(total)"
   ]
  },
  {
   "cell_type": "code",
   "execution_count": null,
   "metadata": {},
   "outputs": [],
   "source": []
  }
 ],
 "metadata": {
  "kernelspec": {
   "display_name": "Python 3",
   "language": "python",
   "name": "python3"
  },
  "language_info": {
   "codemirror_mode": {
    "name": "ipython",
    "version": 3
   },
   "file_extension": ".py",
   "mimetype": "text/x-python",
   "name": "python",
   "nbconvert_exporter": "python",
   "pygments_lexer": "ipython3",
   "version": "3.9.1-final"
  }
 },
 "nbformat": 4,
 "nbformat_minor": 4
}