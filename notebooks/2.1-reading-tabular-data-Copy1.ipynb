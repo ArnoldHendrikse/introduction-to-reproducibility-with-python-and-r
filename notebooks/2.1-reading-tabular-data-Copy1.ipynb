{
 "cells": [
  {
   "cell_type": "markdown",
   "metadata": {
    "id": "O_zBP1o3flzI"
   },
   "source": [
    "# 2. Analyse and visualise data with python - 11:05 to 12:25"
   ]
  },
  {
   "cell_type": "markdown",
   "metadata": {
    "id": "4UqsO7kFU6BZ"
   },
   "source": [
    "---\n",
    "\n",
    "## [Reading Tabular Data into DataFrames](https://swcarpentry.github.io/python-novice-gapminder/07-reading-tabular/index.html) - 10 min / 10 min exercises\n",
    "\n",
    "**Learning objectives**:\n",
    "- Import the Pandas library\n",
    "- Use Pandas to load a simple CSV data set\n",
    "- Get some basic information about a Pandas DataFrame"
   ]
  },
  {
   "cell_type": "markdown",
   "metadata": {
    "id": "zNLTL18adQ-Q"
   },
   "source": [
    "#### 1. Use the Pandas library to do statistics on tabular data:\n",
    "* Pandas is widely-used Python library for statistics, particularly on tabular data.\n",
    "* Borrows many features from R's dataframes:\n",
    "  - Two dimensional table whose columns have names and potentially have different type of data types/\n",
    "* Load it with `import pandas as pd`. The alias pd is commonly used for Pandas.\n",
    "* Read a Comma Separated Values (CSV) data file with `pd.read_csv`.\n",
    "  - Agument is the name of the file to be read.\n",
    "  - Assign result to a variable to store the data that was read."
   ]
  },
  {
   "cell_type": "code",
   "execution_count": null,
   "metadata": {
    "colab": {
     "base_uri": "https://localhost:8080/"
    },
    "id": "G6A8J_Lhctt5",
    "outputId": "cc725b62-d6ab-418f-85e0-a265cd687ea9"
   },
   "outputs": [],
   "source": [
    "path = '../data/gapminder_gdp_oceania.csv'"
   ]
  },
  {
   "cell_type": "markdown",
   "metadata": {
    "id": "2rx6etPweG7o"
   },
   "source": [
    "* The columns in a dataframe are the observed variables, and the rows are the observations.\n",
    "* Pandas uses backslash `\\` to show wrapped lines when output is too wide to fit the screen.\n",
    "\n",
    "**File Not Found:**\n",
    "\n",
    "> Our lessons store their data files in a `data` sub-directory, which is why the path to the file is `data/...csv`. If you formet to include `data/` or if you include it but your cope of the file is somewhere else, you will bet a runtime error that ends with a line like this:\n",
    "\n",
    "`ERROR`: _OSError: File b'gapminder_gdp_oceania.csv' does not exist_"
   ]
  },
  {
   "cell_type": "markdown",
   "metadata": {
    "id": "hkcVQOK8fI1F"
   },
   "source": [
    "#### 2. Use `index_col` to specify that a column's values should be used as row headings:\n",
    "* Row headings are numbers (0 and 1 in this case)\n",
    "* Really want to index by country\n",
    "* Pass the name of the column to `read_csv` as its `index_col` parameter to do this"
   ]
  },
  {
   "cell_type": "code",
   "execution_count": null,
   "metadata": {
    "colab": {
     "base_uri": "https://localhost:8080/"
    },
    "id": "WP7jyrv1fs2l",
    "outputId": "d8a088f6-d5fd-441e-8cd5-2d00e9cb7e68"
   },
   "outputs": [],
   "source": []
  },
  {
   "cell_type": "markdown",
   "metadata": {
    "id": "RkmwCa15f5lA"
   },
   "source": [
    "#### 3. Use the `DataFrame.info()` method to find out more about a dataframe"
   ]
  },
  {
   "cell_type": "code",
   "execution_count": null,
   "metadata": {
    "colab": {
     "base_uri": "https://localhost:8080/"
    },
    "id": "fhF7JMuqgCSl",
    "outputId": "461ca322-d43c-49d6-a26d-c3eaa0a8f8d0"
   },
   "outputs": [],
   "source": []
  },
  {
   "cell_type": "markdown",
   "metadata": {
    "id": "uUZNN7sfgNJd"
   },
   "source": [
    "* This is a DataFrame\n",
    "* Two rows named `Australia` and `New Zealand`\n",
    "* Twelve columns, each of which has two actual 64-bit floating point values\n",
    "  - We will talk later about null values, which are used to represent missing observations\n",
    "* Uses 208 bytes of memory"
   ]
  },
  {
   "cell_type": "markdown",
   "metadata": {
    "id": "DfL-CSHSiXAj"
   },
   "source": [
    "#### 4. The DataFrame.columns variable stores information about the dataframe's columns\n",
    "\n",
    "* Note that this is data, _not_ a method. (it doesn't have parentheses)\n",
    "  - Like `math.pi`\n",
    "  - So do not use `()` to call it"
   ]
  },
  {
   "cell_type": "code",
   "execution_count": null,
   "metadata": {
    "colab": {
     "base_uri": "https://localhost:8080/"
    },
    "id": "tgsIlosei0Tz",
    "outputId": "8ec2c2cc-472c-4417-da1d-861b9e322bdc"
   },
   "outputs": [],
   "source": []
  },
  {
   "cell_type": "markdown",
   "metadata": {
    "id": "mIUo3PO6i-s0"
   },
   "source": [
    "#### 5. Use `DataFrame.T` to transpose a dataframe:\n",
    "\n",
    "* Sometimes want to treat columns as rows and vice versa.\n",
    "* Transpose (written `.T`) doesn't copy the data, just changes the program's view of it.\n",
    "* Like `columns`, it is a member variable\n"
   ]
  },
  {
   "cell_type": "code",
   "execution_count": null,
   "metadata": {
    "colab": {
     "base_uri": "https://localhost:8080/",
     "height": 421
    },
    "id": "gzEYw1Slj5ZA",
    "outputId": "c5bb7900-166b-493e-ad50-5ee1e95c0a2a"
   },
   "outputs": [],
   "source": []
  },
  {
   "cell_type": "markdown",
   "metadata": {
    "id": "lYXaxYJzkA27"
   },
   "source": [
    "#### 6. Use `DataFrame.describe()` to get summary statistics about data\n",
    "\n",
    "`DataFrame.describe()` gets the summary statistics of only the columns that have numerical data. All other columns are ignored, unless you use the argument `include = 'all'` "
   ]
  },
  {
   "cell_type": "code",
   "execution_count": null,
   "metadata": {
    "colab": {
     "base_uri": "https://localhost:8080/",
     "height": 317
    },
    "id": "z5QUhwiqkc8T",
    "outputId": "086088ad-a755-45a3-a13e-991ba5ce5b3e"
   },
   "outputs": [],
   "source": []
  },
  {
   "cell_type": "markdown",
   "metadata": {},
   "source": [
    "#### <i style=\"color:red\">**EXERCISES - 10 min**</i>"
   ]
  },
  {
   "cell_type": "markdown",
   "metadata": {},
   "source": [
    "- Read the data in `gapminder_gdp_americas.csv` into a variable called `americas` and display its summary statistics\n",
    "- Use `help(americas.head)` and `help(americas.tail)` to find out what `DataFrame.head` and `DataFrame.tail` do"
   ]
  },
  {
   "cell_type": "code",
   "execution_count": null,
   "metadata": {},
   "outputs": [],
   "source": [
    "path = 'https://raw.githubusercontent.com/MaastrichtU-IDS/coding4all/main/data/gapminder_gdp_americas.csv?token=AMA7DPJFRN6RH4UV6KKMPNDAKRRYY'\n",
    "\n",
    "### HERE YOUR CODE"
   ]
  },
  {
   "cell_type": "markdown",
   "metadata": {
    "id": "srnV91nKnLVx"
   },
   "source": [
    "- Writing data: As well as the `read_csv` function for reading data from a file, Pandas provides a `to_csv` function to write dataframes to files. Applying what you’ve learned about reading from files, write one of your dataframes to a file called `processed.csv`. You can use `help` to get information on how to use `to_csv`.\n",
    "\n",
    "- In order to write the DataFrame americas to a file called processed.csv, execute the following command:"
   ]
  },
  {
   "cell_type": "code",
   "execution_count": null,
   "metadata": {
    "id": "135j232onrpm"
   },
   "outputs": [],
   "source": [
    "americas.to_csv('processed.csv')"
   ]
  }
 ],
 "metadata": {
  "colab": {
   "name": "CODING4ALL.ipynb",
   "provenance": [],
   "toc_visible": true
  },
  "kernelspec": {
   "display_name": "Python 3",
   "language": "python",
   "name": "python3"
  },
  "language_info": {
   "codemirror_mode": {
    "name": "ipython",
    "version": 3
   },
   "file_extension": ".py",
   "mimetype": "text/x-python",
   "name": "python",
   "nbconvert_exporter": "python",
   "pygments_lexer": "ipython3",
   "version": "3.7.6"
  }
 },
 "nbformat": 4,
 "nbformat_minor": 4
}
