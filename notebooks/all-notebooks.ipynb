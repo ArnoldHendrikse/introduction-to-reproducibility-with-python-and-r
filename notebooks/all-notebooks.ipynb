{
 "cells": [
  {
   "cell_type": "code",
   "execution_count": null,
   "id": "11354a7d-5993-442f-82e6-868e9c1988f7",
   "metadata": {},
   "outputs": [],
   "source": []
  },
  {
   "cell_type": "markdown",
   "id": "a8e5795e-67c1-43b8-a139-5773549220f8",
   "metadata": {
    "slideshow": {
     "slide_type": "slide"
    }
   },
   "source": [
    "## Coding Basics for Researchers - Day 1\n",
    "\n",
    "*Notebook by [Pedro V Hernandez Serrano](https://github.com/pedrohserrano)*\n"
   ]
  },
  {
   "cell_type": "markdown",
   "id": "932ccaad-925d-4223-aa34-58fa573039a7",
   "metadata": {
    "slideshow": {
     "slide_type": "-"
    }
   },
   "source": [
    "---\n",
    "# 1. Python Building Blocks\n",
    "* [1.1. Python Basic Commands](#1.1)\n",
    "* [1.2. Strings](#1.2)\n",
    "* [1.3. Lists](#1.3)\n",
    "\n",
    "---"
   ]
  },
  {
   "cell_type": "markdown",
   "id": "63b1e5be-649f-403b-9156-2040cd7464e3",
   "metadata": {
    "colab_type": "text",
    "id": "d8t-lKtiC1yK",
    "slideshow": {
     "slide_type": "subslide"
    }
   },
   "source": [
    "Guido van rossum | Monty python\n",
    "- | - \n",
    "![](https://gvanrossum.github.io/images/guido-portrait-dan-stroud.jpg) | ![](https://upload.wikimedia.org/wikipedia/en/c/cd/Monty_Python%27s_Flying_Circus_Title_Card.png)\n"
   ]
  },
  {
   "cell_type": "markdown",
   "id": "d015fd7f-ed6f-4c39-94ad-611f9d1c491b",
   "metadata": {
    "colab_type": "text",
    "id": "AQVZze64Ans9",
    "slideshow": {
     "slide_type": "subslide"
    }
   },
   "source": [
    "## A bit of history\n",
    "\n",
    "#### Python starts with ABC.\n",
    "\n",
    "- ABC is a general-purpose programming language and programming \n",
    "environment, which had been developed in the Netherlands, Amsterdam, at \n",
    "the CWI (Centrum Wiskunde & Informatica).\n",
    "\n",
    "- The greatest achievement of ABC was to influence the design of Python.  \n",
    "He emphasizes on the DRY (Don’t Repeat Yourself) principle and readability.\n",
    "\n",
    "- Python was conceptualized in the late 1980s. Guido van Rossum worked that \n",
    "time in a project at the CWI, called Amoeba, a distributed operating system.\n",
    "\n",
    "- Python was designed as a simple scripting language that possessed some of \n",
    "ABC's better properties, but without its problems.\n",
    "\n",
    "-  So, what about the name \"Python\": Most people think about snakes, but the \n",
    "name has something to do with excellent British humour. A show called Monty Python's Flying Circus was the culprit."
   ]
  },
  {
   "cell_type": "markdown",
   "id": "419e363b-3a31-4c52-bea8-19a0b94738cb",
   "metadata": {
    "colab_type": "text",
    "id": "oQq3dSxW9yq5",
    "slideshow": {
     "slide_type": "skip"
    }
   },
   "source": [
    "## Tutorials for Learning Python\n",
    "    \n",
    "- [Codecademy](https://www.codecademy.com/tracks/python) is great for beginner levels.\n",
    "- There is also the [Official Beginners Guide](https://wiki.python.org/moin/BeginnersGuide).\n",
    "- [Learn Python the Hard Way](https://learnpythonthehardway.org/book/) is a great tutorial for a more in-depth overview.\n",
    "    - It isn't actually particularly hard, although note that the currently available version is in Python2. \\n\",\n",
    "- [Whirlwind Tour of Python](https://github.com/jakevdp/WhirlwindTourOfPython) is a free collection of Jupyter notebooks that takes you through Python. \n",
    " - [Leet Code](https://leetcode.com/) is a place for more intense technical coding questions and challenges (geared towards industry interviews)."
   ]
  },
  {
   "cell_type": "markdown",
   "id": "2547bc8d-5f38-4373-ba40-780867f175df",
   "metadata": {
    "colab_type": "text",
    "id": "PTCuroRoxN5r",
    "slideshow": {
     "slide_type": "subslide"
    }
   },
   "source": [
    "## Getting Un-Stuck\n",
    "At some point, you will get stuck. It happens. The internet is your friend.\n",
    "    \n",
    "If you get an error, or aren't sure how to proceed, use {your favourite search engine} with specific search terms relating to what you are trying to do. Sometimes this just means searching the error that you got.\n",
    "   \n",
    "Your are likely to find responses on [StackOverflow](https://stackoverflow.com) - which is basically a forum for programming questions, and a good place to find answers."
   ]
  },
  {
   "cell_type": "markdown",
   "id": "28ae4dc3-bd2c-484d-8dce-1b8c31fe8220",
   "metadata": {
    "slideshow": {
     "slide_type": "subslide"
    }
   },
   "source": [
    "## Managing Cells in the Notebooks\n",
    "\n",
    "__Add__ a new cell to the notebook by:\n",
    " - click the + button on the toolbar\n",
    " - `Insert -> Insert Cell Above` or `ESC-A`\n",
    " - `Insert -> Insert Cell Below` or `ESC-B`\n",
    " \n",
    "__Delete__ a cell by selecting it and:\n",
    " - click the scissors button on the toolbar\n",
    " - `Edit -> Delete cells` or `ESC-DD`\n",
    "\n",
    "__Undelete__ the last deleted cell:\n",
    "- `Edit -> Undo Delete cells` or `ESC-Z`\n",
    "\n",
    "Each cell has a __cell history__ associated with it. Use `CMD-Z` to step back through previous cell contents.\n",
    " \n",
    "__Reorder__ cells by:\n",
    "- moving them up and down the notebook using the up and down arrows on the toolbar\n",
    "- `Edit -> Move Cell Up` or `Edit -> Move Cell Down` \n",
    "- cutting and pasting them:\n",
    " - `Edit - >Cut` or `Edit->Paste Cells Above` or `Edit->Paste Cells Below`\n",
    " - on the toolbar, `Cut selected cells` then `Paste selected cells`\n",
    "\n",
    "Copy and cut selected cells from the toolbar:\n",
    "- `Edit -> Copy Cells` or `ESC-C`.\n",
    "- `Edit -> Cut Cells` or `ESC-X`."
   ]
  },
  {
   "cell_type": "markdown",
   "id": "b09cfecb-b5ac-4270-9334-1c9518f7cfef",
   "metadata": {
    "colab_type": "text",
    "id": "mLAKcxW-58aw",
    "slideshow": {
     "slide_type": "subslide"
    }
   },
   "source": [
    "## Packages\n",
    "\n",
    "Packages are basically just collections of code. The anaconda distribution comes with all the core packages you will need for this class. \n",
    "  \n",
    "For getting other packages, anaconda comes with\n",
    "    <a href=\"https://conda.io/docs/using/pkgs.html\" class=\"alert-link\">conda</a>\n",
    "    a package manager, with support for downloading and installing other packages."
   ]
  },
  {
   "cell_type": "markdown",
   "id": "70b2fcb4-62e3-4e1a-8a76-f4e1a6452761",
   "metadata": {
    "slideshow": {
     "slide_type": "slide"
    }
   },
   "source": [
    "---\n",
    "## 1.1. Python basic commands\n",
    "<a id=\"1.1\">"
   ]
  },
  {
   "cell_type": "markdown",
   "id": "d37bb2b1-0b6c-409a-bbe7-b0eab6d2d7c9",
   "metadata": {
    "colab_type": "text",
    "id": "UeW9owvXAb4j",
    "slideshow": {
     "slide_type": "fragment"
    }
   },
   "source": [
    "Many of the things I used to use a calculator for, I now use Python for:"
   ]
  },
  {
   "cell_type": "code",
   "execution_count": 1,
   "id": "e455593b-3e0d-4b18-849d-343047907b6d",
   "metadata": {
    "colab": {},
    "colab_type": "code",
    "id": "CGaW6eDGAb4o",
    "outputId": "39f85b47-7dad-4f99-d243-3a471fbd3b26",
    "slideshow": {
     "slide_type": "fragment"
    }
   },
   "outputs": [
    {
     "data": {
      "text/plain": [
       "4"
      ]
     },
     "execution_count": 1,
     "metadata": {},
     "output_type": "execute_result"
    }
   ],
   "source": [
    "2+2"
   ]
  },
  {
   "cell_type": "code",
   "execution_count": 2,
   "id": "cd7d7892-a107-41e7-9f69-61f13adafdf0",
   "metadata": {
    "colab": {},
    "colab_type": "code",
    "id": "EkLieN03Ab5C",
    "outputId": "540abe03-a186-42fa-e1c7-36700e00f842",
    "slideshow": {
     "slide_type": "fragment"
    }
   },
   "outputs": [
    {
     "data": {
      "text/plain": [
       "5.0"
      ]
     },
     "execution_count": 2,
     "metadata": {},
     "output_type": "execute_result"
    }
   ],
   "source": [
    "(50-5*6)/4"
   ]
  },
  {
   "cell_type": "markdown",
   "id": "4e5021c8-c002-4abd-826b-26c43aaf8b2f",
   "metadata": {
    "colab_type": "text",
    "id": "TwzIYfqxAb5Q",
    "slideshow": {
     "slide_type": "subslide"
    }
   },
   "source": [
    "There are some gotchas compared to using a normal calculator."
   ]
  },
  {
   "cell_type": "code",
   "execution_count": 3,
   "id": "cc52c765-9aa8-4aac-b355-77f47d0a213e",
   "metadata": {
    "colab": {},
    "colab_type": "code",
    "id": "n6ywrBdkAb5V",
    "outputId": "a8cca7ea-fb47-4c07-bf56-96adca46fac1",
    "slideshow": {
     "slide_type": "fragment"
    }
   },
   "outputs": [
    {
     "data": {
      "text/plain": [
       "2.3333333333333335"
      ]
     },
     "execution_count": 3,
     "metadata": {},
     "output_type": "execute_result"
    }
   ],
   "source": [
    "7/3"
   ]
  },
  {
   "cell_type": "markdown",
   "id": "72857cf8-f384-4ae6-b9bf-10500e7399d7",
   "metadata": {
    "colab_type": "text",
    "id": "_tDkkfN3Ab5t",
    "slideshow": {
     "slide_type": "fragment"
    }
   },
   "source": [
    "Alternatively, you can convert one of the integers to a floating point number, in which case the division function returns another floating point number."
   ]
  },
  {
   "cell_type": "code",
   "execution_count": 4,
   "id": "835430a9-3213-4d23-a0e9-8183d0198c58",
   "metadata": {
    "colab": {},
    "colab_type": "code",
    "id": "OFMXk4AHAb5v",
    "outputId": "81764bce-7b76-441a-f1dd-a8a99cbebbda",
    "slideshow": {
     "slide_type": "fragment"
    }
   },
   "outputs": [
    {
     "data": {
      "text/plain": [
       "2.3333333333333335"
      ]
     },
     "execution_count": 4,
     "metadata": {},
     "output_type": "execute_result"
    }
   ],
   "source": [
    "7/3.0"
   ]
  },
  {
   "cell_type": "code",
   "execution_count": 5,
   "id": "ac9511c8-96a1-4a25-983a-db246c14319c",
   "metadata": {
    "colab": {},
    "colab_type": "code",
    "id": "p2Hj-e6lAb56",
    "outputId": "492fe5ae-2ada-4b2f-cace-5a00216714b4",
    "slideshow": {
     "slide_type": "fragment"
    }
   },
   "outputs": [
    {
     "data": {
      "text/plain": [
       "2.3333333333333335"
      ]
     },
     "execution_count": 5,
     "metadata": {},
     "output_type": "execute_result"
    }
   ],
   "source": [
    "7/float(3)"
   ]
  },
  {
   "cell_type": "markdown",
   "id": "7b7d7bd5-b46f-4caa-bed1-a45ad51c9696",
   "metadata": {},
   "source": [
    "Checking the datatype"
   ]
  },
  {
   "cell_type": "code",
   "execution_count": 6,
   "id": "c339f979-c0b8-4359-823e-50c40871a486",
   "metadata": {},
   "outputs": [
    {
     "data": {
      "text/plain": [
       "float"
      ]
     },
     "execution_count": 6,
     "metadata": {},
     "output_type": "execute_result"
    }
   ],
   "source": [
    "type(7/3)"
   ]
  },
  {
   "cell_type": "markdown",
   "id": "15a3715c-6754-46b9-aa44-bc8610652422",
   "metadata": {
    "colab_type": "text",
    "id": "hEB9A8VuAb6J",
    "slideshow": {
     "slide_type": "subslide"
    }
   },
   "source": [
    "In the last few lines, we have sped by a lot of things that we should stop for a moment and explore a little more fully. We've seen, however briefly, two different data types: \n",
    "- **integers**, also known as *whole numbers* to the non-programming world, and \n",
    "- **floating point numbers**, also known as *decimal numbers* to the rest of the world.\n"
   ]
  },
  {
   "cell_type": "markdown",
   "id": "748dc74a-07c1-479a-9200-9ad61958a43d",
   "metadata": {},
   "source": [
    "But also important is not only to do calculations but assign values \n",
    "- **Variables** are names for values.\n",
    "- In Python the `=` symbol assigns the value on the right to the name on the left. (Similar to `<-` in R)\n",
    "- The variables is created when a value is assigned to it."
   ]
  },
  {
   "cell_type": "code",
   "execution_count": 11,
   "id": "8b4694e7-b719-4eb3-a771-42cc5d1e7a11",
   "metadata": {
    "colab": {},
    "colab_type": "code",
    "id": "KY6kd6WtAb65",
    "outputId": "053123e5-71a5-47c8-b5fc-447388b4e41e",
    "slideshow": {
     "slide_type": "subslide"
    }
   },
   "outputs": [],
   "source": [
    "width = 20\n",
    "length = 30\n",
    "area = length*width"
   ]
  },
  {
   "cell_type": "code",
   "execution_count": 12,
   "id": "8bdb5432-86ed-48d1-bbab-6af45a7a8278",
   "metadata": {},
   "outputs": [
    {
     "name": "stdout",
     "output_type": "stream",
     "text": [
      "600\n"
     ]
    }
   ],
   "source": [
    "print(area)"
   ]
  },
  {
   "cell_type": "markdown",
   "id": "9fd21f22-2113-4eab-bc75-7a22025a044d",
   "metadata": {
    "colab_type": "text",
    "id": "GrYyGiJwAb7J",
    "slideshow": {
     "slide_type": "subslide"
    }
   },
   "source": [
    "But if you try to access a variable that you haven't yet defined, you get an error:"
   ]
  },
  {
   "cell_type": "markdown",
   "id": "49af2122-54bb-470e-984f-a1edb96cc934",
   "metadata": {
    "colab": {},
    "colab_type": "code",
    "id": "rJXknWO-Ab7N",
    "outputId": "b69a8429-e08e-40f0-dee1-007edbaa26e1",
    "slideshow": {
     "slide_type": "fragment"
    }
   },
   "source": [
    "\n",
    "```Python\n",
    "> volume\n",
    "```\n",
    "\n",
    "```Python\n",
    "---------------------------------------------------------------------------\n",
    "NameError                                 Traceback (most recent call last)\n",
    "<ipython-input-7-6211527fe2c2> in <module>\n",
    "----> 1 volume\n",
    "\n",
    "NameError: name 'volume' is not defined\n",
    "```\n",
    "\n"
   ]
  },
  {
   "cell_type": "markdown",
   "id": "2dd180f9-7403-4f6d-827b-2e854962b3cc",
   "metadata": {},
   "source": [
    "Variables must be created before they are used"
   ]
  },
  {
   "cell_type": "code",
   "execution_count": 13,
   "id": "ef54cb78-c52b-41f0-bb08-2cc3981e2733",
   "metadata": {
    "colab": {},
    "colab_type": "code",
    "id": "ErwQvKqVAb7o",
    "slideshow": {
     "slide_type": "subslide"
    }
   },
   "outputs": [],
   "source": [
    "depth = 10\n",
    "volume = area*depth"
   ]
  },
  {
   "cell_type": "code",
   "execution_count": 14,
   "id": "ab9ca722-3fa9-4076-ab1b-14dda1b89b3a",
   "metadata": {},
   "outputs": [
    {
     "name": "stdout",
     "output_type": "stream",
     "text": [
      "6000\n"
     ]
    }
   ],
   "source": [
    "print(volume)"
   ]
  },
  {
   "cell_type": "markdown",
   "id": "6fdfcd58-2c6c-4bc9-8873-aa5682a0ecc0",
   "metadata": {
    "colab_type": "text",
    "id": "l29uj5JEAb7z",
    "slideshow": {
     "slide_type": "subslide"
    }
   },
   "source": [
    "You can name a variable *almost* anything you want. It needs to start with an alphabetical character or \"\\_\", can contain alphanumeric charcters plus underscores (\"\\_\"). Certain words, however, are reserved for the language:\n",
    "\n",
    "    and, as, assert, break, class, continue, def, del, elif, else, except, \n",
    "    exec, finally, for, from, global, if, import, in, is, lambda, not, or,\n",
    "    pass, print, raise, return, try, while, with, yield\n",
    "\n",
    "Trying to define a variable using one of these will result in a syntax error:"
   ]
  },
  {
   "cell_type": "markdown",
   "id": "9e4d30d9-f05c-410a-a7dd-eb8f591f737a",
   "metadata": {
    "colab": {},
    "colab_type": "code",
    "id": "7lFfDla3Ab72",
    "outputId": "7452a9cb-189d-40b6-c6cc-631911f82130",
    "slideshow": {
     "slide_type": "fragment"
    }
   },
   "source": [
    "```Python\n",
    "return = 0\n",
    "\n",
    "File \"<ipython-input-12-c7a05f6eb55e>\", line 1\n",
    "    return = 0\n",
    "           ^\n",
    "SyntaxError: invalid syntax\n",
    "```"
   ]
  },
  {
   "cell_type": "markdown",
   "id": "b7535f0a-c5de-4610-bcfc-de0b270a2bc7",
   "metadata": {
    "colab_type": "text",
    "id": "WxMo5ZIpAb9K",
    "slideshow": {
     "slide_type": "skip"
    }
   },
   "source": [
    "The [Python Tutorial](http://docs.python.org/2/tutorial/introduction.html#using-python-as-a-calculator) has more on using Python as an interactive shell. The [IPython tutorial](http://ipython.org/ipython-doc/dev/interactive/tutorial.html) makes a nice complement to this, since IPython has a much more sophisticated iteractive shell."
   ]
  },
  {
   "cell_type": "markdown",
   "id": "7fe84ce5-100c-4940-af5e-ba3f933c3d83",
   "metadata": {
    "colab_type": "text",
    "id": "kulUahTLAb9L",
    "slideshow": {
     "slide_type": "slide"
    }
   },
   "source": [
    "---\n",
    "## 1.2. Strings\n",
    "<a id=\"1.2\">"
   ]
  },
  {
   "cell_type": "markdown",
   "id": "d932122f-e1d0-475d-a44f-aa386182f309",
   "metadata": {},
   "source": [
    "Strings are lists of printable characters, and can be defined using either single quotes"
   ]
  },
  {
   "cell_type": "code",
   "execution_count": 15,
   "id": "c456373f-3e01-49f4-bc1f-f84066464257",
   "metadata": {
    "colab": {},
    "colab_type": "code",
    "id": "Huiims_YAb9N",
    "outputId": "7a8cbb3c-5f06-4323-bce5-66fe9e6bb947",
    "slideshow": {
     "slide_type": "subslide"
    }
   },
   "outputs": [
    {
     "data": {
      "text/plain": [
       "'Hello, Maastricht!'"
      ]
     },
     "execution_count": 15,
     "metadata": {},
     "output_type": "execute_result"
    }
   ],
   "source": [
    "'Hello, Maastricht!'"
   ]
  },
  {
   "cell_type": "markdown",
   "id": "c2f7d1e2-a0f8-47a7-80ef-eef80158c5c4",
   "metadata": {
    "colab_type": "text",
    "id": "mRHhfDDwAb9S",
    "slideshow": {
     "slide_type": "fragment"
    }
   },
   "source": [
    "or double quotes"
   ]
  },
  {
   "cell_type": "code",
   "execution_count": 16,
   "id": "09528545-5145-4017-839c-4f9bbc336210",
   "metadata": {
    "colab": {},
    "colab_type": "code",
    "id": "kp8ZeljaAb9T",
    "outputId": "05bdb5af-d21b-439d-a548-ea11a28cae33",
    "slideshow": {
     "slide_type": "fragment"
    }
   },
   "outputs": [
    {
     "data": {
      "text/plain": [
       "'Hello, Maastricht!'"
      ]
     },
     "execution_count": 16,
     "metadata": {},
     "output_type": "execute_result"
    }
   ],
   "source": [
    "\"Hello, Maastricht!\""
   ]
  },
  {
   "cell_type": "markdown",
   "id": "7e9e7a7c-ed76-456a-a57f-9a993c85af78",
   "metadata": {
    "colab_type": "text",
    "id": "LPzF8gYSAb9Y",
    "slideshow": {
     "slide_type": "fragment"
    }
   },
   "source": [
    "But not both at the same time, unless you want one of the symbols to be part of the string."
   ]
  },
  {
   "cell_type": "code",
   "execution_count": 17,
   "id": "8396ac4e-619f-4623-845d-fc8794edbf7c",
   "metadata": {
    "colab": {},
    "colab_type": "code",
    "id": "7MSFeRxfAb9a",
    "outputId": "3990467c-2f4b-402e-8424-69bdaab25382",
    "slideshow": {
     "slide_type": "fragment"
    }
   },
   "outputs": [
    {
     "data": {
      "text/plain": [
       "\"She's a Researcher\""
      ]
     },
     "execution_count": 17,
     "metadata": {},
     "output_type": "execute_result"
    }
   ],
   "source": [
    "\"She's a Researcher\""
   ]
  },
  {
   "cell_type": "code",
   "execution_count": 18,
   "id": "93b59396-0ec6-494b-b386-c63efce69d2d",
   "metadata": {
    "colab": {},
    "colab_type": "code",
    "id": "v4nmD3wHAb9j",
    "outputId": "29c2e1d3-a1cc-4e31-98be-fad9956c8324",
    "slideshow": {
     "slide_type": "subslide"
    }
   },
   "outputs": [
    {
     "data": {
      "text/plain": [
       "'She asked, \"How are you today?\"'"
      ]
     },
     "execution_count": 18,
     "metadata": {},
     "output_type": "execute_result"
    }
   ],
   "source": [
    "'She asked, \"How are you today?\"'"
   ]
  },
  {
   "cell_type": "markdown",
   "id": "0586f403-68d8-42c2-af26-058c824a8858",
   "metadata": {
    "colab_type": "text",
    "id": "Z_Uw1mYwAb9p",
    "slideshow": {
     "slide_type": "fragment"
    }
   },
   "source": [
    "Just like the other two data objects we're familiar with (ints and floats), you can assign a string to a variable"
   ]
  },
  {
   "cell_type": "code",
   "execution_count": 19,
   "id": "ea9ad30b-62f2-4962-85f9-6114735f63d2",
   "metadata": {
    "colab": {},
    "colab_type": "code",
    "id": "2SiuAI-FAb9q",
    "slideshow": {
     "slide_type": "fragment"
    }
   },
   "outputs": [],
   "source": [
    "greeting = \"Hello, Maastricht! \""
   ]
  },
  {
   "cell_type": "code",
   "execution_count": 20,
   "id": "e489ede3-260f-44e1-b2a8-88f10b30329e",
   "metadata": {},
   "outputs": [],
   "source": [
    "subject = \"She's a Researcher\""
   ]
  },
  {
   "cell_type": "markdown",
   "id": "1057c50f-4ef8-410b-ad00-2929fec22f1e",
   "metadata": {
    "colab_type": "text",
    "id": "lSwbMY9bAb91",
    "slideshow": {
     "slide_type": "subslide"
    }
   },
   "source": [
    "The **print** statement is often used for printing character strings:"
   ]
  },
  {
   "cell_type": "code",
   "execution_count": 21,
   "id": "7e05eea7-0194-487b-864c-c1d28f3a3ec0",
   "metadata": {},
   "outputs": [
    {
     "name": "stdout",
     "output_type": "stream",
     "text": [
      "Hello, Maastricht! She's a Researcher\n"
     ]
    }
   ],
   "source": [
    "example_text = greeting + subject\n",
    "\n",
    "print(example_text)"
   ]
  },
  {
   "cell_type": "code",
   "execution_count": 22,
   "id": "42c5f000-74f4-4e90-9cfd-164b2bb5b2bf",
   "metadata": {},
   "outputs": [
    {
     "data": {
      "text/plain": [
       "str"
      ]
     },
     "execution_count": 22,
     "metadata": {},
     "output_type": "execute_result"
    }
   ],
   "source": [
    "type(example_text)"
   ]
  },
  {
   "cell_type": "markdown",
   "id": "80c2a6f2-2b68-473e-a072-8f1dbb010a1e",
   "metadata": {},
   "source": [
    "Use an index to get a single character from a string.\n",
    "* The characters (individual letters, numbers) in a string are order. We can then treat the string as a list of characters.\n",
    "* Each position in the string is given a number called **index**.\n",
    "* Indices are numbered from 0.\n",
    "* Use the position's index in sqaure brackets to get the character at that position.\n",
    "\n",
    "![](https://swcarpentry.github.io/python-novice-gapminder/fig/2_indexing.svg)"
   ]
  },
  {
   "cell_type": "code",
   "execution_count": 23,
   "id": "521b7cce-dfba-4430-a521-864ffdfa04a6",
   "metadata": {},
   "outputs": [
    {
     "name": "stdout",
     "output_type": "stream",
     "text": [
      "h\n"
     ]
    }
   ],
   "source": [
    "# assign variable \n",
    "atom_name = \"helium\"\n",
    "\n",
    "#print index 0 position\n",
    "print(atom_name[0])"
   ]
  },
  {
   "cell_type": "markdown",
   "id": "eb10ece8-0e5a-43ae-b461-85c09b7c147c",
   "metadata": {},
   "source": [
    "Use a slice to get a substring\n",
    "\n",
    "* A part of a string is called a substring. A substring can be as short as a single character.\n",
    "* An item in a list is called an element. Whenever we treat a string as if it were a list, the string’s elements are its individual characters.\n",
    "* A slice is a part of a string.\n",
    "* We take a slice by using `[start:stop]`, where `start` is replaced with the index of the first element we want and `stop` is replaced with the index of the element just after the last element we want."
   ]
  },
  {
   "cell_type": "code",
   "execution_count": 24,
   "id": "ea2a9b06-1c1f-4cf0-b07b-f727987d694c",
   "metadata": {},
   "outputs": [
    {
     "name": "stdout",
     "output_type": "stream",
     "text": [
      "Hello\n"
     ]
    }
   ],
   "source": [
    "# print name and substring first 3 characters\n",
    "print(example_text[0:5])"
   ]
  },
  {
   "cell_type": "markdown",
   "id": "c34818a2-7793-49f3-9cb3-58349c7375ae",
   "metadata": {
    "colab_type": "text",
    "id": "ZcYHD_MIAb-B",
    "slideshow": {
     "slide_type": "fragment"
    }
   },
   "source": [
    "But it can also print data types, separating by commas:"
   ]
  },
  {
   "cell_type": "code",
   "execution_count": 25,
   "id": "1e2f2f00-f88d-4447-b389-4b288d9152f5",
   "metadata": {
    "colab": {},
    "colab_type": "code",
    "id": "y6wDWu7JAb-D",
    "outputId": "d948e850-409c-47fb-9422-726c918fc443",
    "scrolled": true,
    "slideshow": {
     "slide_type": "fragment"
    },
    "tags": []
   },
   "outputs": [
    {
     "name": "stdout",
     "output_type": "stream",
     "text": [
      "The area is  600 6000 10 20 Hello, Maastricht! She's a Researcher\n"
     ]
    }
   ],
   "source": [
    "print (\"The area is \",area, volume, 10, 5*4, example_text)"
   ]
  },
  {
   "cell_type": "markdown",
   "id": "ffab1d3c-7a86-4847-bf32-17413e444d59",
   "metadata": {
    "slideshow": {
     "slide_type": "subslide"
    }
   },
   "source": [
    "Also possible with the format method"
   ]
  },
  {
   "cell_type": "code",
   "execution_count": 26,
   "id": "eed8e063-cf58-40e9-a221-c237a2b3cd21",
   "metadata": {
    "slideshow": {
     "slide_type": "fragment"
    }
   },
   "outputs": [
    {
     "name": "stdout",
     "output_type": "stream",
     "text": [
      "The area is 600 and volume is 6000\n"
     ]
    }
   ],
   "source": [
    "print (\"The area is {} and volume is {}\".format(area, volume))"
   ]
  },
  {
   "cell_type": "markdown",
   "id": "834316b0-42c7-477f-88b7-525b9348e8f5",
   "metadata": {
    "colab_type": "text",
    "id": "GwpU8t5cAb-H",
    "slideshow": {
     "slide_type": "subslide"
    }
   },
   "source": [
    "In the above snipped, the number 600 (stored in the variable \"area\") is converted into a string before being printed out."
   ]
  },
  {
   "cell_type": "markdown",
   "id": "2864c6a1-b541-4fc2-aa45-d3c3a474aaff",
   "metadata": {
    "colab_type": "text",
    "id": "S0m9ab-CAb-b",
    "slideshow": {
     "slide_type": "fragment"
    }
   },
   "source": [
    "If you have a lot of words to concatenate together, there are other, more efficient ways to do this. But this is fine for linking a few strings together."
   ]
  },
  {
   "cell_type": "code",
   "execution_count": 27,
   "id": "87b913e5-4c7d-4614-a3b4-e5bda94c59f1",
   "metadata": {
    "slideshow": {
     "slide_type": "fragment"
    }
   },
   "outputs": [
    {
     "data": {
      "text/plain": [
       "37"
      ]
     },
     "execution_count": 27,
     "metadata": {},
     "output_type": "execute_result"
    }
   ],
   "source": [
    "# Number of characters in the text\n",
    "len(example_text) "
   ]
  },
  {
   "cell_type": "markdown",
   "id": "f22c622d-99c7-4f3f-b01d-b69e85a785aa",
   "metadata": {},
   "source": [
    "Use `split` method to get the individual words"
   ]
  },
  {
   "cell_type": "code",
   "execution_count": 28,
   "id": "392f816a-1d6e-45f3-8a0d-0b0e704a6a8a",
   "metadata": {
    "slideshow": {
     "slide_type": "fragment"
    }
   },
   "outputs": [],
   "source": [
    "split_text = example_text.split(' ') # Return a list of the words in text2, separating by ' '."
   ]
  },
  {
   "cell_type": "code",
   "execution_count": 29,
   "id": "c106569b-b5aa-43a8-875b-5d57e532300c",
   "metadata": {},
   "outputs": [
    {
     "name": "stdout",
     "output_type": "stream",
     "text": [
      "['Hello,', 'Maastricht!', \"She's\", 'a', 'Researcher']\n"
     ]
    }
   ],
   "source": [
    "print(split_text)"
   ]
  },
  {
   "cell_type": "code",
   "execution_count": 30,
   "id": "a1736e1e-c282-4643-8021-72208d7aac06",
   "metadata": {
    "slideshow": {
     "slide_type": "fragment"
    }
   },
   "outputs": [
    {
     "data": {
      "text/plain": [
       "5"
      ]
     },
     "execution_count": 30,
     "metadata": {},
     "output_type": "execute_result"
    }
   ],
   "source": [
    "len(split_text)"
   ]
  },
  {
   "cell_type": "markdown",
   "id": "30daf9c4-113a-482b-8219-106f7c85b834",
   "metadata": {
    "slideshow": {
     "slide_type": "subslide"
    }
   },
   "source": [
    "More advanced functionalities allow us to find different type of words"
   ]
  },
  {
   "cell_type": "code",
   "execution_count": 31,
   "id": "480e4d12-46b7-40f8-8093-51dfafced86d",
   "metadata": {
    "slideshow": {
     "slide_type": "fragment"
    }
   },
   "outputs": [
    {
     "data": {
      "text/plain": [
       "[\"She's\", 'a']"
      ]
     },
     "execution_count": 31,
     "metadata": {},
     "output_type": "execute_result"
    }
   ],
   "source": [
    "[w for w in split_text if len(w) < 6] # Words that are greater than 3 characteres long in text2"
   ]
  },
  {
   "cell_type": "code",
   "execution_count": 32,
   "id": "e8515990-cb30-40bb-b123-d7951371291b",
   "metadata": {
    "slideshow": {
     "slide_type": "fragment"
    }
   },
   "outputs": [
    {
     "data": {
      "text/plain": [
       "['Hello,', 'Maastricht!', 'Researcher']"
      ]
     },
     "execution_count": 32,
     "metadata": {},
     "output_type": "execute_result"
    }
   ],
   "source": [
    "[w for w in split_text if w.istitle()] # Capitalized words in text2"
   ]
  },
  {
   "cell_type": "code",
   "execution_count": 33,
   "id": "1e2388bf-47d3-47b8-98fc-e1414b4ffc2c",
   "metadata": {
    "slideshow": {
     "slide_type": "fragment"
    }
   },
   "outputs": [
    {
     "data": {
      "text/plain": [
       "['Maastricht!']"
      ]
     },
     "execution_count": 33,
     "metadata": {},
     "output_type": "execute_result"
    }
   ],
   "source": [
    "[w for w in split_text if w.endswith('!')] # Words in text2 that end in 's'"
   ]
  },
  {
   "cell_type": "markdown",
   "id": "7ba3a491-4aa5-4821-81dc-d79f7a285e8d",
   "metadata": {},
   "source": [
    "All the string tricks could be used for:\n",
    "- Data cleaning of clinical records\n",
    "- Text analysis on policy documents\n",
    "- Data analysis of gene sequence\n",
    "- ...etc."
   ]
  },
  {
   "cell_type": "markdown",
   "id": "3bc6f2d4-6e18-4acd-af38-162fed583ed3",
   "metadata": {
    "colab_type": "text",
    "id": "yMQu5I9tAb-b",
    "slideshow": {
     "slide_type": "slide"
    }
   },
   "source": [
    "---\n",
    "## 1.3. Lists\n",
    "<a id=\"1.3\">"
   ]
  },
  {
   "cell_type": "markdown",
   "id": "cb60fa44-64e9-445f-9a79-e9349b5b92d5",
   "metadata": {},
   "source": [
    "Very often in a programming language, one wants to keep a group of similar items together. \n",
    "The object we used in the above example is a Python data type called **lists**."
   ]
  },
  {
   "cell_type": "code",
   "execution_count": 34,
   "id": "2cfd7312-154d-45b8-bdbf-bf0ead53c8d9",
   "metadata": {
    "colab": {},
    "colab_type": "code",
    "id": "pzg8302wAb-d",
    "slideshow": {
     "slide_type": "subslide"
    }
   },
   "outputs": [],
   "source": [
    "days_of_the_week = [\"Sunday\",\"Monday\",\"Tuesday\",\"Wednesday\",\"Thursday\",\"Friday\",\"Saturday\"]"
   ]
  },
  {
   "cell_type": "code",
   "execution_count": 35,
   "id": "c2475718-6e03-4430-8712-cba32629c9d3",
   "metadata": {},
   "outputs": [
    {
     "data": {
      "text/plain": [
       "list"
      ]
     },
     "execution_count": 35,
     "metadata": {},
     "output_type": "execute_result"
    }
   ],
   "source": [
    "type(days_of_the_week)"
   ]
  },
  {
   "cell_type": "markdown",
   "id": "4b90fdfd-7ce7-4156-bc01-4bfe20523ce3",
   "metadata": {
    "colab_type": "text",
    "id": "dI9XtQmKAb-f",
    "slideshow": {
     "slide_type": "subslide"
    }
   },
   "source": [
    "You can access members of the list using the **index** of that item:"
   ]
  },
  {
   "cell_type": "code",
   "execution_count": 36,
   "id": "ad2f94d0-26ea-4c4f-a916-ee3950b1f078",
   "metadata": {
    "colab": {},
    "colab_type": "code",
    "id": "wGoMBXo5Ab-h",
    "outputId": "7b4bc91f-d994-4028-d61b-6861f41af59c",
    "slideshow": {
     "slide_type": "fragment"
    }
   },
   "outputs": [
    {
     "data": {
      "text/plain": [
       "'u'"
      ]
     },
     "execution_count": 36,
     "metadata": {},
     "output_type": "execute_result"
    }
   ],
   "source": [
    "# Index the 3rd element of the list, then\n",
    "# index the 2nd element of the word\n",
    "days_of_the_week[2][1]"
   ]
  },
  {
   "cell_type": "markdown",
   "id": "9e73ef4d-5bec-4bf6-8ba1-23059fe45e6a",
   "metadata": {
    "colab_type": "text",
    "id": "Eri-ct7dAb-p",
    "slideshow": {
     "slide_type": "subslide"
    }
   },
   "source": [
    "Python lists, like C, but unlike Fortran, use 0 as the index of the first element of a list. Thus, in this example, the 0 element is \"Sunday\", 1 is \"Monday\", and so on. If you need to access the *n*th element from the end of the list, you can use a negative index. For example, the -1 element of a list is the last element:"
   ]
  },
  {
   "cell_type": "code",
   "execution_count": 37,
   "id": "ba540ae9-1c47-4f49-8bf7-537851a978d8",
   "metadata": {
    "colab": {},
    "colab_type": "code",
    "id": "z43N5fr0Ab-q",
    "outputId": "6765c075-25f7-4df5-aae3-ebe1b30934bc",
    "slideshow": {
     "slide_type": "fragment"
    }
   },
   "outputs": [
    {
     "name": "stdout",
     "output_type": "stream",
     "text": [
      "True\n"
     ]
    }
   ],
   "source": [
    "print(days_of_the_week[-2] == days_of_the_week[5])"
   ]
  },
  {
   "cell_type": "markdown",
   "id": "83f8c479-bec1-489e-bd05-19b25518cea0",
   "metadata": {
    "colab_type": "text",
    "id": "ddUWA0M6Ab-y",
    "slideshow": {
     "slide_type": "subslide"
    }
   },
   "source": [
    "You can add additional items to the list using the .append() command:"
   ]
  },
  {
   "cell_type": "code",
   "execution_count": 38,
   "id": "a560295e-4b81-4fbc-aa4a-aa7a8d6db6a1",
   "metadata": {
    "colab": {},
    "colab_type": "code",
    "id": "idqtd2BvAb-0",
    "outputId": "863b8152-109e-4a04-fa32-e31d64a131b0",
    "slideshow": {
     "slide_type": "fragment"
    }
   },
   "outputs": [
    {
     "name": "stdout",
     "output_type": "stream",
     "text": [
      "['Java', 'R', 'C++', 'Python']\n"
     ]
    }
   ],
   "source": [
    "# set a list of elements\n",
    "languages = [\"Java\",\"R\",\"C++\"]\n",
    "\n",
    "# append a new element\n",
    "languages.append(\"Python\")\n",
    "\n",
    "# print the object \n",
    "print(languages)"
   ]
  },
  {
   "cell_type": "markdown",
   "id": "faa22530-3799-4c84-9d25-f5b70de579b5",
   "metadata": {},
   "source": [
    "We could remove an element"
   ]
  },
  {
   "cell_type": "code",
   "execution_count": 39,
   "id": "a881169d-8c2c-4ade-9ed2-49094cd5a13a",
   "metadata": {},
   "outputs": [],
   "source": [
    "languages.remove('Java')"
   ]
  },
  {
   "cell_type": "code",
   "execution_count": 40,
   "id": "ff3ff405-0669-4df4-8de2-5d0d35dec9eb",
   "metadata": {},
   "outputs": [
    {
     "data": {
      "text/plain": [
       "['R', 'C++', 'Python']"
      ]
     },
     "execution_count": 40,
     "metadata": {},
     "output_type": "execute_result"
    }
   ],
   "source": [
    "languages"
   ]
  },
  {
   "cell_type": "code",
   "execution_count": 41,
   "id": "092bf243-6412-450b-9f27-9ee51b283ca0",
   "metadata": {},
   "outputs": [],
   "source": [
    "del languages[-2]"
   ]
  },
  {
   "cell_type": "code",
   "execution_count": 42,
   "id": "40dc24bf-5de4-46b0-b2ae-d9e3b0a06a6d",
   "metadata": {},
   "outputs": [
    {
     "data": {
      "text/plain": [
       "['R', 'Python']"
      ]
     },
     "execution_count": 42,
     "metadata": {},
     "output_type": "execute_result"
    }
   ],
   "source": [
    "languages"
   ]
  },
  {
   "cell_type": "markdown",
   "id": "bcb08e36-39b2-4c4a-a084-370f677c046d",
   "metadata": {
    "colab_type": "text",
    "id": "2Lv4FI26Ab-3",
    "slideshow": {
     "slide_type": "subslide"
    }
   },
   "source": [
    "The **range()** command is a convenient way to make sequential lists of numbers:"
   ]
  },
  {
   "cell_type": "code",
   "execution_count": 43,
   "id": "2d8d3cfb-2598-4e6f-8293-b778cb6e4d87",
   "metadata": {
    "colab": {},
    "colab_type": "code",
    "id": "fyMOAO2qAb-5",
    "outputId": "4ea654e3-4a3e-4799-fca2-e2b8068b9b4c",
    "slideshow": {
     "slide_type": "fragment"
    }
   },
   "outputs": [
    {
     "data": {
      "text/plain": [
       "range(0, 10)"
      ]
     },
     "execution_count": 43,
     "metadata": {},
     "output_type": "execute_result"
    }
   ],
   "source": [
    "range(10)"
   ]
  },
  {
   "cell_type": "markdown",
   "id": "7947d155-2180-48e3-8175-ec44c042a07a",
   "metadata": {
    "colab_type": "text",
    "id": "7NyvFawCAb_A",
    "slideshow": {
     "slide_type": "subslide"
    }
   },
   "source": [
    "Note that range(n) starts at 0 and gives the sequential list of integers less than n. If you want to start at a different number, use range(start,stop)"
   ]
  },
  {
   "cell_type": "code",
   "execution_count": 44,
   "id": "37765e6e-9a7c-454b-bcf9-de638100c143",
   "metadata": {
    "colab": {},
    "colab_type": "code",
    "id": "47LT5hnEAb_E",
    "outputId": "fc859aea-0f1e-4d3a-e592-24a5a15062f8",
    "slideshow": {
     "slide_type": "fragment"
    }
   },
   "outputs": [
    {
     "data": {
      "text/plain": [
       "[2, 3, 4, 5, 6, 7]"
      ]
     },
     "execution_count": 44,
     "metadata": {},
     "output_type": "execute_result"
    }
   ],
   "source": [
    "list(range(2,8))"
   ]
  },
  {
   "cell_type": "markdown",
   "id": "53d92516-1ca4-46af-8276-960af41f00d9",
   "metadata": {
    "colab_type": "text",
    "id": "YbK6hGlkAb_T",
    "slideshow": {
     "slide_type": "subslide"
    }
   },
   "source": [
    "Lists do not have to hold the same data type. For example,"
   ]
  },
  {
   "cell_type": "code",
   "execution_count": 45,
   "id": "9ac0da8b-2ff2-4ae6-a496-bc6086c4bd74",
   "metadata": {
    "colab": {},
    "colab_type": "code",
    "id": "Xicvkk-5Ab_U",
    "outputId": "ca2a0b0e-c82f-4f9f-dea2-f32bb309c5e2",
    "scrolled": true,
    "slideshow": {
     "slide_type": "fragment"
    }
   },
   "outputs": [
    {
     "data": {
      "text/plain": [
       "['Today',\n",
       " 7,\n",
       " 99.3,\n",
       " '',\n",
       " ['R', 'Python'],\n",
       " ['Sunday',\n",
       "  'Monday',\n",
       "  'Tuesday',\n",
       "  'Wednesday',\n",
       "  'Thursday',\n",
       "  'Friday',\n",
       "  'Saturday']]"
      ]
     },
     "execution_count": 45,
     "metadata": {},
     "output_type": "execute_result"
    }
   ],
   "source": [
    "[\"Today\",7,99.3,\"\", languages, days_of_the_week]"
   ]
  },
  {
   "cell_type": "markdown",
   "id": "936156be-34b4-49e3-8cee-1c7df2d2feb9",
   "metadata": {
    "colab_type": "text",
    "id": "OiDYjVgLAb_f",
    "slideshow": {
     "slide_type": "subslide"
    }
   },
   "source": [
    "However, it's good (but not essential) to use lists for similar objects that are somehow logically connected. If you want to group different data types together into a composite data object, it's best to use **tuples**, which we will learn about below.\n",
    "\n",
    "You can find out how long a list is using the **len()** command:"
   ]
  },
  {
   "cell_type": "code",
   "execution_count": 46,
   "id": "21e8a3d6-38d4-49d0-899b-f9bca6c92d24",
   "metadata": {
    "colab": {},
    "colab_type": "code",
    "id": "vCCveO2YAb_g",
    "outputId": "c959cdee-9cc9-47f7-ae49-beb4b5a926ec",
    "slideshow": {
     "slide_type": "fragment"
    }
   },
   "outputs": [
    {
     "name": "stdout",
     "output_type": "stream",
     "text": [
      "Help on built-in function len in module builtins:\n",
      "\n",
      "len(obj, /)\n",
      "    Return the number of items in a container.\n",
      "\n"
     ]
    }
   ],
   "source": [
    "help(len)"
   ]
  },
  {
   "cell_type": "markdown",
   "id": "261e2331-4b0d-451c-ad3c-b67dfc368abe",
   "metadata": {
    "colab_type": "text",
    "id": "Nlekb7LAAb_t",
    "slideshow": {
     "slide_type": "slide"
    }
   },
   "source": [
    "- Iteration in Python  \n",
    "One of the most useful things you can do with lists is to *iterate* through them, i.e. to go through each element one at a time. To do this in Python, we use the **for** statement:"
   ]
  },
  {
   "cell_type": "code",
   "execution_count": 47,
   "id": "7292da74-8d19-44dd-816c-33302a6d3e58",
   "metadata": {
    "colab": {},
    "colab_type": "code",
    "id": "YPF9ceOVAb_u",
    "outputId": "e12f58e5-aea5-4795-ee96-96640e35e632",
    "slideshow": {
     "slide_type": "subslide"
    }
   },
   "outputs": [
    {
     "name": "stdout",
     "output_type": "stream",
     "text": [
      "Sunday\n",
      "Monday\n",
      "Tuesday\n",
      "Wednesday\n",
      "Thursday\n",
      "Friday\n",
      "Saturday\n"
     ]
    }
   ],
   "source": [
    "for day in days_of_the_week:\n",
    "    print (day)"
   ]
  },
  {
   "cell_type": "markdown",
   "id": "ef4267d9-ac7b-4bd9-b3ab-c75676357ade",
   "metadata": {
    "colab_type": "text",
    "id": "J5o00lxFAb_x",
    "slideshow": {
     "slide_type": "subslide"
    }
   },
   "source": [
    "This code snippet goes through each element of the list called **days_of_the_week** and assigns it to the variable **day**. It then executes everything in the indented block (in this case only one line of code, the print statement) using those variable assignments. When the program has gone through every element of the list, it exists the block.\n",
    "\n",
    "(Almost) every programming language defines blocks of code in some way. In Fortran, one uses END statements (ENDDO, ENDIF, etc.) to define code blocks. In C, C++, and Perl, one uses curly braces {} to define these blocks.\n",
    "\n",
    "Python uses a colon (\":\"), followed by indentation level to define code blocks. Everything at a higher level of indentation is taken to be in the same block. In the above example the block was only a single line, but we could have had longer blocks as well:"
   ]
  },
  {
   "cell_type": "markdown",
   "id": "650c494b-fbdd-4b87-a495-6a2d20df1d7f",
   "metadata": {},
   "source": [
    "---"
   ]
  },
  {
   "cell_type": "markdown",
   "id": "a0f5c6a2-2e0a-4a15-9299-7b97974faa03",
   "metadata": {},
   "source": [
    "#### <i style=\"color:red\">**EXERCISES - **</i>"
   ]
  },
  {
   "cell_type": "markdown",
   "id": "4e5d83e4-2c06-4d8e-b346-a2e5732f294d",
   "metadata": {},
   "source": [
    "+ _1. If you assign `a = 123`, what happens if you try to get the second digit of `a` via index `a[1]`?_\n",
    "___"
   ]
  },
  {
   "cell_type": "markdown",
   "id": "0b4e443d-3888-4b5d-8553-8a143093456b",
   "metadata": {},
   "source": [
    "+ _2. Which is a better variable name, m, min, or minutes? Why?   \n",
    "Hint: think about which code you would rather inherit from someone who is leaving the lab:_\n",
    "\n",
    "```python\n",
    "1. ts = m * 60 + s\n",
    "2. tot_sec = min * 60 + sec\n",
    "3. total_seconds = minutes * 60 + seconds\n",
    "```\n",
    "___"
   ]
  },
  {
   "cell_type": "markdown",
   "id": "bee2bb94-de0b-42d6-a097-fe3cec49e860",
   "metadata": {},
   "source": [
    "+ _3. What do you think is the error in the code and how would you fix it\n",
    "\n",
    "```python\n",
    "atom_name = 'carbon'\n",
    "print('atom_name[1:3] is', atom_name[1:3])\n",
    "```\n",
    "___"
   ]
  },
  {
   "cell_type": "markdown",
   "id": "3683e806-743d-4b8f-8802-671a6f6032d7",
   "metadata": {},
   "source": [
    "+ _3. What type of value (integer, floating point number, or character string) would you use to represent each of the following? \n",
    "Try to come up with more than one good answer for each problem. For example, in # 1, when would counting days with a floating point variable make more sense than using an integer?_\n",
    "\n",
    "1. Number of days since the start of the year.\n",
    "2. Serial number of a piece of lab equipment.\n",
    "3. A lab specimen’s age\n",
    "4. Current population of a city.\n",
    "5. Average population of a city over time.\n",
    "\n",
    "---"
   ]
  },
  {
   "cell_type": "markdown",
   "id": "fcb14e9b-984e-4ee1-b258-26b21a7766b3",
   "metadata": {},
   "source": [
    "+ _4. Which of the following will return the floating point number 2.0? Note: there may be more than one right answer._\n",
    "\n",
    "```python\n",
    "1. first + float(second)\n",
    "2. float(second) + float(third)\n",
    "3. first + int(third)\n",
    "4. first + int(float(third))\n",
    "5. int(first) + int(float(third))\n",
    "6. 2.0 * second\n",
    "```\n",
    "---"
   ]
  },
  {
   "cell_type": "markdown",
   "id": "5969d2fc-d107-42fe-a764-fb38f70b4c0b",
   "metadata": {},
   "source": [
    "+ _5. You want to select a random character from a string_\n",
    "```python\n",
    "bases = 'ACTTGCTTGAC'\n",
    "```\n",
    "\n",
    "    + _2.1. Which [standard library](https://docs.python.org/3/library/) module could hep you?_\n",
    "\n",
    "    + _2.2. Which function would you select from that module? \n",
    "\n",
    "    + _2.3. Try to write a program that uses the function._\n",
    "___"
   ]
  },
  {
   "cell_type": "markdown",
   "id": "0f530bfd-61fb-4c7a-9012-76c0c0f7dec0",
   "metadata": {},
   "source": [
    "+ _6. When a colleague of yours types help(math), Python reports an error:_\n",
    "\n",
    "```python\n",
    "NameError: name `math` is not defined\n",
    "```\n",
    "    How would you help her?\n",
    "   \n",
    "---"
   ]
  },
  {
   "cell_type": "markdown",
   "id": "bc37f6b7-2f59-4e5c-a9e9-d55e4c85d5b2",
   "metadata": {},
   "source": [
    "+ _7. Given the following:_\n",
    "\n",
    "```python\n",
    "print('string to list:', list('silver'))\n",
    "print('list to string:', ''.join(['g', 'o', 'l', 'd']))\n",
    "```\n",
    "\n",
    "\n",
    "+ What does `list('some string') do?_\n",
    "\n",
    "+ What does `'-'.join(['x', 'y', 'z'])` generate?_\n",
    "___"
   ]
  },
  {
   "cell_type": "markdown",
   "id": "0ae8c53a-598d-47fc-bc6a-9bd344d696ba",
   "metadata": {},
   "source": [
    "+ _8. How many words are in the following text? Use Python to find out:_\n",
    "\n",
    "\n",
    "```Python \n",
    "The future is in Maastricht:\n",
    "UM multidisciplinary collaborations contribute to solving major societal issues within our primary research themes. We develop new methods to make plastics from organic materials, but we also conduct research into migration, and look into methods to get more people interested taking the necessary financial preparations for their retirement. Whenever possible, UM research is translated into economic, financial, or social value. UM participates in centres of excellence, both technological and social, to allow scientific discoveries to be swiftly converted into practical applications. What is more, research is integrated into education at every level. Our educational method, Problem-Based Learning, lays the groundwork for students to embrace research and the scientific method from the very first day of their studies.\n",
    "```"
   ]
  },
  {
   "cell_type": "markdown",
   "id": "25f6eafe-3778-4d10-8932-21478cb18d6c",
   "metadata": {
    "slideshow": {
     "slide_type": "-"
    }
   },
   "source": [
    "---\n",
    "# 2. Pandas Fundamentals\n",
    "* [2.1. Dealing with different data sources](#2.1)\n",
    "* [2.2. Data structures](#2.2)\n",
    "\n",
    "---"
   ]
  },
  {
   "cell_type": "markdown",
   "id": "09ac5917-404c-475c-acce-47a7505acac3",
   "metadata": {},
   "source": [
    "![](http://warscapes.com/sites/default/files/assam_1.png)\n",
    "\n",
    "## A research use case\n",
    "\n",
    "#### Insurgency-Civilian Relations & EU Policy\n",
    "\n",
    "- International Relations, Peace and Policy Studies\n",
    "- PhD proposal, S. Roerigh 2020\n",
    "- Understand patterns in international relations and to make effective policies and strategic decisions.\n",
    "- Normally: \n",
    "    - is studied the social order, and\n",
    "    - lived experiences of civilians living under rebel rule\n",
    "- Proposed:\n",
    "    - how and when such factors are perceived, discussed and considered in third party policy decisions\n",
    "    - what impact third party policy decisions have on rebel-civilian relations. \n",
    "- It contributes to a critical perspective and discussion on the motivations, interests, effectiveness, of third party policymakers"
   ]
  },
  {
   "cell_type": "markdown",
   "id": "71495344-af36-449b-90ef-3ee68f479c75",
   "metadata": {},
   "source": [
    "---\n",
    "## 2.1. Dealing with different data sources\n",
    "<a id=\"2.1\">"
   ]
  },
  {
   "cell_type": "markdown",
   "id": "9b47a930-de1b-4092-a3be-24708416949d",
   "metadata": {
    "id": "zNLTL18adQ-Q"
   },
   "source": [
    "* Pandas is widely-used Python library for handling data, particularly on tabular data.\n",
    "* Borrows many features from R's dataframes:\n",
    "  - Two dimensional table whose columns have names and potentially have different type of data types/\n",
    "* Load it with `import pandas as pd`. The alias pd is commonly used for Pandas.\n",
    "* Pandas is able to handle virtually any kind of formats\n",
    "\n",
    "![](https://pandas.pydata.org/docs/_images/02_io_readwrite.svg)"
   ]
  },
  {
   "cell_type": "code",
   "execution_count": 1,
   "id": "6b31631b-1ced-4859-8b85-221d16f8f66e",
   "metadata": {},
   "outputs": [],
   "source": [
    "import pandas as pd"
   ]
  },
  {
   "cell_type": "code",
   "execution_count": 2,
   "id": "5188a81e-5ab7-4592-8589-c17ed9243244",
   "metadata": {
    "colab": {
     "base_uri": "https://localhost:8080/"
    },
    "id": "G6A8J_Lhctt5",
    "outputId": "cc725b62-d6ab-418f-85e0-a265cd687ea9"
   },
   "outputs": [],
   "source": [
    "path = '../data/'"
   ]
  },
  {
   "cell_type": "markdown",
   "id": "9ea3e481-f71a-494e-9d08-f640cd250063",
   "metadata": {
    "id": "2rx6etPweG7o"
   },
   "source": [
    "* The columns in a dataframe are the observed variables, and the rows are the observations.\n",
    "* Pandas uses backslash `\\` to show wrapped lines when output is too wide to fit the screen.\n",
    "\n",
    "**File Not Found:**\n",
    "\n",
    "> Our lessons store their data files in a `data` sub-directory, which is why the path to the file is `data/...csv`. If you formet to include `data/` or if you include it but your cope of the file is somewhere else, you will bet a runtime error that ends with a line like this:\n",
    "\n",
    "`ERROR`: _OSError: File b'gapminder_gdp_oceania.csv' does not exist_"
   ]
  },
  {
   "cell_type": "markdown",
   "id": "7d0cbc63-2dd6-4f4c-b8df-c20e17f9c160",
   "metadata": {},
   "source": [
    "#### Reputation of Terror Groups (RTG) Dataset\n",
    "Description: The dataset contains all domestic terrorist groups, which defined in Enders et al. (2011) and based on Global Terrorism Database, with more than 5 terrorist attacks from 1980 to 2011. The data is in group name - year format. The data codes terrorist groups' actions which can build reputation among constituency and out-group. Researchers can found originally coded variables in regard to building positive and negative reputation among the audience as well as existing group level variables.\n",
    "\n",
    "[Link to data](http://www.efetokdemir.com/data.html)"
   ]
  },
  {
   "cell_type": "code",
   "execution_count": 3,
   "id": "55677c81-dcd8-491e-b36d-6d1f1cb701bb",
   "metadata": {},
   "outputs": [],
   "source": [
    "# READING A STATA FILE\n",
    "rtg_table = pd.read_stata(path+'replicationdatajpr-oldstata.dta')"
   ]
  },
  {
   "cell_type": "code",
   "execution_count": 4,
   "id": "818510d7-d80d-4fdd-aa70-3440927ed3ae",
   "metadata": {},
   "outputs": [
    {
     "data": {
      "text/html": [
       "<div>\n",
       "<style scoped>\n",
       "    .dataframe tbody tr th:only-of-type {\n",
       "        vertical-align: middle;\n",
       "    }\n",
       "\n",
       "    .dataframe tbody tr th {\n",
       "        vertical-align: top;\n",
       "    }\n",
       "\n",
       "    .dataframe thead th {\n",
       "        text-align: right;\n",
       "    }\n",
       "</style>\n",
       "<table border=\"1\" class=\"dataframe\">\n",
       "  <thead>\n",
       "    <tr style=\"text-align: right;\">\n",
       "      <th></th>\n",
       "      <th>year</th>\n",
       "      <th>gname</th>\n",
       "      <th>ffund</th>\n",
       "      <th>childrec</th>\n",
       "      <th>frec</th>\n",
       "      <th>rebel</th>\n",
       "      <th>parterr</th>\n",
       "      <th>terpwing</th>\n",
       "      <th>teraff</th>\n",
       "      <th>govcaus</th>\n",
       "      <th>...</th>\n",
       "      <th>nat</th>\n",
       "      <th>civcausreal</th>\n",
       "      <th>civcauseffreal</th>\n",
       "      <th>outnegrep</th>\n",
       "      <th>cleavage</th>\n",
       "      <th>reputation</th>\n",
       "      <th>last</th>\n",
       "      <th>counter</th>\n",
       "      <th>endedtype</th>\n",
       "      <th>endedtype2</th>\n",
       "    </tr>\n",
       "  </thead>\n",
       "  <tbody>\n",
       "    <tr>\n",
       "      <th>0</th>\n",
       "      <td>1989</td>\n",
       "      <td>1 May Group</td>\n",
       "      <td>0</td>\n",
       "      <td>0</td>\n",
       "      <td>0</td>\n",
       "      <td>0</td>\n",
       "      <td>0</td>\n",
       "      <td>0</td>\n",
       "      <td>0</td>\n",
       "      <td>1</td>\n",
       "      <td>...</td>\n",
       "      <td>0.0</td>\n",
       "      <td>0.250000</td>\n",
       "      <td>1.0</td>\n",
       "      <td>1.0</td>\n",
       "      <td>1.0</td>\n",
       "      <td>0.0</td>\n",
       "      <td>3.0</td>\n",
       "      <td>1.0</td>\n",
       "      <td>0.0</td>\n",
       "      <td>0.0</td>\n",
       "    </tr>\n",
       "    <tr>\n",
       "      <th>1</th>\n",
       "      <td>1991</td>\n",
       "      <td>1 May Group</td>\n",
       "      <td>0</td>\n",
       "      <td>0</td>\n",
       "      <td>0</td>\n",
       "      <td>0</td>\n",
       "      <td>0</td>\n",
       "      <td>0</td>\n",
       "      <td>0</td>\n",
       "      <td>0</td>\n",
       "      <td>...</td>\n",
       "      <td>0.0</td>\n",
       "      <td>2.333333</td>\n",
       "      <td>0.0</td>\n",
       "      <td>0.0</td>\n",
       "      <td>1.0</td>\n",
       "      <td>0.0</td>\n",
       "      <td>3.0</td>\n",
       "      <td>2.0</td>\n",
       "      <td>0.0</td>\n",
       "      <td>0.0</td>\n",
       "    </tr>\n",
       "    <tr>\n",
       "      <th>2</th>\n",
       "      <td>1992</td>\n",
       "      <td>1 May Group</td>\n",
       "      <td>0</td>\n",
       "      <td>0</td>\n",
       "      <td>0</td>\n",
       "      <td>0</td>\n",
       "      <td>0</td>\n",
       "      <td>0</td>\n",
       "      <td>0</td>\n",
       "      <td>0</td>\n",
       "      <td>...</td>\n",
       "      <td>0.0</td>\n",
       "      <td>0.000000</td>\n",
       "      <td>0.0</td>\n",
       "      <td>0.0</td>\n",
       "      <td>1.0</td>\n",
       "      <td>0.0</td>\n",
       "      <td>3.0</td>\n",
       "      <td>3.0</td>\n",
       "      <td>1.0</td>\n",
       "      <td>1.0</td>\n",
       "    </tr>\n",
       "    <tr>\n",
       "      <th>3</th>\n",
       "      <td>1989</td>\n",
       "      <td>16 January Organization for the Liberation of ...</td>\n",
       "      <td>0</td>\n",
       "      <td>0</td>\n",
       "      <td>0</td>\n",
       "      <td>0</td>\n",
       "      <td>0</td>\n",
       "      <td>0</td>\n",
       "      <td>0</td>\n",
       "      <td>1</td>\n",
       "      <td>...</td>\n",
       "      <td>NaN</td>\n",
       "      <td>22.625000</td>\n",
       "      <td>0.0</td>\n",
       "      <td>0.0</td>\n",
       "      <td>NaN</td>\n",
       "      <td>0.0</td>\n",
       "      <td>1.0</td>\n",
       "      <td>1.0</td>\n",
       "      <td>1.0</td>\n",
       "      <td>1.0</td>\n",
       "    </tr>\n",
       "    <tr>\n",
       "      <th>4</th>\n",
       "      <td>1983</td>\n",
       "      <td>2 April Group</td>\n",
       "      <td>0</td>\n",
       "      <td>0</td>\n",
       "      <td>0</td>\n",
       "      <td>0</td>\n",
       "      <td>0</td>\n",
       "      <td>0</td>\n",
       "      <td>0</td>\n",
       "      <td>0</td>\n",
       "      <td>...</td>\n",
       "      <td>0.0</td>\n",
       "      <td>0.000000</td>\n",
       "      <td>0.0</td>\n",
       "      <td>1.0</td>\n",
       "      <td>1.0</td>\n",
       "      <td>0.0</td>\n",
       "      <td>1.0</td>\n",
       "      <td>1.0</td>\n",
       "      <td>1.0</td>\n",
       "      <td>1.0</td>\n",
       "    </tr>\n",
       "  </tbody>\n",
       "</table>\n",
       "<p>5 rows × 50 columns</p>\n",
       "</div>"
      ],
      "text/plain": [
       "   year                                              gname  ffund  childrec  \\\n",
       "0  1989                                        1 May Group      0         0   \n",
       "1  1991                                        1 May Group      0         0   \n",
       "2  1992                                        1 May Group      0         0   \n",
       "3  1989  16 January Organization for the Liberation of ...      0         0   \n",
       "4  1983                                      2 April Group      0         0   \n",
       "\n",
       "   frec  rebel  parterr  terpwing  teraff  govcaus  ...  nat  civcausreal  \\\n",
       "0     0      0        0         0       0        1  ...  0.0     0.250000   \n",
       "1     0      0        0         0       0        0  ...  0.0     2.333333   \n",
       "2     0      0        0         0       0        0  ...  0.0     0.000000   \n",
       "3     0      0        0         0       0        1  ...  NaN    22.625000   \n",
       "4     0      0        0         0       0        0  ...  0.0     0.000000   \n",
       "\n",
       "   civcauseffreal  outnegrep  cleavage  reputation  last  counter  endedtype  \\\n",
       "0             1.0        1.0       1.0         0.0   3.0      1.0        0.0   \n",
       "1             0.0        0.0       1.0         0.0   3.0      2.0        0.0   \n",
       "2             0.0        0.0       1.0         0.0   3.0      3.0        1.0   \n",
       "3             0.0        0.0       NaN         0.0   1.0      1.0        1.0   \n",
       "4             0.0        1.0       1.0         0.0   1.0      1.0        1.0   \n",
       "\n",
       "   endedtype2  \n",
       "0         0.0  \n",
       "1         0.0  \n",
       "2         1.0  \n",
       "3         1.0  \n",
       "4         1.0  \n",
       "\n",
       "[5 rows x 50 columns]"
      ]
     },
     "execution_count": 4,
     "metadata": {},
     "output_type": "execute_result"
    }
   ],
   "source": [
    "rtg_table.head()"
   ]
  },
  {
   "cell_type": "markdown",
   "id": "1e72923c-77c2-4a4a-991e-d38a315ed09f",
   "metadata": {},
   "source": [
    "#### The Foundations of Rebel Group Emergence (FORGE) Dataset\n",
    "\n",
    "It provides information on the origins of violent non-state actors engaged in armed conflict against their government resulting in 25+ yearly battle deaths, active between 1946 and 2011. The unit of observation in this dataset is the rebel group organization. We also include information on the dyad and conflict in which these groups are participants for ease of integration with various Uppsala Conflict Data Program (UCDP) datasets. We draw upon the population of groups included in the Non-State Actor database described in greater detail here:\n",
    "    \n",
    "[Link to data](http://ksgleditsch.com/eacd.html)"
   ]
  },
  {
   "cell_type": "code",
   "execution_count": 5,
   "id": "a801dc98-0ad5-4d0e-96e6-944a8e487322",
   "metadata": {},
   "outputs": [],
   "source": [
    "# READING AN ASCII FILE ON TABULAR FORMAT WITH CSV FUNCTION\n",
    "forge_table = pd.read_csv(path+'nsa_v3.4_21November2013.asc', delimiter='\\t')"
   ]
  },
  {
   "cell_type": "code",
   "execution_count": 6,
   "id": "3f6aa4b9-f06f-448d-8067-752fbfe179e9",
   "metadata": {},
   "outputs": [
    {
     "data": {
      "text/html": [
       "<div>\n",
       "<style scoped>\n",
       "    .dataframe tbody tr th:only-of-type {\n",
       "        vertical-align: middle;\n",
       "    }\n",
       "\n",
       "    .dataframe tbody tr th {\n",
       "        vertical-align: top;\n",
       "    }\n",
       "\n",
       "    .dataframe thead th {\n",
       "        text-align: right;\n",
       "    }\n",
       "</style>\n",
       "<table border=\"1\" class=\"dataframe\">\n",
       "  <thead>\n",
       "    <tr style=\"text-align: right;\">\n",
       "      <th></th>\n",
       "      <th>obsid</th>\n",
       "      <th>ucdpid</th>\n",
       "      <th>dyadid</th>\n",
       "      <th>side_a</th>\n",
       "      <th>acr</th>\n",
       "      <th>side_b</th>\n",
       "      <th>startdate</th>\n",
       "      <th>enddate</th>\n",
       "      <th>oldid</th>\n",
       "      <th>oldconfid</th>\n",
       "      <th>...</th>\n",
       "      <th>rsupname</th>\n",
       "      <th>gov.support</th>\n",
       "      <th>gtypesup</th>\n",
       "      <th>gsupname</th>\n",
       "      <th>govextpart</th>\n",
       "      <th>type.of.termination</th>\n",
       "      <th>victory.side</th>\n",
       "      <th>prevactive</th>\n",
       "      <th>prevact.ref</th>\n",
       "      <th>oldobsid</th>\n",
       "    </tr>\n",
       "  </thead>\n",
       "  <tbody>\n",
       "    <tr>\n",
       "      <th>0</th>\n",
       "      <td>NSA.3.4-1</td>\n",
       "      <td>1</td>\n",
       "      <td>462</td>\n",
       "      <td>Bolivia</td>\n",
       "      <td>BOL</td>\n",
       "      <td>Popular Revolutionary Movement</td>\n",
       "      <td>1946-06-01</td>\n",
       "      <td>1946-07-21</td>\n",
       "      <td>1010</td>\n",
       "      <td>1010.1</td>\n",
       "      <td>...</td>\n",
       "      <td>NaN</td>\n",
       "      <td>no</td>\n",
       "      <td>NaN</td>\n",
       "      <td>NaN</td>\n",
       "      <td>no</td>\n",
       "      <td>4.0</td>\n",
       "      <td>2.0</td>\n",
       "      <td>0</td>\n",
       "      <td>NaN</td>\n",
       "      <td>NSA.3.3-1</td>\n",
       "    </tr>\n",
       "    <tr>\n",
       "      <th>1</th>\n",
       "      <td>NSA.3.4-4</td>\n",
       "      <td>1</td>\n",
       "      <td>463</td>\n",
       "      <td>Bolivia</td>\n",
       "      <td>BOL</td>\n",
       "      <td>MNR</td>\n",
       "      <td>1952-04-09</td>\n",
       "      <td>1952-04-12</td>\n",
       "      <td>1010</td>\n",
       "      <td>1010.2</td>\n",
       "      <td>...</td>\n",
       "      <td>NaN</td>\n",
       "      <td>no</td>\n",
       "      <td>NaN</td>\n",
       "      <td>NaN</td>\n",
       "      <td>no</td>\n",
       "      <td>4.0</td>\n",
       "      <td>2.0</td>\n",
       "      <td>0</td>\n",
       "      <td>NaN</td>\n",
       "      <td>NSA.3.3-4</td>\n",
       "    </tr>\n",
       "    <tr>\n",
       "      <th>2</th>\n",
       "      <td>NSA.3.4-7</td>\n",
       "      <td>1</td>\n",
       "      <td>464</td>\n",
       "      <td>Bolivia</td>\n",
       "      <td>BOL</td>\n",
       "      <td>ELN</td>\n",
       "      <td>1967-03-01</td>\n",
       "      <td>1967-10-16</td>\n",
       "      <td>1010</td>\n",
       "      <td>1010.3</td>\n",
       "      <td>...</td>\n",
       "      <td>Cuba</td>\n",
       "      <td>explicit</td>\n",
       "      <td>military</td>\n",
       "      <td>USA</td>\n",
       "      <td>no</td>\n",
       "      <td>4.0</td>\n",
       "      <td>1.0</td>\n",
       "      <td>0</td>\n",
       "      <td>NaN</td>\n",
       "      <td>NSA.3.3-7</td>\n",
       "    </tr>\n",
       "    <tr>\n",
       "      <th>3</th>\n",
       "      <td>NSA.3.4-10</td>\n",
       "      <td>2</td>\n",
       "      <td>654</td>\n",
       "      <td>France</td>\n",
       "      <td>FRN</td>\n",
       "      <td>Khmer Issarak</td>\n",
       "      <td>1946-08-01</td>\n",
       "      <td>1953-11-09</td>\n",
       "      <td>1020</td>\n",
       "      <td>1020</td>\n",
       "      <td>...</td>\n",
       "      <td>Thailand</td>\n",
       "      <td>explicit</td>\n",
       "      <td>military</td>\n",
       "      <td>USA</td>\n",
       "      <td>no</td>\n",
       "      <td>7.0</td>\n",
       "      <td>NaN</td>\n",
       "      <td>0</td>\n",
       "      <td>NaN</td>\n",
       "      <td>NSA.3.3-10</td>\n",
       "    </tr>\n",
       "    <tr>\n",
       "      <th>4</th>\n",
       "      <td>NSA.3.4-13</td>\n",
       "      <td>3</td>\n",
       "      <td>466</td>\n",
       "      <td>China</td>\n",
       "      <td>CHN</td>\n",
       "      <td>Peoples Liberation Army</td>\n",
       "      <td>1946-01-01</td>\n",
       "      <td>1949-10-1</td>\n",
       "      <td>1030</td>\n",
       "      <td>1030</td>\n",
       "      <td>...</td>\n",
       "      <td>USSR</td>\n",
       "      <td>explicit</td>\n",
       "      <td>military</td>\n",
       "      <td>USA</td>\n",
       "      <td>no</td>\n",
       "      <td>4.0</td>\n",
       "      <td>2.0</td>\n",
       "      <td>0</td>\n",
       "      <td>NaN</td>\n",
       "      <td>NSA.3.3-13</td>\n",
       "    </tr>\n",
       "  </tbody>\n",
       "</table>\n",
       "<p>5 rows × 43 columns</p>\n",
       "</div>"
      ],
      "text/plain": [
       "        obsid  ucdpid  dyadid   side_a  acr                          side_b  \\\n",
       "0   NSA.3.4-1       1     462  Bolivia  BOL  Popular Revolutionary Movement   \n",
       "1   NSA.3.4-4       1     463  Bolivia  BOL                             MNR   \n",
       "2   NSA.3.4-7       1     464  Bolivia  BOL                             ELN   \n",
       "3  NSA.3.4-10       2     654   France  FRN                   Khmer Issarak   \n",
       "4  NSA.3.4-13       3     466    China  CHN         Peoples Liberation Army   \n",
       "\n",
       "    startdate     enddate oldid oldconfid  ...  rsupname  gov.support  \\\n",
       "0  1946-06-01  1946-07-21  1010    1010.1  ...       NaN           no   \n",
       "1  1952-04-09  1952-04-12  1010    1010.2  ...       NaN           no   \n",
       "2  1967-03-01  1967-10-16  1010    1010.3  ...      Cuba     explicit   \n",
       "3  1946-08-01  1953-11-09  1020      1020  ...  Thailand     explicit   \n",
       "4  1946-01-01   1949-10-1  1030      1030  ...      USSR     explicit   \n",
       "\n",
       "   gtypesup gsupname  govextpart  type.of.termination  victory.side  \\\n",
       "0       NaN      NaN          no                  4.0           2.0   \n",
       "1       NaN      NaN          no                  4.0           2.0   \n",
       "2  military      USA          no                  4.0           1.0   \n",
       "3  military      USA          no                  7.0           NaN   \n",
       "4  military      USA          no                  4.0           2.0   \n",
       "\n",
       "  prevactive prevact.ref    oldobsid  \n",
       "0          0         NaN   NSA.3.3-1  \n",
       "1          0         NaN   NSA.3.3-4  \n",
       "2          0         NaN   NSA.3.3-7  \n",
       "3          0         NaN  NSA.3.3-10  \n",
       "4          0         NaN  NSA.3.3-13  \n",
       "\n",
       "[5 rows x 43 columns]"
      ]
     },
     "execution_count": 6,
     "metadata": {},
     "output_type": "execute_result"
    }
   ],
   "source": [
    "forge_table.head()"
   ]
  },
  {
   "cell_type": "markdown",
   "id": "67645dc6-572e-41fc-ae69-ba925b2ff2a7",
   "metadata": {},
   "source": [
    "#### The CEPS EurLex dataset: EU laws from 1952-2019 with full text and 22 variables\n",
    "\n",
    "The dataset contains 142.036 EU laws - almost the entire corpus of the EU's digitally available legal acts passed between 1952 - 2019. It encompasses the three types of legally binding acts passed by the EU institutions: 102.304 regulations, 4.070 directives, 35.798 decisions in English language. The dataset was scraped from the official EU legal database (Eur-lex.eu) and transformed in machine-readable CSV format with the programming languages R and Python. \n",
    "The dataset was collected by the Centre for European Policy Studies (CEPS) for the TRIGGER project (https://trigger-project.eu/). We hope that it will facilitate future quantitative and computational research on the EU. \n",
    "\n",
    "[Link to data](https://dataverse.harvard.edu/dataset.xhtml?persistentId=doi:10.7910/DVN/0EGYWY)"
   ]
  },
  {
   "cell_type": "code",
   "execution_count": 7,
   "id": "e6bc5c42-210b-417c-9bad-4ec440025cdb",
   "metadata": {},
   "outputs": [],
   "source": [
    "# READING AN EXCEL FILE\n",
    "eurlex_table = pd.read_excel(path+'EurLex_all_no_text.xlsx')"
   ]
  },
  {
   "cell_type": "code",
   "execution_count": 8,
   "id": "14de3f6b-09b8-4d8c-bb60-ae21c5ebe5be",
   "metadata": {},
   "outputs": [
    {
     "data": {
      "text/html": [
       "<div>\n",
       "<style scoped>\n",
       "    .dataframe tbody tr th:only-of-type {\n",
       "        vertical-align: middle;\n",
       "    }\n",
       "\n",
       "    .dataframe tbody tr th {\n",
       "        vertical-align: top;\n",
       "    }\n",
       "\n",
       "    .dataframe thead th {\n",
       "        text-align: right;\n",
       "    }\n",
       "</style>\n",
       "<table border=\"1\" class=\"dataframe\">\n",
       "  <thead>\n",
       "    <tr style=\"text-align: right;\">\n",
       "      <th></th>\n",
       "      <th>CELEX</th>\n",
       "      <th>Act_name</th>\n",
       "      <th>Act_type</th>\n",
       "      <th>Status</th>\n",
       "      <th>EUROVOC</th>\n",
       "      <th>Subject_matter</th>\n",
       "      <th>Treaty</th>\n",
       "      <th>Legal_basis_celex</th>\n",
       "      <th>Authors</th>\n",
       "      <th>Procedure_number</th>\n",
       "      <th>...</th>\n",
       "      <th>Temporal_status</th>\n",
       "      <th>Act_cites</th>\n",
       "      <th>Cites_links</th>\n",
       "      <th>Act_ammends</th>\n",
       "      <th>Ammends_links</th>\n",
       "      <th>Eurlex_link</th>\n",
       "      <th>ELI_link</th>\n",
       "      <th>Proposal_link</th>\n",
       "      <th>Oeil_link</th>\n",
       "      <th>Additional_info</th>\n",
       "    </tr>\n",
       "  </thead>\n",
       "  <tbody>\n",
       "    <tr>\n",
       "      <th>0</th>\n",
       "      <td>32019D0276</td>\n",
       "      <td>Decision (EU) 2019/276 of the European Parliam...</td>\n",
       "      <td>Decision</td>\n",
       "      <td>In Force</td>\n",
       "      <td>aid to refugees; budget appropriation; EC gene...</td>\n",
       "      <td>cooperation policy;  budget;  EU finance;  int...</td>\n",
       "      <td>TFEU</td>\n",
       "      <td>32013Q1220(01)</td>\n",
       "      <td>European Parliament; European Council</td>\n",
       "      <td>NaN</td>\n",
       "      <td>...</td>\n",
       "      <td>NaN</td>\n",
       "      <td>32013R1311</td>\n",
       "      <td>http://data.europa.eu/eli/reg/2013/1311/oj</td>\n",
       "      <td>NaN</td>\n",
       "      <td>NaN</td>\n",
       "      <td>NaN</td>\n",
       "      <td>NaN</td>\n",
       "      <td>NaN</td>\n",
       "      <td>NaN</td>\n",
       "      <td>NaN</td>\n",
       "    </tr>\n",
       "    <tr>\n",
       "      <th>1</th>\n",
       "      <td>32019D0277</td>\n",
       "      <td>Decision (EU) 2019/277 of the European Parliam...</td>\n",
       "      <td>Decision</td>\n",
       "      <td>In Force</td>\n",
       "      <td>aid to catastrophe victims; emergency aid; EC ...</td>\n",
       "      <td>cooperation policy;  EU finance;  budget;  det...</td>\n",
       "      <td>TFEU</td>\n",
       "      <td>32002R2012; 32013Q1220(01)</td>\n",
       "      <td>European Parliament; European Council</td>\n",
       "      <td>NaN</td>\n",
       "      <td>...</td>\n",
       "      <td>NaN</td>\n",
       "      <td>32013R1311</td>\n",
       "      <td>http://data.europa.eu/eli/reg/2013/1311/oj</td>\n",
       "      <td>NaN</td>\n",
       "      <td>NaN</td>\n",
       "      <td>NaN</td>\n",
       "      <td>NaN</td>\n",
       "      <td>NaN</td>\n",
       "      <td>NaN</td>\n",
       "      <td>NaN</td>\n",
       "    </tr>\n",
       "    <tr>\n",
       "      <th>2</th>\n",
       "      <td>32019D0275</td>\n",
       "      <td>Decision (EU) 2019/275 of the European Parliam...</td>\n",
       "      <td>Decision</td>\n",
       "      <td>In Force</td>\n",
       "      <td>professional reintegration; Attica; EGF; EC ge...</td>\n",
       "      <td>employment;  regions of EU Member States;  EU ...</td>\n",
       "      <td>TFEU</td>\n",
       "      <td>32013Q1220(01); 32013R1309</td>\n",
       "      <td>European Parliament; European Council</td>\n",
       "      <td>NaN</td>\n",
       "      <td>...</td>\n",
       "      <td>NaN</td>\n",
       "      <td>32013R1311</td>\n",
       "      <td>http://data.europa.eu/eli/reg/2013/1311/oj</td>\n",
       "      <td>NaN</td>\n",
       "      <td>NaN</td>\n",
       "      <td>NaN</td>\n",
       "      <td>NaN</td>\n",
       "      <td>NaN</td>\n",
       "      <td>NaN</td>\n",
       "      <td>NaN</td>\n",
       "    </tr>\n",
       "    <tr>\n",
       "      <th>3</th>\n",
       "      <td>32018D1859</td>\n",
       "      <td>Decision (EU) 2018/1859 of the European Parlia...</td>\n",
       "      <td>Decision</td>\n",
       "      <td>In Force</td>\n",
       "      <td>commitment appropriation; Latvia; payment appr...</td>\n",
       "      <td>budget;  Europe;  EU finance;  cooperation pol...</td>\n",
       "      <td>TFEU</td>\n",
       "      <td>32002R2012; 32013Q1220(01)</td>\n",
       "      <td>European Council; European Parliament</td>\n",
       "      <td>NaN</td>\n",
       "      <td>...</td>\n",
       "      <td>NaN</td>\n",
       "      <td>32018D508; 32013R1311</td>\n",
       "      <td>http://data.europa.eu/eli/dec/2018/508/oj; htt...</td>\n",
       "      <td>NaN</td>\n",
       "      <td>NaN</td>\n",
       "      <td>NaN</td>\n",
       "      <td>NaN</td>\n",
       "      <td>NaN</td>\n",
       "      <td>NaN</td>\n",
       "      <td>NaN</td>\n",
       "    </tr>\n",
       "    <tr>\n",
       "      <th>4</th>\n",
       "      <td>32018D1720</td>\n",
       "      <td>Decision (EU) 2018/1720 of the European Parlia...</td>\n",
       "      <td>Decision</td>\n",
       "      <td>In Force</td>\n",
       "      <td>Northern Portugal; Portugal; employment aid; e...</td>\n",
       "      <td>regions of EU Member States;  Europe;  economi...</td>\n",
       "      <td>TFEU</td>\n",
       "      <td>32013Q1220(01); 32013R1309</td>\n",
       "      <td>European Council; European Parliament</td>\n",
       "      <td>NaN</td>\n",
       "      <td>...</td>\n",
       "      <td>NaN</td>\n",
       "      <td>32013R1311</td>\n",
       "      <td>http://data.europa.eu/eli/reg/2013/1311/oj</td>\n",
       "      <td>NaN</td>\n",
       "      <td>NaN</td>\n",
       "      <td>NaN</td>\n",
       "      <td>NaN</td>\n",
       "      <td>NaN</td>\n",
       "      <td>NaN</td>\n",
       "      <td>NaN</td>\n",
       "    </tr>\n",
       "  </tbody>\n",
       "</table>\n",
       "<p>5 rows × 23 columns</p>\n",
       "</div>"
      ],
      "text/plain": [
       "        CELEX                                           Act_name  Act_type  \\\n",
       "0  32019D0276  Decision (EU) 2019/276 of the European Parliam...  Decision   \n",
       "1  32019D0277  Decision (EU) 2019/277 of the European Parliam...  Decision   \n",
       "2  32019D0275  Decision (EU) 2019/275 of the European Parliam...  Decision   \n",
       "3  32018D1859  Decision (EU) 2018/1859 of the European Parlia...  Decision   \n",
       "4  32018D1720  Decision (EU) 2018/1720 of the European Parlia...  Decision   \n",
       "\n",
       "     Status                                            EUROVOC  \\\n",
       "0  In Force  aid to refugees; budget appropriation; EC gene...   \n",
       "1  In Force  aid to catastrophe victims; emergency aid; EC ...   \n",
       "2  In Force  professional reintegration; Attica; EGF; EC ge...   \n",
       "3  In Force  commitment appropriation; Latvia; payment appr...   \n",
       "4  In Force  Northern Portugal; Portugal; employment aid; e...   \n",
       "\n",
       "                                      Subject_matter Treaty  \\\n",
       "0  cooperation policy;  budget;  EU finance;  int...   TFEU   \n",
       "1  cooperation policy;  EU finance;  budget;  det...   TFEU   \n",
       "2  employment;  regions of EU Member States;  EU ...   TFEU   \n",
       "3  budget;  Europe;  EU finance;  cooperation pol...   TFEU   \n",
       "4  regions of EU Member States;  Europe;  economi...   TFEU   \n",
       "\n",
       "            Legal_basis_celex                                Authors  \\\n",
       "0              32013Q1220(01)  European Parliament; European Council   \n",
       "1  32002R2012; 32013Q1220(01)  European Parliament; European Council   \n",
       "2  32013Q1220(01); 32013R1309  European Parliament; European Council   \n",
       "3  32002R2012; 32013Q1220(01)  European Council; European Parliament   \n",
       "4  32013Q1220(01); 32013R1309  European Council; European Parliament   \n",
       "\n",
       "  Procedure_number  ... Temporal_status              Act_cites  \\\n",
       "0              NaN  ...             NaN             32013R1311   \n",
       "1              NaN  ...             NaN             32013R1311   \n",
       "2              NaN  ...             NaN             32013R1311   \n",
       "3              NaN  ...             NaN  32018D508; 32013R1311   \n",
       "4              NaN  ...             NaN             32013R1311   \n",
       "\n",
       "                                         Cites_links Act_ammends  \\\n",
       "0         http://data.europa.eu/eli/reg/2013/1311/oj         NaN   \n",
       "1         http://data.europa.eu/eli/reg/2013/1311/oj         NaN   \n",
       "2         http://data.europa.eu/eli/reg/2013/1311/oj         NaN   \n",
       "3  http://data.europa.eu/eli/dec/2018/508/oj; htt...         NaN   \n",
       "4         http://data.europa.eu/eli/reg/2013/1311/oj         NaN   \n",
       "\n",
       "  Ammends_links Eurlex_link ELI_link Proposal_link  Oeil_link  Additional_info  \n",
       "0           NaN         NaN      NaN           NaN        NaN              NaN  \n",
       "1           NaN         NaN      NaN           NaN        NaN              NaN  \n",
       "2           NaN         NaN      NaN           NaN        NaN              NaN  \n",
       "3           NaN         NaN      NaN           NaN        NaN              NaN  \n",
       "4           NaN         NaN      NaN           NaN        NaN              NaN  \n",
       "\n",
       "[5 rows x 23 columns]"
      ]
     },
     "execution_count": 8,
     "metadata": {},
     "output_type": "execute_result"
    }
   ],
   "source": [
    "eurlex_table.head()"
   ]
  },
  {
   "cell_type": "markdown",
   "id": "46028715-a9a5-4a6e-b5ac-bd9199283a9a",
   "metadata": {},
   "source": [
    "---\n",
    "## 2.2. Data structures\n",
    "<a id=\"2.2\">"
   ]
  },
  {
   "cell_type": "markdown",
   "id": "91d1f0ec-6a15-485d-88e8-f42a22bc2ef5",
   "metadata": {
    "id": "KakWCAxoYUEg"
   },
   "source": [
    "A DataFrame is a collection of Series; The DataFrame is the way Pandas represents a table, and Series is the data-structure Pandas use to represent a column.\n",
    "\n",
    "Pandas is built on top of the Numpy library, which in practice means that most of the methods defined for Numpy Arrays apply to Pandas Series/DataFrames.\n",
    "\n",
    "What makes Pandas so attractive is the powerful interface to access individual records of the table, proper handling of missing values, and relational-databases operations between DataFrames."
   ]
  },
  {
   "cell_type": "code",
   "execution_count": 9,
   "id": "88f6032b-c63b-4d2b-8c50-8c8e98e3b146",
   "metadata": {},
   "outputs": [
    {
     "data": {
      "text/html": [
       "<div>\n",
       "<style scoped>\n",
       "    .dataframe tbody tr th:only-of-type {\n",
       "        vertical-align: middle;\n",
       "    }\n",
       "\n",
       "    .dataframe tbody tr th {\n",
       "        vertical-align: top;\n",
       "    }\n",
       "\n",
       "    .dataframe thead th {\n",
       "        text-align: right;\n",
       "    }\n",
       "</style>\n",
       "<table border=\"1\" class=\"dataframe\">\n",
       "  <thead>\n",
       "    <tr style=\"text-align: right;\">\n",
       "      <th></th>\n",
       "      <th>age</th>\n",
       "      <th>height</th>\n",
       "      <th>course</th>\n",
       "    </tr>\n",
       "  </thead>\n",
       "  <tbody>\n",
       "    <tr>\n",
       "      <th>0</th>\n",
       "      <td>20</td>\n",
       "      <td>1.8</td>\n",
       "      <td>Python</td>\n",
       "    </tr>\n",
       "    <tr>\n",
       "      <th>1</th>\n",
       "      <td>30</td>\n",
       "      <td>1.6</td>\n",
       "      <td>None</td>\n",
       "    </tr>\n",
       "  </tbody>\n",
       "</table>\n",
       "</div>"
      ],
      "text/plain": [
       "   age  height  course\n",
       "0   20     1.8  Python\n",
       "1   30     1.6    None"
      ]
     },
     "execution_count": 9,
     "metadata": {},
     "output_type": "execute_result"
    }
   ],
   "source": [
    "# Basic representation of a dataframe\n",
    "dictionary = {'age': [20, 30], 'height': [1.80, 1.60], 'course':['Python', None]}\n",
    "\n",
    "# Define a dataframe\n",
    "df = pd.DataFrame(data=dictionary)\n",
    "\n",
    "# Print the dataframe\n",
    "df"
   ]
  },
  {
   "cell_type": "markdown",
   "id": "97166899-2760-4764-8087-ecd8fdf1aa4f",
   "metadata": {
    "id": "RkmwCa15f5lA"
   },
   "source": [
    "Use the `DataFrame.info()` method to find out more about a dataframe"
   ]
  },
  {
   "cell_type": "code",
   "execution_count": 10,
   "id": "82022028-a377-41ee-ad4e-2303d8b7699d",
   "metadata": {
    "colab": {
     "base_uri": "https://localhost:8080/"
    },
    "id": "fhF7JMuqgCSl",
    "outputId": "461ca322-d43c-49d6-a26d-c3eaa0a8f8d0"
   },
   "outputs": [
    {
     "name": "stdout",
     "output_type": "stream",
     "text": [
      "<class 'pandas.core.frame.DataFrame'>\n",
      "RangeIndex: 2 entries, 0 to 1\n",
      "Data columns (total 3 columns):\n",
      " #   Column  Non-Null Count  Dtype  \n",
      "---  ------  --------------  -----  \n",
      " 0   age     2 non-null      int64  \n",
      " 1   height  2 non-null      float64\n",
      " 2   course  1 non-null      object \n",
      "dtypes: float64(1), int64(1), object(1)\n",
      "memory usage: 176.0+ bytes\n"
     ]
    }
   ],
   "source": [
    "df.info()"
   ]
  },
  {
   "cell_type": "markdown",
   "id": "eee109a7-7809-49d6-876d-b5d16670da38",
   "metadata": {
    "id": "uUZNN7sfgNJd"
   },
   "source": [
    "* This is a DataFrame\n",
    "* Columns named `age`, `height` and `course`\n",
    "* Two actual 64-bit int values and one is floating point\n",
    "* The columns are not null\n",
    "* Uses 176 bytes of memory"
   ]
  },
  {
   "cell_type": "markdown",
   "id": "069192b1-7140-43dc-94b7-b98d4f6f79a3",
   "metadata": {
    "id": "DfL-CSHSiXAj"
   },
   "source": [
    "The DataFrame.columns variable stores information about the dataframe's columns\n",
    "\n",
    "* Note that this is data, _not_ a method. (it doesn't have parentheses)\n",
    "  - Like `math.pi`\n",
    "  - So do not use `()` to call it"
   ]
  },
  {
   "cell_type": "code",
   "execution_count": 11,
   "id": "977f506c-0841-4abf-887d-4cbe428c97b7",
   "metadata": {
    "colab": {
     "base_uri": "https://localhost:8080/"
    },
    "id": "tgsIlosei0Tz",
    "outputId": "8ec2c2cc-472c-4417-da1d-861b9e322bdc"
   },
   "outputs": [
    {
     "data": {
      "text/plain": [
       "Index(['age', 'height', 'course'], dtype='object')"
      ]
     },
     "execution_count": 11,
     "metadata": {},
     "output_type": "execute_result"
    }
   ],
   "source": [
    "df.columns"
   ]
  },
  {
   "cell_type": "markdown",
   "id": "a19b1b84-30ca-4fc5-9fa0-97c841aba3a9",
   "metadata": {
    "id": "mIUo3PO6i-s0"
   },
   "source": [
    "Use `DataFrame.T` to transpose a dataframe:\n",
    "\n",
    "* Sometimes want to treat columns as rows and vice versa.\n",
    "* Transpose (written `.T`) doesn't copy the data, just changes the program's view of it.\n",
    "* Like `columns`, it is a member variable\n"
   ]
  },
  {
   "cell_type": "code",
   "execution_count": 12,
   "id": "679518df-97e2-4a2e-9c7b-7ffa74296b3b",
   "metadata": {
    "colab": {
     "base_uri": "https://localhost:8080/",
     "height": 421
    },
    "id": "gzEYw1Slj5ZA",
    "outputId": "c5bb7900-166b-493e-ad50-5ee1e95c0a2a"
   },
   "outputs": [
    {
     "data": {
      "text/html": [
       "<div>\n",
       "<style scoped>\n",
       "    .dataframe tbody tr th:only-of-type {\n",
       "        vertical-align: middle;\n",
       "    }\n",
       "\n",
       "    .dataframe tbody tr th {\n",
       "        vertical-align: top;\n",
       "    }\n",
       "\n",
       "    .dataframe thead th {\n",
       "        text-align: right;\n",
       "    }\n",
       "</style>\n",
       "<table border=\"1\" class=\"dataframe\">\n",
       "  <thead>\n",
       "    <tr style=\"text-align: right;\">\n",
       "      <th></th>\n",
       "      <th>0</th>\n",
       "      <th>1</th>\n",
       "    </tr>\n",
       "  </thead>\n",
       "  <tbody>\n",
       "    <tr>\n",
       "      <th>age</th>\n",
       "      <td>20</td>\n",
       "      <td>30</td>\n",
       "    </tr>\n",
       "    <tr>\n",
       "      <th>height</th>\n",
       "      <td>1.8</td>\n",
       "      <td>1.6</td>\n",
       "    </tr>\n",
       "    <tr>\n",
       "      <th>course</th>\n",
       "      <td>Python</td>\n",
       "      <td>None</td>\n",
       "    </tr>\n",
       "  </tbody>\n",
       "</table>\n",
       "</div>"
      ],
      "text/plain": [
       "             0     1\n",
       "age         20    30\n",
       "height     1.8   1.6\n",
       "course  Python  None"
      ]
     },
     "execution_count": 12,
     "metadata": {},
     "output_type": "execute_result"
    }
   ],
   "source": [
    "df.T"
   ]
  },
  {
   "cell_type": "markdown",
   "id": "a844912c-0de7-4700-9b8c-cef94b567d98",
   "metadata": {
    "id": "lYXaxYJzkA27"
   },
   "source": [
    "Use `DataFrame.describe()` to get summary statistics about data\n",
    "\n",
    "`DataFrame.describe()` gets the summary statistics of only the columns that have numerical data. All other columns are ignored, unless you use the argument `include = 'all'` "
   ]
  },
  {
   "cell_type": "code",
   "execution_count": 13,
   "id": "c40e0bf2-5195-44ca-a36a-1d9df01b4399",
   "metadata": {
    "colab": {
     "base_uri": "https://localhost:8080/",
     "height": 317
    },
    "id": "z5QUhwiqkc8T",
    "outputId": "086088ad-a755-45a3-a13e-991ba5ce5b3e"
   },
   "outputs": [
    {
     "data": {
      "text/html": [
       "<div>\n",
       "<style scoped>\n",
       "    .dataframe tbody tr th:only-of-type {\n",
       "        vertical-align: middle;\n",
       "    }\n",
       "\n",
       "    .dataframe tbody tr th {\n",
       "        vertical-align: top;\n",
       "    }\n",
       "\n",
       "    .dataframe thead th {\n",
       "        text-align: right;\n",
       "    }\n",
       "</style>\n",
       "<table border=\"1\" class=\"dataframe\">\n",
       "  <thead>\n",
       "    <tr style=\"text-align: right;\">\n",
       "      <th></th>\n",
       "      <th>age</th>\n",
       "      <th>height</th>\n",
       "    </tr>\n",
       "  </thead>\n",
       "  <tbody>\n",
       "    <tr>\n",
       "      <th>count</th>\n",
       "      <td>2.000000</td>\n",
       "      <td>2.000000</td>\n",
       "    </tr>\n",
       "    <tr>\n",
       "      <th>mean</th>\n",
       "      <td>25.000000</td>\n",
       "      <td>1.700000</td>\n",
       "    </tr>\n",
       "    <tr>\n",
       "      <th>std</th>\n",
       "      <td>7.071068</td>\n",
       "      <td>0.141421</td>\n",
       "    </tr>\n",
       "    <tr>\n",
       "      <th>min</th>\n",
       "      <td>20.000000</td>\n",
       "      <td>1.600000</td>\n",
       "    </tr>\n",
       "    <tr>\n",
       "      <th>25%</th>\n",
       "      <td>22.500000</td>\n",
       "      <td>1.650000</td>\n",
       "    </tr>\n",
       "    <tr>\n",
       "      <th>50%</th>\n",
       "      <td>25.000000</td>\n",
       "      <td>1.700000</td>\n",
       "    </tr>\n",
       "    <tr>\n",
       "      <th>75%</th>\n",
       "      <td>27.500000</td>\n",
       "      <td>1.750000</td>\n",
       "    </tr>\n",
       "    <tr>\n",
       "      <th>max</th>\n",
       "      <td>30.000000</td>\n",
       "      <td>1.800000</td>\n",
       "    </tr>\n",
       "  </tbody>\n",
       "</table>\n",
       "</div>"
      ],
      "text/plain": [
       "             age    height\n",
       "count   2.000000  2.000000\n",
       "mean   25.000000  1.700000\n",
       "std     7.071068  0.141421\n",
       "min    20.000000  1.600000\n",
       "25%    22.500000  1.650000\n",
       "50%    25.000000  1.700000\n",
       "75%    27.500000  1.750000\n",
       "max    30.000000  1.800000"
      ]
     },
     "execution_count": 13,
     "metadata": {},
     "output_type": "execute_result"
    }
   ],
   "source": [
    "df.describe()"
   ]
  },
  {
   "cell_type": "markdown",
   "id": "9e59308f-579f-4161-a8e2-ababf4d4998d",
   "metadata": {},
   "source": [
    "Make use of a list to select desired columns and create a subset"
   ]
  },
  {
   "cell_type": "code",
   "execution_count": 14,
   "id": "ff92d715-9887-4496-a388-68b42aa22146",
   "metadata": {},
   "outputs": [
    {
     "data": {
      "text/html": [
       "<div>\n",
       "<style scoped>\n",
       "    .dataframe tbody tr th:only-of-type {\n",
       "        vertical-align: middle;\n",
       "    }\n",
       "\n",
       "    .dataframe tbody tr th {\n",
       "        vertical-align: top;\n",
       "    }\n",
       "\n",
       "    .dataframe thead th {\n",
       "        text-align: right;\n",
       "    }\n",
       "</style>\n",
       "<table border=\"1\" class=\"dataframe\">\n",
       "  <thead>\n",
       "    <tr style=\"text-align: right;\">\n",
       "      <th></th>\n",
       "      <th>age</th>\n",
       "      <th>course</th>\n",
       "    </tr>\n",
       "  </thead>\n",
       "  <tbody>\n",
       "    <tr>\n",
       "      <th>0</th>\n",
       "      <td>20</td>\n",
       "      <td>Python</td>\n",
       "    </tr>\n",
       "    <tr>\n",
       "      <th>1</th>\n",
       "      <td>30</td>\n",
       "      <td>None</td>\n",
       "    </tr>\n",
       "  </tbody>\n",
       "</table>\n",
       "</div>"
      ],
      "text/plain": [
       "   age  course\n",
       "0   20  Python\n",
       "1   30    None"
      ]
     },
     "execution_count": 14,
     "metadata": {},
     "output_type": "execute_result"
    }
   ],
   "source": [
    "# Desired columns\n",
    "my_columns = ['age','course']\n",
    "\n",
    "# Selection of subset\n",
    "df[my_columns]"
   ]
  },
  {
   "cell_type": "markdown",
   "id": "1e10c992-b768-4b4c-8f2f-93dd90652c21",
   "metadata": {},
   "source": [
    "Use `DataFrame.to_csv()` to generate a CSV file as result of the analysed dataframe"
   ]
  },
  {
   "cell_type": "code",
   "execution_count": 15,
   "id": "026e52d9-d15b-4e65-b57c-1736b797f87f",
   "metadata": {},
   "outputs": [],
   "source": [
    "df[my_columns].to_csv('example.csv', index=False)"
   ]
  },
  {
   "cell_type": "markdown",
   "id": "d69b4616-4672-4bc3-9c6c-7d863f379868",
   "metadata": {},
   "source": [
    "#### <i style=\"color:red\">**EXERCISES - **</i>"
   ]
  },
  {
   "cell_type": "markdown",
   "id": "9cb1b3bd-7d17-4f3f-9073-f7227b025ae5",
   "metadata": {},
   "source": [
    "+ _1. Reproduce the examples given in the introduction of this notebook\n",
    "    - Download the datasets\n",
    "    - Import Pandas and define a path to the files\n",
    "    - Read the files and save them in Python variables\n",
    "___"
   ]
  },
  {
   "cell_type": "markdown",
   "id": "6b2c5225-675c-4280-8835-459a88849c2c",
   "metadata": {},
   "source": [
    "+ _2.  Use the `help()` function to find out what `DataFrame.head` and `DataFrame.tail` do\n",
    "---\n"
   ]
  },
  {
   "cell_type": "markdown",
   "id": "fdb898ca-13d7-45f7-bd97-c0e5f2fa8f56",
   "metadata": {},
   "source": [
    "+ _3.  Use the `DataFrame.info()` and `DataFrame.describe()`functions to learn general information about the datasets\n",
    "---\n"
   ]
  },
  {
   "cell_type": "markdown",
   "id": "dbbc8ae4-b599-43a2-a8a4-8bbe8c82e522",
   "metadata": {},
   "source": [
    "+ _4.  Usinng the `CEPS EurLex dataset`.\n",
    "- Get the name of the columns with `DataFrame.columns`\n",
    "- Select the columns `Act_name` and `Eurlex_link` to create a subset of the original dataset\n",
    "- Select the frist 50 entries of the data using `head()` function\n",
    "- Save this resulted subset in a `CSV` file\n",
    "\n",
    "---\n"
   ]
  },
  {
   "cell_type": "markdown",
   "id": "c14e2138-8b98-4ac4-b71e-01962166b7aa",
   "metadata": {
    "slideshow": {
     "slide_type": "-"
    }
   },
   "source": [
    "---\n",
    "# 3. Python and Automation\n",
    "* [3.1. Creating basic functions](#3.1)\n",
    "* [3.2. Sharing is caring](#3.2)\n"
   ]
  },
  {
   "cell_type": "markdown",
   "id": "0f0f32d8-e86e-4747-b9f1-d7d48b908159",
   "metadata": {
    "colab_type": "text",
    "id": "vrRXNXdPAcBu",
    "slideshow": {
     "slide_type": "slide"
    }
   },
   "source": [
    "---\n",
    "## 3.1. Creating basic functions\n",
    "<a id=\"3.1\">"
   ]
  },
  {
   "cell_type": "markdown",
   "id": "0c676a85-bfc5-4282-b303-b6558012ad74",
   "metadata": {},
   "source": [
    "\n",
    "A function is a block of organized, reusable code that can make your scripts more effective, easier to read, and simple to manage. You can think functions as little self-contained programs that can perform a specific task which you can use repeatedly in your code.\n",
    "\n",
    "We have already used some functions such as the `print()` command which is actually a built-in function in Python.  \n",
    "\n",
    "Steps:"
   ]
  },
  {
   "cell_type": "markdown",
   "id": "65f8e058-f582-4083-a350-1e222b721588",
   "metadata": {},
   "source": [
    "- Begin the definition of a new function with def.\n",
    "- Followed by the name of the function.\n",
    "    - Must obey the same rules as variable names.\n",
    "- Then parameters in parentheses.\n",
    "    - Empty parentheses if the function doesn’t take any inputs.\n",
    "- Then a colon.\n",
    "- Then an indented block of code."
   ]
  },
  {
   "cell_type": "code",
   "execution_count": 1,
   "id": "111f5f41-dba4-4cb7-8054-71c665569b01",
   "metadata": {},
   "outputs": [],
   "source": [
    "def print_greeting():\n",
    "    print('Hello!')"
   ]
  },
  {
   "cell_type": "markdown",
   "id": "886c3895-f82a-4c54-bd11-966f56c5403c",
   "metadata": {},
   "source": [
    "- Defining a function does not run it.\n",
    "    - Like assigning a value to a variable.\n",
    "- Must call the function to execute the code it contains."
   ]
  },
  {
   "cell_type": "code",
   "execution_count": 2,
   "id": "bab69071-136b-441b-8f2d-e47876f0a9d6",
   "metadata": {},
   "outputs": [
    {
     "data": {
      "text/plain": [
       "<function __main__.print_greeting()>"
      ]
     },
     "execution_count": 2,
     "metadata": {},
     "output_type": "execute_result"
    }
   ],
   "source": [
    "print_greeting"
   ]
  },
  {
   "cell_type": "markdown",
   "id": "a9d838f0-67e6-46ff-9fec-1a86b82c5f30",
   "metadata": {},
   "source": [
    "- More useful when we can specify parameters when defining a function.\n",
    "    - These become variables when the function is executed.\n",
    "    - Are assigned the arguments in the call (i.e., the values passed to the function).\n",
    "    - If you don’t name the arguments when using them in the call, the arguments will be matched to parameters in the order the parameters are defined in the function."
   ]
  },
  {
   "cell_type": "code",
   "execution_count": 3,
   "id": "24f465dc-0eb2-4e92-a189-a9ed8c29deb9",
   "metadata": {},
   "outputs": [],
   "source": [
    "def print_date(year, month, day):\n",
    "    joined = str(year) + '/' + str(month) + '/' + str(day)\n",
    "    return print(joined)"
   ]
  },
  {
   "cell_type": "code",
   "execution_count": 4,
   "id": "dd9dcd08-b7d1-455f-8d42-fb217c92ccb8",
   "metadata": {},
   "outputs": [
    {
     "name": "stdout",
     "output_type": "stream",
     "text": [
      "1871/3/19\n"
     ]
    }
   ],
   "source": [
    "print_date(1871, 3, 19)"
   ]
  },
  {
   "cell_type": "code",
   "execution_count": 5,
   "id": "e5bb72fa-3472-4cf4-bf4c-1824e10f29db",
   "metadata": {},
   "outputs": [
    {
     "name": "stdout",
     "output_type": "stream",
     "text": [
      "1871/3/19\n"
     ]
    }
   ],
   "source": [
    "print_date(month=3, day=19, year=1871)"
   ]
  },
  {
   "cell_type": "markdown",
   "id": "56e8950b-d0f8-4455-84e2-091e15c738df",
   "metadata": {
    "slideshow": {
     "slide_type": "subslide"
    }
   },
   "source": [
    "- Let's create a temperature converter"
   ]
  },
  {
   "cell_type": "code",
   "execution_count": 6,
   "id": "32786b15-125b-43cf-a011-443515f2ab98",
   "metadata": {
    "slideshow": {
     "slide_type": "fragment"
    }
   },
   "outputs": [],
   "source": [
    "def celsiusToFahr(tempCelsius):\n",
    "    '''This function converts celsius to fahrenheit'''\n",
    "    celsius_value = 9/5 * tempCelsius + 32\n",
    "    return celsius_value"
   ]
  },
  {
   "cell_type": "code",
   "execution_count": 7,
   "id": "27b466f4-347f-4b8b-844e-cc6e687a774d",
   "metadata": {
    "slideshow": {
     "slide_type": "fragment"
    }
   },
   "outputs": [
    {
     "name": "stdout",
     "output_type": "stream",
     "text": [
      "The freezing point of water in Fahrenheit is: 32.0\n",
      "The boiling point of water in Fahrenheit is: 212.0\n"
     ]
    }
   ],
   "source": [
    "freezingPoint =  celsiusToFahr(0)\n",
    "\n",
    "print('The freezing point of water in Fahrenheit is:', freezingPoint)\n",
    "print('The boiling point of water in Fahrenheit is:', celsiusToFahr(100))"
   ]
  },
  {
   "cell_type": "markdown",
   "id": "74ce584b-3bc5-4c18-9903-e8df5b97d675",
   "metadata": {
    "colab_type": "text",
    "id": "rQ7m4bCqAcB9",
    "slideshow": {
     "slide_type": "subslide"
    }
   },
   "source": [
    "Having a **docstring** in the function it helps to know what the function is about through the python command line:"
   ]
  },
  {
   "cell_type": "code",
   "execution_count": 8,
   "id": "cbd77fa4-fe46-4aa4-bbd5-a36c0ba602f8",
   "metadata": {
    "colab": {},
    "colab_type": "code",
    "id": "X0wG5V-oAcB-",
    "outputId": "0ccca1a4-91ba-43fd-8747-6b3c637b2d53",
    "slideshow": {
     "slide_type": "subslide"
    }
   },
   "outputs": [
    {
     "name": "stdout",
     "output_type": "stream",
     "text": [
      "Help on function celsiusToFahr in module __main__:\n",
      "\n",
      "celsiusToFahr(tempCelsius)\n",
      "    This function converts celsius to fahrenheit\n",
      "\n"
     ]
    }
   ],
   "source": [
    "help(celsiusToFahr)"
   ]
  },
  {
   "cell_type": "markdown",
   "id": "86e07da4-aefa-4d0c-8d4d-8f21fd4b372b",
   "metadata": {
    "colab_type": "text",
    "id": "wMn-M9qCAcCA",
    "slideshow": {
     "slide_type": "fragment"
    }
   },
   "source": [
    "If you define a docstring for all of your functions, it makes it easier for other people to use them, since they can get help on the arguments and return values of the function.\n",
    "\n",
    "Next, note that rather than putting a comment in about what input values lead to errors, we have some testing of these values, followed by a warning if the value is invalid, and some conditional code to handle special cases."
   ]
  },
  {
   "cell_type": "markdown",
   "id": "0fdb0964-1b75-47a8-a8c2-7988a9979282",
   "metadata": {},
   "source": [
    "---\n",
    "## 3.2. Sharing is caring\n",
    "<a id=\"3.2\">\n"
   ]
  },
  {
   "cell_type": "markdown",
   "id": "d75b450d-393e-4a8a-8206-3cb29d3552ae",
   "metadata": {
    "slideshow": {
     "slide_type": "subslide"
    }
   },
   "source": [
    "- Posting your work in Github will automatically be rendered by **NBviewer**(https://nbviewer.jupyter.org/)\n",
    "\n",
    "- Uploading your work in **Google Colab** can make it sharable immediately (https://colab.research.google.com/)\n",
    "    \n",
    "\n",
    "- Markdown cells can contain embedded links and images\n",
    "\n",
    "Add a link using the following pattern: `[link text](URL_or_relative_path)`\n",
    "gives the clickable link: [Maastricht University](https://www.maastrichtuniversity.nl).\n",
    "\n",
    "Add an image using the following pattern: `![image alt text](URL_or_path)`\n",
    " embeds the following image: ![UM logo](https://logos-download.com/wp-content/uploads/2017/11/Maastricht_University_logo.png)"
   ]
  },
  {
   "cell_type": "markdown",
   "id": "2567df21-1a29-4542-9df0-c4d912dbd3a5",
   "metadata": {
    "slideshow": {
     "slide_type": "subslide"
    }
   },
   "source": [
    "- Markdown cells can include Latex Expressions\n",
    "\n",
    "Mathematical expessions can be rendered inline by wrapping a LaTeX expression (no spaces) with a $ either side.\n",
    "\n",
    "For example, `$e^x=\\sum_{i=0}^\\infty \\frac{1}{i!}x^i$` is rendered as the inline $e^x=\\sum_{i=0}^\\infty \\frac{1}{i!}x^i$ expression.\n",
    "\n",
    "Wrapping the expression with `$$` either side forces it to be rendered on a new line in the centre of the cell: $$e^x=\\sum_{i=0}^\\infty \\frac{1}{i!}x^i$$"
   ]
  },
  {
   "cell_type": "markdown",
   "id": "996e5b86-2a3e-4303-a07f-e6a6ae8c4173",
   "metadata": {
    "slideshow": {
     "slide_type": "slide"
    }
   },
   "source": [
    "- Checking Reproducibility\n",
    "\n",
    "One of the aims of using notebooks is to produce an executable document that can be rerun to reproduce the results.\n",
    "\n",
    "To run cells from scratch (i.e. from a fresh kernel), `Kernel -> Restart and Clear Output` and then run the cells you want.\n",
    "\n",
    "To run all the cells in the notebook from scratch: `Kernel -> Restart and Run All`"
   ]
  },
  {
   "cell_type": "markdown",
   "id": "48b8483c-cf75-4966-95ee-b571d9aec635",
   "metadata": {
    "slideshow": {
     "slide_type": "subslide"
    }
   },
   "source": [
    "- Licensing\n",
    "\n",
    "[Attribution 4.0 International (CC BY 4.0)](https://creativecommons.org/licenses/by/4.0/)  \n",
    "More info: https://reproducible-science-curriculum.github.io/sharing-RR-Jupyter/LICENSE.html"
   ]
  },
  {
   "cell_type": "markdown",
   "id": "07b955be-403d-4885-ad5a-18d7562f3448",
   "metadata": {},
   "source": [
    "---"
   ]
  },
  {
   "cell_type": "markdown",
   "id": "aa796f01-6c84-4aec-af19-6da3e1036102",
   "metadata": {},
   "source": [
    "#### <i style=\"color:red\">**EXERCISES - **</i>"
   ]
  },
  {
   "cell_type": "markdown",
   "id": "d14ef971-4694-4499-9599-b6e0017613cf",
   "metadata": {},
   "source": [
    "+ _1. Create a simple function that adds 100 to something.   \n",
    "    Fill the blanks and test it.\n",
    "\n",
    "```Python\n",
    "def adding100(i):\n",
    "    value = i + _____\n",
    "    return _____   \n",
    "```\n"
   ]
  },
  {
   "cell_type": "markdown",
   "id": "e2a3df26-6530-4526-8f8f-85e4af50345c",
   "metadata": {},
   "source": [
    "+ _2. Following up on the example.\n",
    "\n",
    "    We know now how to create a function to convert Celsius to Fahrenheit, let’s create another function called `kelvinsToCelsius`   \n",
    "    Fill the blanks and test it.\n",
    "    "
   ]
  },
  {
   "cell_type": "markdown",
   "id": "0d439d30-d99c-49ad-a9b9-6116a775a373",
   "metadata": {},
   "source": [
    "```Python\n",
    "___ kelvinsToCelsius(tempKelvins):\n",
    "    return tempKelvins ______\n",
    "```"
   ]
  },
  {
   "cell_type": "markdown",
   "id": "51f45093-e115-40bb-9293-472d34f7d1ed",
   "metadata": {
    "slideshow": {
     "slide_type": "fragment"
    }
   },
   "source": [
    "And let’s use it in the same way as the earlier one"
   ]
  },
  {
   "cell_type": "markdown",
   "id": "e7ce24ab-8848-4a7a-866a-f8f886748351",
   "metadata": {
    "slideshow": {
     "slide_type": "fragment"
    }
   },
   "source": [
    "```Python\n",
    "\n",
    "absoluteZero = kelvinsToCelsius(tempKelvins=0)\n",
    "\n",
    "print('Absolute zero in Celsius is:', absoluteZero)\n",
    "\n",
    "```"
   ]
  },
  {
   "cell_type": "markdown",
   "id": "8254783e-e0d5-4ce6-af29-b3c3c64d20ee",
   "metadata": {
    "slideshow": {
     "slide_type": "subslide"
    }
   },
   "source": [
    "What about converting Kelvins to Fahrenheit? We could write out a new formula for it, but we don’t need to. Instead, we can do the conversion using the two functions we have already created and calling those from the function we are now creating"
   ]
  },
  {
   "cell_type": "markdown",
   "id": "0420a8f8-ed05-43ba-a0cc-e1535e279f5e",
   "metadata": {
    "slideshow": {
     "slide_type": "fragment"
    }
   },
   "source": [
    "```Python\n",
    "def kelvinsToFahrenheit(______):\n",
    "    '''This function converts kelvin to fahrenheit'''\n",
    "    ______\n",
    "    ______\n",
    "    return ______\n",
    "```"
   ]
  },
  {
   "cell_type": "markdown",
   "id": "ba5ba102-85e7-40bf-9c4d-467de283dcff",
   "metadata": {
    "slideshow": {
     "slide_type": "subslide"
    }
   },
   "source": [
    "Finally use the function"
   ]
  },
  {
   "cell_type": "markdown",
   "id": "43bacfb4-ab05-4be3-b1b1-97801c62a012",
   "metadata": {
    "slideshow": {
     "slide_type": "fragment"
    }
   },
   "source": [
    "``` Python\n",
    "absoluteZeroF = kelvinsToFahrenheit(tempKelvins=0)\n",
    "\n",
    "print('Absolute zero in Fahrenheit is:', absoluteZeroF)\n",
    "```"
   ]
  },
  {
   "cell_type": "markdown",
   "id": "a2ca6b85-87dc-454f-8b7b-4966bd8e3280",
   "metadata": {},
   "source": [
    "+ _3. Add a License to your notebook and upload it to Google Colab"
   ]
  }
 ],
 "metadata": {
  "kernelspec": {
   "display_name": "Python 3",
   "language": "python",
   "name": "python3"
  },
  "language_info": {
   "codemirror_mode": {
    "name": "ipython",
    "version": 3
   },
   "file_extension": ".py",
   "mimetype": "text/x-python",
   "name": "python",
   "nbconvert_exporter": "python",
   "pygments_lexer": "ipython3",
   "version": "3.8.8"
  }
 },
 "nbformat": 4,
 "nbformat_minor": 5
}
