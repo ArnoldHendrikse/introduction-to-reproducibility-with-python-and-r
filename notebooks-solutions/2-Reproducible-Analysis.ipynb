{
 "cells": [
  {
   "cell_type": "markdown",
   "metadata": {
    "slideshow": {
     "slide_type": "slide"
    }
   },
   "source": [
    "## 🐍 Introduction to Reproducibility with Python\n",
    "\n",
    "*Notebook by [Pedro V Hernandez Serrano](https://github.com/pedrohserrano)*\n"
   ]
  },
  {
   "cell_type": "markdown",
   "metadata": {
    "slideshow": {
     "slide_type": "-"
    }
   },
   "source": [
    "---\n",
    "# 2. Reproducible Analysis in Jupyter Notebooks\n",
    "* [2.1. Creating basic functions](#3.1)\n",
    "* [2.2. Sharing is caring](#3.2)\n"
   ]
  },
  {
   "cell_type": "markdown",
   "metadata": {
    "colab_type": "text",
    "id": "vrRXNXdPAcBu",
    "slideshow": {
     "slide_type": "slide"
    }
   },
   "source": [
    "---\n",
    "## 2.1. Creating basic functions\n",
    "<a id=\"2.1\">"
   ]
  },
  {
   "cell_type": "markdown",
   "metadata": {},
   "source": [
    "A function is a block of organized, reusable code that can make scripts easier to read and simple to manage. We can think of functions as small, self-contained programs for specific tasks.\n",
    "\n",
    "We have already used some functions, such as the `print()` command, a built-in Python function. "
   ]
  },
  {
   "cell_type": "markdown",
   "metadata": {},
   "source": [
    "**Making a function in Python**\n",
    "- Begin the definition of a new function with **def**.\n",
    "- Followed by the name of the function.\n",
    "    - Must obey the same rules as variable names.\n",
    "- Then, the parameters are in parentheses.\n",
    "    - Empty parentheses if the function doesn’t take any inputs.\n",
    "- Then a colon.\n",
    "- Then, an indented block of code."
   ]
  },
  {
   "cell_type": "code",
   "execution_count": null,
   "metadata": {
    "tags": []
   },
   "outputs": [],
   "source": [
    "def print_greeting():\n",
    "    print('Hello! Maastricht')"
   ]
  },
  {
   "cell_type": "markdown",
   "metadata": {},
   "source": [
    "- Defining a function does not run it.\n",
    "    - Like assigning a value to a variable.\n",
    "- Must call the function to execute the code it contains."
   ]
  },
  {
   "cell_type": "code",
   "execution_count": null,
   "metadata": {
    "tags": []
   },
   "outputs": [],
   "source": [
    "print_greeting?"
   ]
  },
  {
   "cell_type": "code",
   "execution_count": null,
   "metadata": {
    "tags": []
   },
   "outputs": [],
   "source": [
    "print_greeting()"
   ]
  },
  {
   "cell_type": "markdown",
   "metadata": {},
   "source": [
    "- More useful when we can specify parameters when defining a function.\n",
    "    - These become variables when the function is executed.\n",
    "    - Are assigned the arguments in the call (i.e., the values passed to the function).\n",
    "    - If you don’t name the arguments when using them in the call, the arguments will be matched to parameters in the order the parameters are defined in the function."
   ]
  },
  {
   "cell_type": "code",
   "execution_count": null,
   "metadata": {
    "tags": []
   },
   "outputs": [],
   "source": [
    "str(1988) + '/' + str(9) + '/' + str(23)"
   ]
  },
  {
   "cell_type": "code",
   "execution_count": null,
   "metadata": {
    "tags": []
   },
   "outputs": [],
   "source": [
    "def print_date(year, month, day):\n",
    "    joined = str(year) + '/' + str(month) + '/' + str(day)\n",
    "    return print(joined)"
   ]
  },
  {
   "cell_type": "code",
   "execution_count": null,
   "metadata": {
    "tags": []
   },
   "outputs": [],
   "source": [
    "print_date(1871, 3, 19)"
   ]
  },
  {
   "cell_type": "code",
   "execution_count": null,
   "metadata": {
    "tags": []
   },
   "outputs": [],
   "source": [
    "print_date(month=3, year=1871, day=19)"
   ]
  },
  {
   "cell_type": "markdown",
   "metadata": {},
   "source": [
    "Most importantly, we want to automate calculations with functions\n",
    "\n",
    "    A function that is able to add 100 to a given X value.   \n",
    "\n",
    "```Python\n",
    "def _____(x):\n",
    "    value = x + _____\n",
    "    return _____   \n",
    "```\n"
   ]
  },
  {
   "cell_type": "markdown",
   "metadata": {},
   "source": [
    "---\n",
    "## 2.2. Data structures\n",
    "<a id=\"2.2\">"
   ]
  },
  {
   "cell_type": "markdown",
   "metadata": {
    "id": "zNLTL18adQ-Q"
   },
   "source": [
    "* Pandas is a widely-used Python library for handling data, particularly on tabular data.\n",
    "* Borrows many features from R's dataframes:\n",
    "  - Two-dimensional table whose columns have names and potentially have different types of data types/\n",
    "* Load it with `import pandas as pd`. The alias pd is commonly used for Pandas.\n",
    "* Pandas can handle virtually any kind of formats\n",
    "\n",
    "![](https://pandas.pydata.org/docs/_images/02_io_readwrite.svg)"
   ]
  },
  {
   "cell_type": "code",
   "execution_count": null,
   "metadata": {
    "tags": []
   },
   "outputs": [],
   "source": [
    "import pandas as pd"
   ]
  },
  {
   "cell_type": "code",
   "execution_count": null,
   "metadata": {
    "colab": {
     "base_uri": "https://localhost:8080/"
    },
    "id": "G6A8J_Lhctt5",
    "outputId": "cc725b62-d6ab-418f-85e0-a265cd687ea9",
    "tags": []
   },
   "outputs": [],
   "source": [
    "path = '../data/'"
   ]
  },
  {
   "cell_type": "markdown",
   "metadata": {
    "id": "2rx6etPweG7o"
   },
   "source": [
    "* The columns in a dataframe are the observed variables, and the rows are the observations.\n",
    "* Pandas uses backslash `\\` to show wrapped lines when the output is too wide to fit the screen.\n",
    "\n",
    "**File Not Found:**\n",
    "\n",
    "> Normally, data files in a `data` sub-directory, which is why the path to the file is `data/...csv`. If you forget to include `data/` or if you have it but your copy of the file is somewhere else, you will get a runtime error that ends with a line like this:\n",
    "\n",
    "`ERROR`: _OSError: File b'XXXXX.csv' does not exist_"
   ]
  },
  {
   "cell_type": "markdown",
   "metadata": {
    "id": "KakWCAxoYUEg"
   },
   "source": [
    "- A Dataframe is a collection of Series. \n",
    "- Dataframe is how Pandas represent a table, and Series is the data structure Pandas use to describe a column.\n",
    "- Pandas is built on top of the Numpy library, thus most of the methods defined for Numpy Arrays apply to Pandas Series/DataFrames.\n",
    "- Thus, Pandas can access individual table records, handling of missing values, and relational database operations between DataFrames."
   ]
  },
  {
   "cell_type": "code",
   "execution_count": null,
   "metadata": {
    "tags": []
   },
   "outputs": [],
   "source": [
    "# Basic representation of a dataframe\n",
    "dictionary = {'age': [20, 30], \n",
    "              'height': [1.80, 1.60], \n",
    "              'course':['Python', None]}\n",
    "\n",
    "# Define a dataframe\n",
    "df = pd.DataFrame(data=dictionary)\n",
    "\n",
    "# Print the dataframe\n",
    "df"
   ]
  },
  {
   "cell_type": "markdown",
   "metadata": {
    "id": "RkmwCa15f5lA"
   },
   "source": [
    "Use the `DataFrame.info()` method to find out more about a dataframe"
   ]
  },
  {
   "cell_type": "code",
   "execution_count": null,
   "metadata": {
    "colab": {
     "base_uri": "https://localhost:8080/"
    },
    "id": "fhF7JMuqgCSl",
    "outputId": "461ca322-d43c-49d6-a26d-c3eaa0a8f8d0",
    "tags": []
   },
   "outputs": [],
   "source": [
    "df.info()"
   ]
  },
  {
   "cell_type": "markdown",
   "metadata": {
    "id": "uUZNN7sfgNJd"
   },
   "source": [
    "* This is a DataFrame\n",
    "* Columns named `age`, `height` and `course`\n",
    "* Two actual 64-bit int values and one is floating point\n",
    "* The columns are not null\n",
    "* Uses 176 bytes of memory"
   ]
  },
  {
   "cell_type": "markdown",
   "metadata": {
    "id": "DfL-CSHSiXAj"
   },
   "source": [
    "The DataFrame.columns variable stores information about the dataframe's columns\n",
    "\n",
    "* Note that this is data, _not_ a method. (it doesn't have parentheses)\n",
    "  - Like `math.pi`\n",
    "  - So do not use `()` to call it"
   ]
  },
  {
   "cell_type": "code",
   "execution_count": null,
   "metadata": {
    "colab": {
     "base_uri": "https://localhost:8080/"
    },
    "id": "tgsIlosei0Tz",
    "outputId": "8ec2c2cc-472c-4417-da1d-861b9e322bdc",
    "tags": []
   },
   "outputs": [],
   "source": [
    "df.columns"
   ]
  },
  {
   "cell_type": "markdown",
   "metadata": {
    "id": "mIUo3PO6i-s0"
   },
   "source": [
    "Use `DataFrame.T` to transpose a dataframe:\n",
    "\n",
    "* Sometimes want to treat columns as rows and vice versa.\n",
    "* Transpose (written `.T`) doesn't copy the data, just changes the program's view of it.\n",
    "* Like `columns`, it is a member variable\n"
   ]
  },
  {
   "cell_type": "code",
   "execution_count": null,
   "metadata": {
    "colab": {
     "base_uri": "https://localhost:8080/",
     "height": 421
    },
    "id": "gzEYw1Slj5ZA",
    "outputId": "c5bb7900-166b-493e-ad50-5ee1e95c0a2a",
    "tags": []
   },
   "outputs": [],
   "source": [
    "df.T"
   ]
  },
  {
   "cell_type": "markdown",
   "metadata": {
    "id": "lYXaxYJzkA27"
   },
   "source": [
    "Use `DataFrame.describe()` to get summary statistics about data\n",
    "\n",
    "`DataFrame.describe()` gets the summary statistics of only the columns that have numerical data. All other columns are ignored, unless you use the argument `include = 'all'` "
   ]
  },
  {
   "cell_type": "code",
   "execution_count": null,
   "metadata": {
    "colab": {
     "base_uri": "https://localhost:8080/",
     "height": 317
    },
    "id": "z5QUhwiqkc8T",
    "outputId": "086088ad-a755-45a3-a13e-991ba5ce5b3e",
    "tags": []
   },
   "outputs": [],
   "source": [
    "df.describe()"
   ]
  },
  {
   "cell_type": "markdown",
   "metadata": {},
   "source": [
    "Make use of a list to select desired columns and create a subset"
   ]
  },
  {
   "cell_type": "code",
   "execution_count": null,
   "metadata": {
    "tags": []
   },
   "outputs": [],
   "source": [
    "# Desired columns\n",
    "my_columns = ['age','course']\n",
    "\n",
    "# Selection of subset\n",
    "df[my_columns]"
   ]
  },
  {
   "cell_type": "markdown",
   "metadata": {},
   "source": [
    "Use `DataFrame.to_csv()` to generate a CSV file as result of the analysed dataframe"
   ]
  },
  {
   "cell_type": "code",
   "execution_count": null,
   "metadata": {},
   "outputs": [],
   "source": [
    "#df[my_columns].to_csv('this_is_an_example.csv', index=False)"
   ]
  },
  {
   "cell_type": "markdown",
   "metadata": {},
   "source": [
    "---\n",
    "## 2.3. Sharing Jupyter Notebooks\n",
    "<a id=\"2.3\">\n"
   ]
  },
  {
   "cell_type": "markdown",
   "metadata": {
    "slideshow": {
     "slide_type": "subslide"
    }
   },
   "source": [
    "- Posting your work in Github will automatically be rendered by **NBviewer:** [nbviewer.jupyter.org/](https://nbviewer.jupyter.org/)\n",
    "\n",
    "- Uploading your work in **Google Colab** can make it sharable: [colab.research.google.com/](https://colab.research.google.com/)  \n",
    "**Note:** Never upload personal data to Google Colab or any other Google Drive service as it's considered processing personal data and involves the risk of infringement of data protection laws. \n",
    "\n",
    "- Markdown cells can contain embedded links and images\n",
    "\n",
    ">Add a link using the following pattern: `[link text](URL_or_relative_path)`\n",
    "gives the clickable link: [Maastricht University](https://www.maastrichtuniversity.nl).\n",
    "\n",
    ">Add an image using the following pattern: `![image alt text](URL_or_path)`\n",
    " embeds the following image: ![UM logo](https://logos-download.com/wp-content/uploads/2017/11/Maastricht_University_logo.png)"
   ]
  },
  {
   "cell_type": "markdown",
   "metadata": {
    "slideshow": {
     "slide_type": "subslide"
    }
   },
   "source": [
    "- Markdown cells can include Latex Expressions with a $ on either side.\n",
    "\n",
    "> For example, `$e^x=\\sum_{i=0}^\\infty \\frac{1}{i!}x^i$` is rendered as the inline $e^x=\\sum_{i=0}^\\infty \\frac{1}{i!}x^i$ expression.\n",
    "\n",
    "> Wrapping the expression with `$$` on either side forces it to be rendered on a new line in the centre of the cell: $$e^x=\\sum_{i=0}^\\infty \\frac{1}{i!}x^i$$"
   ]
  },
  {
   "cell_type": "markdown",
   "metadata": {
    "slideshow": {
     "slide_type": "slide"
    }
   },
   "source": [
    "- Checking Reproducibility\n",
    "\n",
    "> One purpose of notebooks is to produce an executable document that can be rerun to reproduce the results.\n",
    "\n",
    "> To run cells from scratch (i.e. from a fresh kernel), `Kernel -> Restart and Clear Output` and then run the cells you want.\n",
    "\n",
    "> To run all the cells in the notebook from scratch: `Kernel -> Restart and Run All`"
   ]
  },
  {
   "cell_type": "markdown",
   "metadata": {
    "tags": []
   },
   "source": [
    "- Freezing the environment\n",
    "\n",
    "> `! conda list --export > requirements.txt`\n",
    "\n",
    "Or simply watermarking the notebook\n",
    "\n",
    "> `!pip install -q watermark`\n",
    "\n",
    "> Load the watermark extension\n",
    "`%load_ext watermark`\n",
    "\n",
    "> Show packages that were imported\n",
    "`%watermark --iversions`"
   ]
  },
  {
   "cell_type": "markdown",
   "metadata": {
    "slideshow": {
     "slide_type": "subslide"
    }
   },
   "source": [
    "- Notebook Licensing\n",
    "\n",
    "[Attribution 4.0 International (CC BY 4.0)](https://creativecommons.org/licenses/by/4.0/)  \n",
    "More tips at: [Reproducible science curriculum, Carpentries lesson](https://reproducible-science-curriculum.github.io/sharing-RR-Jupyter/LICENSE.html)"
   ]
  },
  {
   "cell_type": "markdown",
   "metadata": {},
   "source": [
    "---"
   ]
  },
  {
   "cell_type": "markdown",
   "metadata": {},
   "source": [
    "## 🙌🏼 Hands-on"
   ]
  },
  {
   "cell_type": "markdown",
   "metadata": {},
   "source": [
    "The following exercise aims to practice the creation of modular Python functions.   \n",
    "We will **develop functions to compute 1) Height in meters, 2) Body Mass Index (BMI), and 3) Body Fat Percentage (BFP)**. Finally, we will encapsulate these functions within a Python class and export them to a standalone `.py` file."
   ]
  },
  {
   "cell_type": "markdown",
   "metadata": {},
   "source": [
    "- **Exercise 1:** Develop a function that converts the input **h** (height) in meters based on a metric **m**\n",
    "\n",
    "$$\n",
    "\\text{height in meters }(h, \\text{metric}) = \n",
    "\\begin{cases} \n",
    "h & \\text{if metric = 'm'} \\\\ \n",
    "\\frac{h}{100} & \\text{if metric = 'cm'} \\\\\n",
    "h \\times 0.3048 & \\text{if metric = 'ft'} \\\\\n",
    "\\text{Error} & \\text{otherwise}\n",
    "\\end{cases}\n",
    "$$\n",
    "\n",
    "See: [Wikipedia - foot (unit)](https://en.wikipedia.org/wiki/Foot_(unit))"
   ]
  },
  {
   "cell_type": "markdown",
   "metadata": {
    "tags": []
   },
   "source": [
    "**Hint:**\n",
    "```Python\n",
    "def height_in_meters(height, metric):\n",
    "    if metric == 'm':\n",
    "        return height\n",
    "    elif _____ :\n",
    "        _____ _____\n",
    "    elif _____ :\n",
    "        _____ _____ \n",
    "    else:\n",
    "        raise ValueError(\"Unknown metric unit\")\n",
    "```"
   ]
  },
  {
   "cell_type": "code",
   "execution_count": null,
   "metadata": {
    "tags": []
   },
   "outputs": [],
   "source": [
    "# Answer\n",
    "def height_in_meters(height, metric):\n",
    "    if metric == 'cm':\n",
    "        return round(height / 100, 2)  # Convert centimeters to meters\n",
    "    elif metric == 'ft':\n",
    "        return round(height * 0.3048, 2)  # Convert feet to meters\n",
    "    elif metric == 'm':\n",
    "        return height  # No conversion needed if already in meters\n",
    "    else:\n",
    "        raise ValueError(\"Unknown metric unit\")"
   ]
  },
  {
   "cell_type": "markdown",
   "metadata": {},
   "source": [
    "- Test your formula with the following values\n",
    "```Python\n",
    "height = 5.51\n",
    "metric = 'ft'\n",
    "```\n",
    "---"
   ]
  },
  {
   "cell_type": "markdown",
   "metadata": {},
   "source": [
    "- **Exercise 2:** Develop a function that calculates the body-mass index (BMI), body mass divided by the square of the body height\n",
    "\n",
    "$$\n",
    "\\text{BMI }(\\text{weight}, \\text{height}) = \\frac{\\text{weight(kg)}}{\\text{height(m)}^2}\n",
    "$$\n",
    "\n",
    "See: [Wikipedia - Body mass index](https://simple.wikipedia.org/wiki/Body_mass_index)"
   ]
  },
  {
   "cell_type": "markdown",
   "metadata": {},
   "source": [
    "**Hint:**\n",
    "\n",
    "```Python\n",
    "def calculate_bmi(_____, _____):\n",
    "    bmi = _____ / _____\n",
    "    return bmi\n",
    "```"
   ]
  },
  {
   "cell_type": "code",
   "execution_count": null,
   "metadata": {
    "tags": []
   },
   "outputs": [],
   "source": [
    "# Answer\n",
    "def calculate_bmi(weight, height):\n",
    "    bmi = weight / (height ** 2)\n",
    "    return round(bmi, 2)"
   ]
  },
  {
   "cell_type": "markdown",
   "metadata": {},
   "source": [
    "- Test your formula with the following values\n",
    "```Python\n",
    "weight = 71\n",
    "height = '1.77'\n",
    "```\n",
    "---"
   ]
  },
  {
   "cell_type": "markdown",
   "metadata": {},
   "source": [
    "- **Exercise 3:** Develop a function that calculates the Body fat percentage (BFP); total mass of fat divided by total body mass, multiplied by 100:\n",
    "\n",
    "$$\n",
    "\\text{BFP }(\\text{fat mass}, \\text{weight}) = \\left(\\frac{\\text{fat mass (kg)}}{\\text{weight(kg)}}\\right) \\times 100\n",
    "$$\n",
    "\n",
    "See: [Wikipedia - Body fat percentage](https://en.wikipedia.org/wiki/Body_fat_percentage#References)"
   ]
  },
  {
   "cell_type": "markdown",
   "metadata": {},
   "source": [
    "**Hint:**\n",
    "\n",
    "```Python\n",
    "def _____ (_____, _____):\n",
    "    _____ _____ _____\n",
    "    return _____\n",
    "```"
   ]
  },
  {
   "cell_type": "code",
   "execution_count": null,
   "metadata": {
    "tags": []
   },
   "outputs": [],
   "source": [
    "# Answer\n",
    "def calculate_bfp(fat_mass, weight):\n",
    "    bfp = (fat_mass / weight) * 100\n",
    "    return round(bfp, 2)"
   ]
  },
  {
   "cell_type": "markdown",
   "metadata": {},
   "source": [
    "- Test your formula with the following values\n",
    "```Python\n",
    "weight = 87\n",
    "fat_mass = 22\n",
    "```\n",
    "---"
   ]
  },
  {
   "cell_type": "markdown",
   "metadata": {},
   "source": [
    "- **Exercise 4:** Apply the previously created functions to create 3 new columns in the following synthetic dataset.   The dataset contains 4 columns/variables\n",
    "\n",
    "Here are the first few rows of the synthetic dataset:\n",
    "\n",
    "| ID  | Weight    | Fat_Mass  | Height  | Metric |\n",
    "|-----|-----------|-----------|---------|--------|\n",
    "| ID1 | 77.44 kg  | 10.29 kg  | 1.58 m  | m      |\n",
    "| ID2 | 85.76 kg  | 20.48 kg  | 5.10 ft | ft     |\n",
    "| ID3 | 80.14 kg  | 14.12 kg  | 1.83 m  | m      |\n",
    "\n",
    "Generate new columns\n",
    "\n",
    "| ID  | Weight    | Fat_Mass  | Height  | Metric | Height in meters | BMI | BFP |\n",
    "|-----|-----------|-----------|---------|--------|--------|--------|--------|\n",
    "| ID1 | 77.44 kg  | 10.29 kg  | 1.58 m  | m      | ? | ? | ? |\n",
    "| ID2 | 85.76 kg  | 20.48 kg  | 5.10 ft | ft     | ? | ? | ? |\n",
    "| ID3 | 80.14 kg  | 14.12 kg  | 1.83 m  | m      | ? | ? | ? |\n"
   ]
  },
  {
   "cell_type": "markdown",
   "metadata": {},
   "source": [
    "**Hint:**\n",
    "\n",
    "```Python\n",
    "import pandas as pd\n",
    "\n",
    "df = pd.read_csv('../data/synthetic_dataset.csv')\n",
    "\n",
    "# Apply the formulas to create new variables/columns\n",
    "df['Height_in_Meters'] = _____\n",
    "df['BMI'] = _____\n",
    "df['BFP'] = _____\n",
    "\n",
    "# Descriptive statistics\n",
    "print(df.describe())\n",
    "```\n",
    "---"
   ]
  },
  {
   "cell_type": "markdown",
   "metadata": {},
   "source": [
    "- **Exercise 5:** Export the new dataset as CSV into the `data_output` and call it `\"updated_synthetic_dataset.csv\"`\n",
    "\n",
    "- **(BONUS) Exercise 6:** Generate histogram plots using `seaborn` Python package ([seaborn.pydata.org/](https://seaborn.pydata.org/)).  \n",
    "Save the images into `data_output` folder too"
   ]
  },
  {
   "cell_type": "code",
   "execution_count": null,
   "metadata": {
    "tags": []
   },
   "outputs": [],
   "source": [
    "import pandas as pd\n",
    "\n",
    "# Load the dataset\n",
    "df = pd.read_csv('../data/synthetic_dataset.csv')\n",
    "\n",
    "# Apply the formulas to create new variables\n",
    "df['Height_in_Meters'] = df.apply(lambda x: height_in_meters(x['Height'], x['Metric']), axis=1)\n",
    "df['BMI'] = df.apply(lambda x: calculate_bmi(x['Weight'], x['Height_in_Meters']), axis=1)  # Using 'm' since height is converted to meters\n",
    "df['BFP'] = df.apply(lambda x: calculate_bfp(x['Fat_Mass'], x['Weight']), axis=1)\n",
    "\n",
    "# Perform simple descriptive statistics\n",
    "print(df.describe())\n",
    "print(df.describe(include=[object]))\n",
    "\n",
    "# Save the updated DataFrame with new variables\n",
    "df.to_csv('../data_outputs/updated_synthetic_dataset.csv', index=False)\n",
    "\n",
    "print(\"Updated dataset saved successfully with new variables for height in meters, BMI, and BFP.\")\n"
   ]
  }
 ],
 "metadata": {
  "celltoolbar": "Slideshow",
  "colab": {
   "collapsed_sections": [],
   "name": "1st Block (Intro DS with Python).ipynb",
   "provenance": [],
   "toc_visible": true,
   "version": "0.3.2"
  },
  "kernelspec": {
   "display_name": "Python 3 (ipykernel)",
   "language": "python",
   "name": "python3"
  },
  "language_info": {
   "codemirror_mode": {
    "name": "ipython",
    "version": 3
   },
   "file_extension": ".py",
   "mimetype": "text/x-python",
   "name": "python",
   "nbconvert_exporter": "python",
   "pygments_lexer": "ipython3",
   "version": "3.11.5"
  }
 },
 "nbformat": 4,
 "nbformat_minor": 4
}
